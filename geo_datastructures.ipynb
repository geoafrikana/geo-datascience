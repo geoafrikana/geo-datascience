{
  "nbformat": 4,
  "nbformat_minor": 0,
  "metadata": {
    "colab": {
      "name": "geo_datastructures.ipynb",
      "provenance": [],
      "collapsed_sections": [],
      "mount_file_id": "1Gr9PVja0exj1InbZ34j4Xz1ac31gJKLN",
      "authorship_tag": "ABX9TyM0zUZC33nWZ58iVhU7dQpi",
      "include_colab_link": true
    },
    "kernelspec": {
      "name": "python3",
      "display_name": "Python 3"
    },
    "language_info": {
      "name": "python"
    }
  },
  "cells": [
    {
      "cell_type": "markdown",
      "metadata": {
        "id": "view-in-github",
        "colab_type": "text"
      },
      "source": [
        "<a href=\"https://colab.research.google.com/github/geoafrikana/geo-datascience/blob/main/geo_datastructures.ipynb\" target=\"_parent\"><img src=\"https://colab.research.google.com/assets/colab-badge.svg\" alt=\"Open In Colab\"/></a>"
      ]
    },
    {
      "cell_type": "markdown",
      "source": [
        "This notebook explores the three major data structures used for representing geography in Python; Rasters (aka Surfaces), GeoDataFrames and Graphs.\n",
        "\n",
        "The raster data structure was explored using the xarray and rioxarray libraries.\n",
        "GeoDataFrames was explored using the GeoPandas library.\n",
        "Finally, graph datastructure was explored using the osmnx library."
      ],
      "metadata": {
        "id": "PN7xbc_AUtJ9"
      }
    },
    {
      "cell_type": "code",
      "source": [
        "!pip install geopandas contextily osmnx xarray datashader rioxarray shapely pysal -q"
      ],
      "metadata": {
        "colab": {
          "base_uri": "https://localhost:8080/"
        },
        "id": "1QajdMRkqFFz",
        "outputId": "7b3c2702-a892-45f9-8da9-f8f4e0593752"
      },
      "execution_count": 1,
      "outputs": [
        {
          "output_type": "stream",
          "name": "stdout",
          "text": [
            "\u001b[K     |████████████████████████████████| 1.0 MB 4.9 MB/s \n",
            "\u001b[K     |████████████████████████████████| 95 kB 5.3 MB/s \n",
            "\u001b[K     |████████████████████████████████| 18.2 MB 725 kB/s \n",
            "\u001b[K     |████████████████████████████████| 47 kB 3.9 MB/s \n",
            "\u001b[?25h  Installing build dependencies ... \u001b[?25l\u001b[?25hdone\n",
            "  Getting requirements to build wheel ... \u001b[?25l\u001b[?25hdone\n",
            "    Preparing wheel metadata ... \u001b[?25l\u001b[?25hdone\n",
            "\u001b[K     |████████████████████████████████| 6.3 MB 34.0 MB/s \n",
            "\u001b[K     |████████████████████████████████| 16.7 MB 352 kB/s \n",
            "\u001b[K     |████████████████████████████████| 19.3 MB 44.6 MB/s \n",
            "\u001b[K     |████████████████████████████████| 1.0 MB 40.6 MB/s \n",
            "\u001b[K     |████████████████████████████████| 11.2 MB 38.3 MB/s \n",
            "\u001b[K     |████████████████████████████████| 62 kB 972 kB/s \n",
            "\u001b[K     |████████████████████████████████| 944 kB 30.3 MB/s \n",
            "\u001b[K     |████████████████████████████████| 76 kB 4.5 MB/s \n",
            "\u001b[K     |████████████████████████████████| 837 kB 43.8 MB/s \n",
            "\u001b[K     |████████████████████████████████| 140 kB 49.0 MB/s \n",
            "\u001b[K     |████████████████████████████████| 830 kB 39.8 MB/s \n",
            "\u001b[K     |████████████████████████████████| 822 kB 41.3 MB/s \n",
            "\u001b[K     |████████████████████████████████| 802 kB 42.6 MB/s \n",
            "\u001b[K     |████████████████████████████████| 802 kB 41.5 MB/s \n",
            "\u001b[K     |████████████████████████████████| 793 kB 14.2 MB/s \n",
            "\u001b[K     |████████████████████████████████| 793 kB 11.1 MB/s \n",
            "\u001b[K     |████████████████████████████████| 791 kB 61.2 MB/s \n",
            "\u001b[K     |████████████████████████████████| 786 kB 64.7 MB/s \n",
            "\u001b[K     |████████████████████████████████| 779 kB 45.7 MB/s \n",
            "\u001b[K     |████████████████████████████████| 778 kB 69.7 MB/s \n",
            "\u001b[K     |████████████████████████████████| 776 kB 50.6 MB/s \n",
            "\u001b[K     |████████████████████████████████| 769 kB 50.5 MB/s \n",
            "\u001b[K     |████████████████████████████████| 766 kB 13.4 MB/s \n",
            "\u001b[K     |████████████████████████████████| 1.0 MB 49.6 MB/s \n",
            "\u001b[K     |████████████████████████████████| 722 kB 48.0 MB/s \n",
            "\u001b[K     |████████████████████████████████| 722 kB 47.0 MB/s \n",
            "\u001b[K     |████████████████████████████████| 715 kB 66.5 MB/s \n",
            "\u001b[K     |████████████████████████████████| 705 kB 60.0 MB/s \n",
            "\u001b[K     |████████████████████████████████| 699 kB 71.0 MB/s \n",
            "\u001b[K     |████████████████████████████████| 696 kB 41.3 MB/s \n",
            "\u001b[K     |████████████████████████████████| 684 kB 59.3 MB/s \n",
            "\u001b[K     |████████████████████████████████| 679 kB 33.9 MB/s \n",
            "\u001b[K     |████████████████████████████████| 675 kB 15.4 MB/s \n",
            "\u001b[K     |████████████████████████████████| 675 kB 43.7 MB/s \n",
            "\u001b[K     |████████████████████████████████| 672 kB 46.6 MB/s \n",
            "\u001b[K     |████████████████████████████████| 671 kB 13.0 MB/s \n",
            "\u001b[K     |████████████████████████████████| 669 kB 65.8 MB/s \n",
            "\u001b[K     |████████████████████████████████| 656 kB 54.7 MB/s \n",
            "\u001b[K     |████████████████████████████████| 95 kB 3.5 MB/s \n",
            "\u001b[K     |████████████████████████████████| 5.7 MB 47.5 MB/s \n",
            "\u001b[K     |████████████████████████████████| 2.4 MB 41.9 MB/s \n",
            "\u001b[K     |████████████████████████████████| 147 kB 70.1 MB/s \n",
            "\u001b[K     |████████████████████████████████| 60 kB 7.6 MB/s \n",
            "\u001b[K     |████████████████████████████████| 41 kB 440 kB/s \n",
            "\u001b[K     |████████████████████████████████| 209 kB 55.5 MB/s \n",
            "\u001b[K     |████████████████████████████████| 243 kB 57.8 MB/s \n",
            "\u001b[K     |████████████████████████████████| 84 kB 3.9 MB/s \n",
            "\u001b[K     |████████████████████████████████| 46 kB 3.5 MB/s \n",
            "\u001b[K     |████████████████████████████████| 55 kB 2.5 MB/s \n",
            "\u001b[K     |████████████████████████████████| 179 kB 56.0 MB/s \n",
            "\u001b[K     |████████████████████████████████| 2.1 MB 44.0 MB/s \n",
            "\u001b[K     |████████████████████████████████| 67.1 MB 38 kB/s \n",
            "\u001b[K     |████████████████████████████████| 78 kB 6.9 MB/s \n",
            "\u001b[K     |████████████████████████████████| 183 kB 58.8 MB/s \n",
            "\u001b[K     |████████████████████████████████| 14.2 MB 3.5 MB/s \n",
            "\u001b[K     |████████████████████████████████| 596 kB 6.5 MB/s \n",
            "\u001b[K     |████████████████████████████████| 132 kB 60.0 MB/s \n",
            "\u001b[K     |████████████████████████████████| 79 kB 8.2 MB/s \n",
            "\u001b[K     |████████████████████████████████| 9.0 MB 42.2 MB/s \n",
            "\u001b[K     |████████████████████████████████| 139 kB 62.2 MB/s \n",
            "\u001b[K     |████████████████████████████████| 130 kB 70.1 MB/s \n",
            "\u001b[?25h  Building wheel for datashape (setup.py) ... \u001b[?25l\u001b[?25hdone\n",
            "  Building wheel for rioxarray (PEP 517) ... \u001b[?25l\u001b[?25hdone\n",
            "  Building wheel for esda (setup.py) ... \u001b[?25l\u001b[?25hdone\n",
            "  Building wheel for inequality (setup.py) ... \u001b[?25l\u001b[?25hdone\n",
            "  Building wheel for mgwr (setup.py) ... \u001b[?25l\u001b[?25hdone\n",
            "  Building wheel for pointpats (setup.py) ... \u001b[?25l\u001b[?25hdone\n",
            "  Building wheel for rvlib (setup.py) ... \u001b[?25l\u001b[?25hdone\n",
            "  Building wheel for spglm (setup.py) ... \u001b[?25l\u001b[?25hdone\n",
            "  Building wheel for spint (setup.py) ... \u001b[?25l\u001b[?25hdone\n",
            "  Building wheel for spvcm (setup.py) ... \u001b[?25l\u001b[?25hdone\n",
            "\u001b[31mERROR: pip's dependency resolver does not currently take into account all the packages that are installed. This behaviour is the source of the following dependency conflicts.\n",
            "gym 0.17.3 requires cloudpickle<1.7.0,>=1.2.0, but you have cloudpickle 2.1.0 which is incompatible.\n",
            "google-colab 1.0.0 requires requests~=2.23.0, but you have requests 2.28.1 which is incompatible.\n",
            "datascience 0.10.6 requires folium==0.2.1, but you have folium 0.8.3 which is incompatible.\n",
            "albumentations 0.1.12 requires imgaug<0.2.7,>=0.2.5, but you have imgaug 0.2.9 which is incompatible.\u001b[0m\n"
          ]
        }
      ]
    },
    {
      "cell_type": "markdown",
      "source": [
        "The cell below unistalls the default matplotlib version.\n",
        "\n",
        "Then installs the most recent stable version of matplotlib.\n",
        "\n",
        "Not running the cell could result in `cannot import name '_png' from 'matplotlib'` error.\n",
        "\n"
      ],
      "metadata": {
        "id": "ujO0dDyocqP1"
      }
    },
    {
      "cell_type": "code",
      "source": [
        "!pip uninstall matplotlib\n",
        "!pip install -U matplotlib"
      ],
      "metadata": {
        "colab": {
          "base_uri": "https://localhost:8080/",
          "height": 661
        },
        "id": "l8sSVe2HbvAx",
        "outputId": "1e5bbf0a-912b-4411-8ea3-ac6a806ce40a"
      },
      "execution_count": 37,
      "outputs": [
        {
          "output_type": "stream",
          "name": "stdout",
          "text": [
            "Found existing installation: matplotlib 3.5.2\n",
            "Uninstalling matplotlib-3.5.2:\n",
            "  Would remove:\n",
            "    /usr/local/lib/python3.7/dist-packages/matplotlib-3.5.2-py3.7-nspkg.pth\n",
            "    /usr/local/lib/python3.7/dist-packages/matplotlib-3.5.2.dist-info/*\n",
            "    /usr/local/lib/python3.7/dist-packages/matplotlib/*\n",
            "    /usr/local/lib/python3.7/dist-packages/mpl_toolkits/axes_grid/*\n",
            "    /usr/local/lib/python3.7/dist-packages/mpl_toolkits/axes_grid1/*\n",
            "    /usr/local/lib/python3.7/dist-packages/mpl_toolkits/axisartist/*\n",
            "    /usr/local/lib/python3.7/dist-packages/mpl_toolkits/mplot3d/*\n",
            "    /usr/local/lib/python3.7/dist-packages/mpl_toolkits/tests/*\n",
            "    /usr/local/lib/python3.7/dist-packages/pylab.py\n",
            "Proceed (y/n)? y\n",
            "  Successfully uninstalled matplotlib-3.5.2\n",
            "Looking in indexes: https://pypi.org/simple, https://us-python.pkg.dev/colab-wheels/public/simple/\n",
            "Collecting matplotlib\n",
            "  Using cached matplotlib-3.5.2-cp37-cp37m-manylinux_2_5_x86_64.manylinux1_x86_64.whl (11.2 MB)\n",
            "Requirement already satisfied: fonttools>=4.22.0 in /usr/local/lib/python3.7/dist-packages (from matplotlib) (4.34.4)\n",
            "Requirement already satisfied: cycler>=0.10 in /usr/local/lib/python3.7/dist-packages (from matplotlib) (0.11.0)\n",
            "Requirement already satisfied: numpy>=1.17 in /usr/local/lib/python3.7/dist-packages (from matplotlib) (1.21.6)\n",
            "Requirement already satisfied: python-dateutil>=2.7 in /usr/local/lib/python3.7/dist-packages (from matplotlib) (2.8.2)\n",
            "Requirement already satisfied: kiwisolver>=1.0.1 in /usr/local/lib/python3.7/dist-packages (from matplotlib) (1.4.3)\n",
            "Requirement already satisfied: pillow>=6.2.0 in /usr/local/lib/python3.7/dist-packages (from matplotlib) (7.1.2)\n",
            "Requirement already satisfied: pyparsing>=2.2.1 in /usr/local/lib/python3.7/dist-packages (from matplotlib) (3.0.9)\n",
            "Requirement already satisfied: packaging>=20.0 in /usr/local/lib/python3.7/dist-packages (from matplotlib) (21.3)\n",
            "Requirement already satisfied: typing-extensions in /usr/local/lib/python3.7/dist-packages (from kiwisolver>=1.0.1->matplotlib) (4.1.1)\n",
            "Requirement already satisfied: six>=1.5 in /usr/local/lib/python3.7/dist-packages (from python-dateutil>=2.7->matplotlib) (1.15.0)\n",
            "Installing collected packages: matplotlib\n",
            "\u001b[31mERROR: pip's dependency resolver does not currently take into account all the packages that are installed. This behaviour is the source of the following dependency conflicts.\n",
            "albumentations 0.1.12 requires imgaug<0.2.7,>=0.2.5, but you have imgaug 0.2.9 which is incompatible.\u001b[0m\n",
            "Successfully installed matplotlib-3.5.2\n"
          ]
        },
        {
          "output_type": "display_data",
          "data": {
            "application/vnd.colab-display-data+json": {
              "pip_warning": {
                "packages": [
                  "matplotlib",
                  "mpl_toolkits"
                ]
              }
            }
          },
          "metadata": {}
        }
      ]
    },
    {
      "cell_type": "code",
      "execution_count": 2,
      "metadata": {
        "id": "kmUyJDIAp6Kg",
        "colab": {
          "base_uri": "https://localhost:8080/"
        },
        "outputId": "21e4ab9f-1adf-4e8e-e6a1-0618bed2ec3e"
      },
      "outputs": [
        {
          "output_type": "stream",
          "name": "stderr",
          "text": [
            "/usr/local/lib/python3.7/dist-packages/geopandas/_compat.py:115: UserWarning: The Shapely GEOS version (3.10.2-CAPI-1.16.0) is incompatible with the GEOS version PyGEOS was compiled with (3.10.1-CAPI-1.16.0). Conversions between both will be slow.\n",
            "  shapely_geos_version, geos_capi_version_string\n"
          ]
        }
      ],
      "source": [
        "import numpy, pandas, osmnx, geopandas, rioxarray, xarray, datashader, requests, contextily as cx, seaborn\n",
        "from shapely import geometry\n",
        "import matplotlib.pyplot as plt\n",
        "from pysal.lib import cg"
      ]
    },
    {
      "cell_type": "code",
      "source": [
        "countries_cleaned_url = 'https://geographicdata.science/book/_downloads/aa6db374135e277124917938efb06371/countries_clean.gpkg'\n",
        "tokyo_cleaned_url = 'https://geographicdata.science/book/_downloads/7fb86b605af15b3c9cbd9bfcbead23e9/tokyo_clean.csv'\n",
        "sao_paolo_url = 'https://geographicdata.science/book/_downloads/5263090bd0bdbd7d1635505ff7d36d04/ghsl_sao_paulo.tif'\n",
        "san_diego_url = 'https://geographicdata.science/book/_downloads/f2341ee89163afe06b42fc5d5ed38060/sandiego_tracts.gpkg'\n",
        "nasa_dem_url = 'https://geographicdata.science/book/_downloads/9287b38e4d53d9d500df367d8e678465/nasadem_sd.tif'\n",
        "urls = [{'url':countries_cleaned_url, 'name':'countries_clean.gpkg'},\n",
        "        {'url':tokyo_cleaned_url, 'name':'tokyo_clean.csv'},\n",
        "        {'url':sao_paolo_url, 'name':'sao_paolo.tif'},\n",
        "        {'url':san_diego_url, 'name':'sao_diego.gpkg'},\n",
        "        {'url':nasa_dem_url, 'name':'nasa_dem.tif'}\n",
        "]"
      ],
      "metadata": {
        "id": "GhDaQ8x4qEf8"
      },
      "execution_count": 52,
      "outputs": []
    },
    {
      "cell_type": "code",
      "source": [
        "def down(url, name):\n",
        "  r = requests.get(url, allow_redirects=True)\n",
        "  open(name, 'wb').write(r.content)"
      ],
      "metadata": {
        "id": "EnbNAVVRrtg9"
      },
      "execution_count": 53,
      "outputs": []
    },
    {
      "cell_type": "code",
      "source": [
        "for uri in urls:\n",
        "  down(uri['url'], uri['name'])"
      ],
      "metadata": {
        "id": "s7FuytpAX6TX"
      },
      "execution_count": 54,
      "outputs": []
    },
    {
      "cell_type": "code",
      "source": [
        "gt_polygons = geopandas.read_file('/content/countries_clean.gpkg')\n",
        "# /content/countries_cleaned.gpkg"
      ],
      "metadata": {
        "id": "fHBSebCzrugT"
      },
      "execution_count": 6,
      "outputs": []
    },
    {
      "cell_type": "code",
      "source": [
        "gt_polygons['centroid'] = gt_polygons.centroid"
      ],
      "metadata": {
        "id": "YjvrtfQvsix2"
      },
      "execution_count": 7,
      "outputs": []
    },
    {
      "cell_type": "code",
      "source": [
        "gt_polygons.head()"
      ],
      "metadata": {
        "colab": {
          "base_uri": "https://localhost:8080/",
          "height": 206
        },
        "id": "1S4pK0C3svNt",
        "outputId": "62ba3281-30c8-4542-8560-d601021593ab"
      },
      "execution_count": 8,
      "outputs": [
        {
          "output_type": "execute_result",
          "data": {
            "text/plain": [
              "       ADMIN                                           geometry  \\\n",
              "0  Indonesia  MULTIPOLYGON (((13102705.696 463877.598, 13102...   \n",
              "1   Malaysia  MULTIPOLYGON (((13102705.696 463877.598, 13101...   \n",
              "2      Chile  MULTIPOLYGON (((-7737827.685 -1979875.500, -77...   \n",
              "3    Bolivia  POLYGON ((-7737827.685 -1979875.500, -7737828....   \n",
              "4       Peru  MULTIPOLYGON (((-7737827.685 -1979875.500, -77...   \n",
              "\n",
              "                            centroid  \n",
              "0   POINT (13055431.810 -248921.141)  \n",
              "1    POINT (12211696.493 422897.505)  \n",
              "2  POINT (-7959811.948 -4915458.802)  \n",
              "3  POINT (-7200010.945 -1894653.148)  \n",
              "4  POINT (-8277554.831 -1032942.536)  "
            ],
            "text/html": [
              "\n",
              "  <div id=\"df-1e8afb60-990c-493e-98f4-805b9d0c323c\">\n",
              "    <div class=\"colab-df-container\">\n",
              "      <div>\n",
              "<style scoped>\n",
              "    .dataframe tbody tr th:only-of-type {\n",
              "        vertical-align: middle;\n",
              "    }\n",
              "\n",
              "    .dataframe tbody tr th {\n",
              "        vertical-align: top;\n",
              "    }\n",
              "\n",
              "    .dataframe thead th {\n",
              "        text-align: right;\n",
              "    }\n",
              "</style>\n",
              "<table border=\"1\" class=\"dataframe\">\n",
              "  <thead>\n",
              "    <tr style=\"text-align: right;\">\n",
              "      <th></th>\n",
              "      <th>ADMIN</th>\n",
              "      <th>geometry</th>\n",
              "      <th>centroid</th>\n",
              "    </tr>\n",
              "  </thead>\n",
              "  <tbody>\n",
              "    <tr>\n",
              "      <th>0</th>\n",
              "      <td>Indonesia</td>\n",
              "      <td>MULTIPOLYGON (((13102705.696 463877.598, 13102...</td>\n",
              "      <td>POINT (13055431.810 -248921.141)</td>\n",
              "    </tr>\n",
              "    <tr>\n",
              "      <th>1</th>\n",
              "      <td>Malaysia</td>\n",
              "      <td>MULTIPOLYGON (((13102705.696 463877.598, 13101...</td>\n",
              "      <td>POINT (12211696.493 422897.505)</td>\n",
              "    </tr>\n",
              "    <tr>\n",
              "      <th>2</th>\n",
              "      <td>Chile</td>\n",
              "      <td>MULTIPOLYGON (((-7737827.685 -1979875.500, -77...</td>\n",
              "      <td>POINT (-7959811.948 -4915458.802)</td>\n",
              "    </tr>\n",
              "    <tr>\n",
              "      <th>3</th>\n",
              "      <td>Bolivia</td>\n",
              "      <td>POLYGON ((-7737827.685 -1979875.500, -7737828....</td>\n",
              "      <td>POINT (-7200010.945 -1894653.148)</td>\n",
              "    </tr>\n",
              "    <tr>\n",
              "      <th>4</th>\n",
              "      <td>Peru</td>\n",
              "      <td>MULTIPOLYGON (((-7737827.685 -1979875.500, -77...</td>\n",
              "      <td>POINT (-8277554.831 -1032942.536)</td>\n",
              "    </tr>\n",
              "  </tbody>\n",
              "</table>\n",
              "</div>\n",
              "      <button class=\"colab-df-convert\" onclick=\"convertToInteractive('df-1e8afb60-990c-493e-98f4-805b9d0c323c')\"\n",
              "              title=\"Convert this dataframe to an interactive table.\"\n",
              "              style=\"display:none;\">\n",
              "        \n",
              "  <svg xmlns=\"http://www.w3.org/2000/svg\" height=\"24px\"viewBox=\"0 0 24 24\"\n",
              "       width=\"24px\">\n",
              "    <path d=\"M0 0h24v24H0V0z\" fill=\"none\"/>\n",
              "    <path d=\"M18.56 5.44l.94 2.06.94-2.06 2.06-.94-2.06-.94-.94-2.06-.94 2.06-2.06.94zm-11 1L8.5 8.5l.94-2.06 2.06-.94-2.06-.94L8.5 2.5l-.94 2.06-2.06.94zm10 10l.94 2.06.94-2.06 2.06-.94-2.06-.94-.94-2.06-.94 2.06-2.06.94z\"/><path d=\"M17.41 7.96l-1.37-1.37c-.4-.4-.92-.59-1.43-.59-.52 0-1.04.2-1.43.59L10.3 9.45l-7.72 7.72c-.78.78-.78 2.05 0 2.83L4 21.41c.39.39.9.59 1.41.59.51 0 1.02-.2 1.41-.59l7.78-7.78 2.81-2.81c.8-.78.8-2.07 0-2.86zM5.41 20L4 18.59l7.72-7.72 1.47 1.35L5.41 20z\"/>\n",
              "  </svg>\n",
              "      </button>\n",
              "      \n",
              "  <style>\n",
              "    .colab-df-container {\n",
              "      display:flex;\n",
              "      flex-wrap:wrap;\n",
              "      gap: 12px;\n",
              "    }\n",
              "\n",
              "    .colab-df-convert {\n",
              "      background-color: #E8F0FE;\n",
              "      border: none;\n",
              "      border-radius: 50%;\n",
              "      cursor: pointer;\n",
              "      display: none;\n",
              "      fill: #1967D2;\n",
              "      height: 32px;\n",
              "      padding: 0 0 0 0;\n",
              "      width: 32px;\n",
              "    }\n",
              "\n",
              "    .colab-df-convert:hover {\n",
              "      background-color: #E2EBFA;\n",
              "      box-shadow: 0px 1px 2px rgba(60, 64, 67, 0.3), 0px 1px 3px 1px rgba(60, 64, 67, 0.15);\n",
              "      fill: #174EA6;\n",
              "    }\n",
              "\n",
              "    [theme=dark] .colab-df-convert {\n",
              "      background-color: #3B4455;\n",
              "      fill: #D2E3FC;\n",
              "    }\n",
              "\n",
              "    [theme=dark] .colab-df-convert:hover {\n",
              "      background-color: #434B5C;\n",
              "      box-shadow: 0px 1px 3px 1px rgba(0, 0, 0, 0.15);\n",
              "      filter: drop-shadow(0px 1px 2px rgba(0, 0, 0, 0.3));\n",
              "      fill: #FFFFFF;\n",
              "    }\n",
              "  </style>\n",
              "\n",
              "      <script>\n",
              "        const buttonEl =\n",
              "          document.querySelector('#df-1e8afb60-990c-493e-98f4-805b9d0c323c button.colab-df-convert');\n",
              "        buttonEl.style.display =\n",
              "          google.colab.kernel.accessAllowed ? 'block' : 'none';\n",
              "\n",
              "        async function convertToInteractive(key) {\n",
              "          const element = document.querySelector('#df-1e8afb60-990c-493e-98f4-805b9d0c323c');\n",
              "          const dataTable =\n",
              "            await google.colab.kernel.invokeFunction('convertToInteractive',\n",
              "                                                     [key], {});\n",
              "          if (!dataTable) return;\n",
              "\n",
              "          const docLinkHtml = 'Like what you see? Visit the ' +\n",
              "            '<a target=\"_blank\" href=https://colab.research.google.com/notebooks/data_table.ipynb>data table notebook</a>'\n",
              "            + ' to learn more about interactive tables.';\n",
              "          element.innerHTML = '';\n",
              "          dataTable['output_type'] = 'display_data';\n",
              "          await google.colab.output.renderOutput(dataTable, element);\n",
              "          const docLink = document.createElement('div');\n",
              "          docLink.innerHTML = docLinkHtml;\n",
              "          element.appendChild(docLink);\n",
              "        }\n",
              "      </script>\n",
              "    </div>\n",
              "  </div>\n",
              "  "
            ]
          },
          "metadata": {},
          "execution_count": 8
        }
      ]
    },
    {
      "cell_type": "code",
      "source": [
        "ax = gt_polygons.set_geometry(\n",
        "    'centroid'\n",
        ").plot('ADMIN', markersize=5)\n",
        "\n",
        "gt_polygons.plot(\n",
        "    'ADMIN', \n",
        "    ax=ax, \n",
        "    facecolor='none', \n",
        "    edgecolor='k', \n",
        "    linewidth=.2\n",
        ");"
      ],
      "metadata": {
        "colab": {
          "base_uri": "https://localhost:8080/",
          "height": 289
        },
        "id": "tbZfXtLhsxqA",
        "outputId": "07161d26-e031-4b4c-ca5f-61b1c2ed71c9"
      },
      "execution_count": 9,
      "outputs": [
        {
          "output_type": "display_data",
          "data": {
            "text/plain": [
              "<Figure size 432x288 with 1 Axes>"
            ],
            "image/png": "[encoded data removed]"
          },
          "metadata": {
            "needs_background": "light"
          }
        }
      ]
    },
    {
      "cell_type": "code",
      "source": [
        "gt_polygons.query('ADMIN == \"Nigeria\"').plot()"
      ],
      "metadata": {
        "colab": {
          "base_uri": "https://localhost:8080/",
          "height": 306
        },
        "id": "1KT2HjUns7k7",
        "outputId": "193e3344-d354-4d06-83d8-c0cf19a7a5ab"
      },
      "execution_count": 10,
      "outputs": [
        {
          "output_type": "execute_result",
          "data": {
            "text/plain": [
              "<AxesSubplot:>"
            ]
          },
          "metadata": {},
          "execution_count": 10
        },
        {
          "output_type": "display_data",
          "data": {
            "text/plain": [
              "<Figure size 432x288 with 1 Axes>"
            ],
            "image/png": "[encoded data removed]"
          },
          "metadata": {
            "needs_background": "light"
          }
        }
      ]
    },
    {
      "cell_type": "code",
      "source": [
        "gt_polygons[gt_polygons.ADMIN.str.contains('Jap')].plot()"
      ],
      "metadata": {
        "colab": {
          "base_uri": "https://localhost:8080/",
          "height": 306
        },
        "id": "qxdwVOL6vccG",
        "outputId": "d244ed42-a79e-4402-881a-da3c46f9bd6c"
      },
      "execution_count": 11,
      "outputs": [
        {
          "output_type": "execute_result",
          "data": {
            "text/plain": [
              "<AxesSubplot:>"
            ]
          },
          "metadata": {},
          "execution_count": 11
        },
        {
          "output_type": "display_data",
          "data": {
            "text/plain": [
              "<Figure size 432x288 with 1 Axes>"
            ],
            "image/png": "[encoded data removed]"
          },
          "metadata": {
            "needs_background": "light"
          }
        }
      ]
    },
    {
      "cell_type": "markdown",
      "source": [
        "# Question\n",
        "How many islands are in Indonesia?"
      ],
      "metadata": {
        "id": "9DYTFYhPYLnz"
      }
    },
    {
      "cell_type": "code",
      "source": [
        "# first we extract indonesia from the countries dataframe\n",
        "indonesia = gt_polygons[gt_polygons.ADMIN.str.contains('Indo')]"
      ],
      "metadata": {
        "id": "YIyNVNisXvOu"
      },
      "execution_count": 12,
      "outputs": []
    },
    {
      "cell_type": "code",
      "source": [
        "# Next we inspect the geometry and attributes of indonesia.\n",
        "indonesia"
      ],
      "metadata": {
        "colab": {
          "base_uri": "https://localhost:8080/",
          "height": 81
        },
        "id": "w76TrFrEYfh1",
        "outputId": "f738845c-8458-48f1-be25-613a26bd5f7a"
      },
      "execution_count": 13,
      "outputs": [
        {
          "output_type": "execute_result",
          "data": {
            "text/plain": [
              "       ADMIN                                           geometry  \\\n",
              "0  Indonesia  MULTIPOLYGON (((13102705.696 463877.598, 13102...   \n",
              "\n",
              "                           centroid  \n",
              "0  POINT (13055431.810 -248921.141)  "
            ],
            "text/html": [
              "\n",
              "  <div id=\"df-abcf5ff4-29a0-42d3-a7e2-0473e689eba4\">\n",
              "    <div class=\"colab-df-container\">\n",
              "      <div>\n",
              "<style scoped>\n",
              "    .dataframe tbody tr th:only-of-type {\n",
              "        vertical-align: middle;\n",
              "    }\n",
              "\n",
              "    .dataframe tbody tr th {\n",
              "        vertical-align: top;\n",
              "    }\n",
              "\n",
              "    .dataframe thead th {\n",
              "        text-align: right;\n",
              "    }\n",
              "</style>\n",
              "<table border=\"1\" class=\"dataframe\">\n",
              "  <thead>\n",
              "    <tr style=\"text-align: right;\">\n",
              "      <th></th>\n",
              "      <th>ADMIN</th>\n",
              "      <th>geometry</th>\n",
              "      <th>centroid</th>\n",
              "    </tr>\n",
              "  </thead>\n",
              "  <tbody>\n",
              "    <tr>\n",
              "      <th>0</th>\n",
              "      <td>Indonesia</td>\n",
              "      <td>MULTIPOLYGON (((13102705.696 463877.598, 13102...</td>\n",
              "      <td>POINT (13055431.810 -248921.141)</td>\n",
              "    </tr>\n",
              "  </tbody>\n",
              "</table>\n",
              "</div>\n",
              "      <button class=\"colab-df-convert\" onclick=\"convertToInteractive('df-abcf5ff4-29a0-42d3-a7e2-0473e689eba4')\"\n",
              "              title=\"Convert this dataframe to an interactive table.\"\n",
              "              style=\"display:none;\">\n",
              "        \n",
              "  <svg xmlns=\"http://www.w3.org/2000/svg\" height=\"24px\"viewBox=\"0 0 24 24\"\n",
              "       width=\"24px\">\n",
              "    <path d=\"M0 0h24v24H0V0z\" fill=\"none\"/>\n",
              "    <path d=\"M18.56 5.44l.94 2.06.94-2.06 2.06-.94-2.06-.94-.94-2.06-.94 2.06-2.06.94zm-11 1L8.5 8.5l.94-2.06 2.06-.94-2.06-.94L8.5 2.5l-.94 2.06-2.06.94zm10 10l.94 2.06.94-2.06 2.06-.94-2.06-.94-.94-2.06-.94 2.06-2.06.94z\"/><path d=\"M17.41 7.96l-1.37-1.37c-.4-.4-.92-.59-1.43-.59-.52 0-1.04.2-1.43.59L10.3 9.45l-7.72 7.72c-.78.78-.78 2.05 0 2.83L4 21.41c.39.39.9.59 1.41.59.51 0 1.02-.2 1.41-.59l7.78-7.78 2.81-2.81c.8-.78.8-2.07 0-2.86zM5.41 20L4 18.59l7.72-7.72 1.47 1.35L5.41 20z\"/>\n",
              "  </svg>\n",
              "      </button>\n",
              "      \n",
              "  <style>\n",
              "    .colab-df-container {\n",
              "      display:flex;\n",
              "      flex-wrap:wrap;\n",
              "      gap: 12px;\n",
              "    }\n",
              "\n",
              "    .colab-df-convert {\n",
              "      background-color: #E8F0FE;\n",
              "      border: none;\n",
              "      border-radius: 50%;\n",
              "      cursor: pointer;\n",
              "      display: none;\n",
              "      fill: #1967D2;\n",
              "      height: 32px;\n",
              "      padding: 0 0 0 0;\n",
              "      width: 32px;\n",
              "    }\n",
              "\n",
              "    .colab-df-convert:hover {\n",
              "      background-color: #E2EBFA;\n",
              "      box-shadow: 0px 1px 2px rgba(60, 64, 67, 0.3), 0px 1px 3px 1px rgba(60, 64, 67, 0.15);\n",
              "      fill: #174EA6;\n",
              "    }\n",
              "\n",
              "    [theme=dark] .colab-df-convert {\n",
              "      background-color: #3B4455;\n",
              "      fill: #D2E3FC;\n",
              "    }\n",
              "\n",
              "    [theme=dark] .colab-df-convert:hover {\n",
              "      background-color: #434B5C;\n",
              "      box-shadow: 0px 1px 3px 1px rgba(0, 0, 0, 0.15);\n",
              "      filter: drop-shadow(0px 1px 2px rgba(0, 0, 0, 0.3));\n",
              "      fill: #FFFFFF;\n",
              "    }\n",
              "  </style>\n",
              "\n",
              "      <script>\n",
              "        const buttonEl =\n",
              "          document.querySelector('#df-abcf5ff4-29a0-42d3-a7e2-0473e689eba4 button.colab-df-convert');\n",
              "        buttonEl.style.display =\n",
              "          google.colab.kernel.accessAllowed ? 'block' : 'none';\n",
              "\n",
              "        async function convertToInteractive(key) {\n",
              "          const element = document.querySelector('#df-abcf5ff4-29a0-42d3-a7e2-0473e689eba4');\n",
              "          const dataTable =\n",
              "            await google.colab.kernel.invokeFunction('convertToInteractive',\n",
              "                                                     [key], {});\n",
              "          if (!dataTable) return;\n",
              "\n",
              "          const docLinkHtml = 'Like what you see? Visit the ' +\n",
              "            '<a target=\"_blank\" href=https://colab.research.google.com/notebooks/data_table.ipynb>data table notebook</a>'\n",
              "            + ' to learn more about interactive tables.';\n",
              "          element.innerHTML = '';\n",
              "          dataTable['output_type'] = 'display_data';\n",
              "          await google.colab.output.renderOutput(dataTable, element);\n",
              "          const docLink = document.createElement('div');\n",
              "          docLink.innerHTML = docLinkHtml;\n",
              "          element.appendChild(docLink);\n",
              "        }\n",
              "      </script>\n",
              "    </div>\n",
              "  </div>\n",
              "  "
            ]
          },
          "metadata": {},
          "execution_count": 13
        }
      ]
    },
    {
      "cell_type": "markdown",
      "source": [
        "We can see that the geometry of indonesia is something called Multipolygon.\n",
        "\n",
        "What is a multipolygon?\n",
        "A multipolygon is a single object that has multiple parts. As you can see below, indonesia is a single country but geographically, it consists of many unconnected land masses."
      ],
      "metadata": {
        "id": "o6z_aHhbY7LP"
      }
    },
    {
      "cell_type": "code",
      "source": [
        "indonesia.plot()"
      ],
      "metadata": {
        "colab": {
          "base_uri": "https://localhost:8080/",
          "height": 212
        },
        "id": "ZwzO2Lz9Yaru",
        "outputId": "1a6c8e59-d41f-4d9b-c300-ed82407ad7f6"
      },
      "execution_count": 14,
      "outputs": [
        {
          "output_type": "execute_result",
          "data": {
            "text/plain": [
              "<AxesSubplot:>"
            ]
          },
          "metadata": {},
          "execution_count": 14
        },
        {
          "output_type": "display_data",
          "data": {
            "text/plain": [
              "<Figure size 432x288 with 1 Axes>"
            ],
            "image/png": "[encoded data removed]"
          },
          "metadata": {
            "needs_background": "light"
          }
        }
      ]
    },
    {
      "cell_type": "markdown",
      "source": [
        "Next, we need to break indonesia to its various islands.\n",
        "\n",
        "Geopandas gives us the `explode` function to do this."
      ],
      "metadata": {
        "id": "G814oMhaZwVk"
      }
    },
    {
      "cell_type": "code",
      "source": [
        "indonesia_islands = indonesia.explode()\n",
        "indonesia_islands"
      ],
      "metadata": {
        "colab": {
          "base_uri": "https://localhost:8080/",
          "height": 478
        },
        "id": "YB1eVDGYXu_G",
        "outputId": "d02ab350-6dbf-4c4d-a522-06f3e5b18e36"
      },
      "execution_count": 15,
      "outputs": [
        {
          "output_type": "stream",
          "name": "stderr",
          "text": [
            "/usr/local/lib/python3.7/dist-packages/ipykernel_launcher.py:1: FutureWarning: Currently, index_parts defaults to True, but in the future, it will default to False to be consistent with Pandas. Use `index_parts=True` to keep the current behavior and True/False to silence the warning.\n",
            "  \"\"\"Entry point for launching an IPython kernel.\n"
          ]
        },
        {
          "output_type": "execute_result",
          "data": {
            "text/plain": [
              "           ADMIN                          centroid  \\\n",
              "0 0    Indonesia  POINT (13055431.810 -248921.141)   \n",
              "  1    Indonesia  POINT (13055431.810 -248921.141)   \n",
              "  2    Indonesia  POINT (13055431.810 -248921.141)   \n",
              "  3    Indonesia  POINT (13055431.810 -248921.141)   \n",
              "  4    Indonesia  POINT (13055431.810 -248921.141)   \n",
              "...          ...                               ...   \n",
              "  259  Indonesia  POINT (13055431.810 -248921.141)   \n",
              "  260  Indonesia  POINT (13055431.810 -248921.141)   \n",
              "  261  Indonesia  POINT (13055431.810 -248921.141)   \n",
              "  262  Indonesia  POINT (13055431.810 -248921.141)   \n",
              "  263  Indonesia  POINT (13055431.810 -248921.141)   \n",
              "\n",
              "                                                geometry  \n",
              "0 0    POLYGON ((13102705.696 463877.598, 13102705.69...  \n",
              "  1    POLYGON ((13853769.790 -1026334.816, 13855472....  \n",
              "  2    POLYGON ((13087515.192 463457.874, 13087506.13...  \n",
              "  3    POLYGON ((15693204.793 -289587.838, 15693206.7...  \n",
              "  4    POLYGON ((12623095.133 -943744.645, 12624309.0...  \n",
              "...                                                  ...  \n",
              "  259  POLYGON ((10970268.273 17736.181, 10974994.068...  \n",
              "  260  POLYGON ((11657918.548 83454.212, 11659712.270...  \n",
              "  261  POLYGON ((11650634.949 94167.759, 11651006.376...  \n",
              "  262  POLYGON ((13934106.805 200321.302, 13934596.00...  \n",
              "  263  POLYGON ((14152089.356 532099.941, 14153067.75...  \n",
              "\n",
              "[264 rows x 3 columns]"
            ],
            "text/html": [
              "\n",
              "  <div id=\"df-26eb1090-ce4d-44fa-b187-e054bc972d32\">\n",
              "    <div class=\"colab-df-container\">\n",
              "      <div>\n",
              "<style scoped>\n",
              "    .dataframe tbody tr th:only-of-type {\n",
              "        vertical-align: middle;\n",
              "    }\n",
              "\n",
              "    .dataframe tbody tr th {\n",
              "        vertical-align: top;\n",
              "    }\n",
              "\n",
              "    .dataframe thead th {\n",
              "        text-align: right;\n",
              "    }\n",
              "</style>\n",
              "<table border=\"1\" class=\"dataframe\">\n",
              "  <thead>\n",
              "    <tr style=\"text-align: right;\">\n",
              "      <th></th>\n",
              "      <th></th>\n",
              "      <th>ADMIN</th>\n",
              "      <th>centroid</th>\n",
              "      <th>geometry</th>\n",
              "    </tr>\n",
              "  </thead>\n",
              "  <tbody>\n",
              "    <tr>\n",
              "      <th rowspan=\"11\" valign=\"top\">0</th>\n",
              "      <th>0</th>\n",
              "      <td>Indonesia</td>\n",
              "      <td>POINT (13055431.810 -248921.141)</td>\n",
              "      <td>POLYGON ((13102705.696 463877.598, 13102705.69...</td>\n",
              "    </tr>\n",
              "    <tr>\n",
              "      <th>1</th>\n",
              "      <td>Indonesia</td>\n",
              "      <td>POINT (13055431.810 -248921.141)</td>\n",
              "      <td>POLYGON ((13853769.790 -1026334.816, 13855472....</td>\n",
              "    </tr>\n",
              "    <tr>\n",
              "      <th>2</th>\n",
              "      <td>Indonesia</td>\n",
              "      <td>POINT (13055431.810 -248921.141)</td>\n",
              "      <td>POLYGON ((13087515.192 463457.874, 13087506.13...</td>\n",
              "    </tr>\n",
              "    <tr>\n",
              "      <th>3</th>\n",
              "      <td>Indonesia</td>\n",
              "      <td>POINT (13055431.810 -248921.141)</td>\n",
              "      <td>POLYGON ((15693204.793 -289587.838, 15693206.7...</td>\n",
              "    </tr>\n",
              "    <tr>\n",
              "      <th>4</th>\n",
              "      <td>Indonesia</td>\n",
              "      <td>POINT (13055431.810 -248921.141)</td>\n",
              "      <td>POLYGON ((12623095.133 -943744.645, 12624309.0...</td>\n",
              "    </tr>\n",
              "    <tr>\n",
              "      <th>...</th>\n",
              "      <td>...</td>\n",
              "      <td>...</td>\n",
              "      <td>...</td>\n",
              "    </tr>\n",
              "    <tr>\n",
              "      <th>259</th>\n",
              "      <td>Indonesia</td>\n",
              "      <td>POINT (13055431.810 -248921.141)</td>\n",
              "      <td>POLYGON ((10970268.273 17736.181, 10974994.068...</td>\n",
              "    </tr>\n",
              "    <tr>\n",
              "      <th>260</th>\n",
              "      <td>Indonesia</td>\n",
              "      <td>POINT (13055431.810 -248921.141)</td>\n",
              "      <td>POLYGON ((11657918.548 83454.212, 11659712.270...</td>\n",
              "    </tr>\n",
              "    <tr>\n",
              "      <th>261</th>\n",
              "      <td>Indonesia</td>\n",
              "      <td>POINT (13055431.810 -248921.141)</td>\n",
              "      <td>POLYGON ((11650634.949 94167.759, 11651006.376...</td>\n",
              "    </tr>\n",
              "    <tr>\n",
              "      <th>262</th>\n",
              "      <td>Indonesia</td>\n",
              "      <td>POINT (13055431.810 -248921.141)</td>\n",
              "      <td>POLYGON ((13934106.805 200321.302, 13934596.00...</td>\n",
              "    </tr>\n",
              "    <tr>\n",
              "      <th>263</th>\n",
              "      <td>Indonesia</td>\n",
              "      <td>POINT (13055431.810 -248921.141)</td>\n",
              "      <td>POLYGON ((14152089.356 532099.941, 14153067.75...</td>\n",
              "    </tr>\n",
              "  </tbody>\n",
              "</table>\n",
              "<p>264 rows × 3 columns</p>\n",
              "</div>\n",
              "      <button class=\"colab-df-convert\" onclick=\"convertToInteractive('df-26eb1090-ce4d-44fa-b187-e054bc972d32')\"\n",
              "              title=\"Convert this dataframe to an interactive table.\"\n",
              "              style=\"display:none;\">\n",
              "        \n",
              "  <svg xmlns=\"http://www.w3.org/2000/svg\" height=\"24px\"viewBox=\"0 0 24 24\"\n",
              "       width=\"24px\">\n",
              "    <path d=\"M0 0h24v24H0V0z\" fill=\"none\"/>\n",
              "    <path d=\"M18.56 5.44l.94 2.06.94-2.06 2.06-.94-2.06-.94-.94-2.06-.94 2.06-2.06.94zm-11 1L8.5 8.5l.94-2.06 2.06-.94-2.06-.94L8.5 2.5l-.94 2.06-2.06.94zm10 10l.94 2.06.94-2.06 2.06-.94-2.06-.94-.94-2.06-.94 2.06-2.06.94z\"/><path d=\"M17.41 7.96l-1.37-1.37c-.4-.4-.92-.59-1.43-.59-.52 0-1.04.2-1.43.59L10.3 9.45l-7.72 7.72c-.78.78-.78 2.05 0 2.83L4 21.41c.39.39.9.59 1.41.59.51 0 1.02-.2 1.41-.59l7.78-7.78 2.81-2.81c.8-.78.8-2.07 0-2.86zM5.41 20L4 18.59l7.72-7.72 1.47 1.35L5.41 20z\"/>\n",
              "  </svg>\n",
              "      </button>\n",
              "      \n",
              "  <style>\n",
              "    .colab-df-container {\n",
              "      display:flex;\n",
              "      flex-wrap:wrap;\n",
              "      gap: 12px;\n",
              "    }\n",
              "\n",
              "    .colab-df-convert {\n",
              "      background-color: #E8F0FE;\n",
              "      border: none;\n",
              "      border-radius: 50%;\n",
              "      cursor: pointer;\n",
              "      display: none;\n",
              "      fill: #1967D2;\n",
              "      height: 32px;\n",
              "      padding: 0 0 0 0;\n",
              "      width: 32px;\n",
              "    }\n",
              "\n",
              "    .colab-df-convert:hover {\n",
              "      background-color: #E2EBFA;\n",
              "      box-shadow: 0px 1px 2px rgba(60, 64, 67, 0.3), 0px 1px 3px 1px rgba(60, 64, 67, 0.15);\n",
              "      fill: #174EA6;\n",
              "    }\n",
              "\n",
              "    [theme=dark] .colab-df-convert {\n",
              "      background-color: #3B4455;\n",
              "      fill: #D2E3FC;\n",
              "    }\n",
              "\n",
              "    [theme=dark] .colab-df-convert:hover {\n",
              "      background-color: #434B5C;\n",
              "      box-shadow: 0px 1px 3px 1px rgba(0, 0, 0, 0.15);\n",
              "      filter: drop-shadow(0px 1px 2px rgba(0, 0, 0, 0.3));\n",
              "      fill: #FFFFFF;\n",
              "    }\n",
              "  </style>\n",
              "\n",
              "      <script>\n",
              "        const buttonEl =\n",
              "          document.querySelector('#df-26eb1090-ce4d-44fa-b187-e054bc972d32 button.colab-df-convert');\n",
              "        buttonEl.style.display =\n",
              "          google.colab.kernel.accessAllowed ? 'block' : 'none';\n",
              "\n",
              "        async function convertToInteractive(key) {\n",
              "          const element = document.querySelector('#df-26eb1090-ce4d-44fa-b187-e054bc972d32');\n",
              "          const dataTable =\n",
              "            await google.colab.kernel.invokeFunction('convertToInteractive',\n",
              "                                                     [key], {});\n",
              "          if (!dataTable) return;\n",
              "\n",
              "          const docLinkHtml = 'Like what you see? Visit the ' +\n",
              "            '<a target=\"_blank\" href=https://colab.research.google.com/notebooks/data_table.ipynb>data table notebook</a>'\n",
              "            + ' to learn more about interactive tables.';\n",
              "          element.innerHTML = '';\n",
              "          dataTable['output_type'] = 'display_data';\n",
              "          await google.colab.output.renderOutput(dataTable, element);\n",
              "          const docLink = document.createElement('div');\n",
              "          docLink.innerHTML = docLinkHtml;\n",
              "          element.appendChild(docLink);\n",
              "        }\n",
              "      </script>\n",
              "    </div>\n",
              "  </div>\n",
              "  "
            ]
          },
          "metadata": {},
          "execution_count": 15
        }
      ]
    },
    {
      "cell_type": "markdown",
      "source": [
        "Our output has 264 rows. Each row represents an island. So indonesia has 264 islands.\n",
        "\n",
        "Also, note that the geometry type in the new dataframe is now Polygon not Multipolygon."
      ],
      "metadata": {
        "id": "VKZwmQigaOhf"
      }
    },
    {
      "cell_type": "code",
      "source": [
        "r = requests.get(tokyo_cleaned_url, allow_redirects=True)\n",
        "open('tokyo_clean.csv', 'wb').write(r.content)"
      ],
      "metadata": {
        "colab": {
          "base_uri": "https://localhost:8080/"
        },
        "id": "pzIfFcI5vriD",
        "outputId": "1382b705-a32a-44e0-a326-b70c6ef44818"
      },
      "execution_count": 16,
      "outputs": [
        {
          "output_type": "execute_result",
          "data": {
            "text/plain": [
              "1499522"
            ]
          },
          "metadata": {},
          "execution_count": 16
        }
      ]
    },
    {
      "cell_type": "code",
      "source": [
        "tokyo = pandas.read_csv('/content/tokyo_clean.csv')"
      ],
      "metadata": {
        "id": "t_GbF6anxS1j"
      },
      "execution_count": 17,
      "outputs": []
    },
    {
      "cell_type": "code",
      "source": [
        "tokyo.head()"
      ],
      "metadata": {
        "colab": {
          "base_uri": "https://localhost:8080/",
          "height": 357
        },
        "id": "O1VnOI-4yBJR",
        "outputId": "33980084-d9d3-4875-c76b-27355c2844bf"
      },
      "execution_count": 18,
      "outputs": [
        {
          "output_type": "execute_result",
          "data": {
            "text/plain": [
              "           user_id   longitude   latitude             date_taken  \\\n",
              "0     10727420@N00  139.700499  35.674000  2010-04-09 17:26:25.0   \n",
              "1      8819274@N04  139.766521  35.709095  2007-02-10 16:08:40.0   \n",
              "2     62068690@N00  139.765632  35.694482  2008-12-21 15:45:31.0   \n",
              "3  49503094041@N01  139.784391  35.548589  2011-11-11 05:48:54.0   \n",
              "4     40443199@N00  139.768753  35.671521  2006-04-06 16:42:49.0   \n",
              "\n",
              "                                photo/video_page_url             x  \\\n",
              "0  http://www.flickr.com/photos/10727420@N00/4545...  1.555139e+07   \n",
              "1  http://www.flickr.com/photos/8819274@N04/26503...  1.555874e+07   \n",
              "2  http://www.flickr.com/photos/62068690@N00/3125...  1.555864e+07   \n",
              "3  http://www.flickr.com/photos/49503094041@N01/6...  1.556073e+07   \n",
              "4  http://www.flickr.com/photos/40443199@N00/2482...  1.555899e+07   \n",
              "\n",
              "              y  \n",
              "0  4.255856e+06  \n",
              "1  4.260667e+06  \n",
              "2  4.258664e+06  \n",
              "3  4.238684e+06  \n",
              "4  4.255517e+06  "
            ],
            "text/html": [
              "\n",
              "  <div id=\"df-56ab008b-2e30-4bae-aa89-f15947065211\">\n",
              "    <div class=\"colab-df-container\">\n",
              "      <div>\n",
              "<style scoped>\n",
              "    .dataframe tbody tr th:only-of-type {\n",
              "        vertical-align: middle;\n",
              "    }\n",
              "\n",
              "    .dataframe tbody tr th {\n",
              "        vertical-align: top;\n",
              "    }\n",
              "\n",
              "    .dataframe thead th {\n",
              "        text-align: right;\n",
              "    }\n",
              "</style>\n",
              "<table border=\"1\" class=\"dataframe\">\n",
              "  <thead>\n",
              "    <tr style=\"text-align: right;\">\n",
              "      <th></th>\n",
              "      <th>user_id</th>\n",
              "      <th>longitude</th>\n",
              "      <th>latitude</th>\n",
              "      <th>date_taken</th>\n",
              "      <th>photo/video_page_url</th>\n",
              "      <th>x</th>\n",
              "      <th>y</th>\n",
              "    </tr>\n",
              "  </thead>\n",
              "  <tbody>\n",
              "    <tr>\n",
              "      <th>0</th>\n",
              "      <td>10727420@N00</td>\n",
              "      <td>139.700499</td>\n",
              "      <td>35.674000</td>\n",
              "      <td>2010-04-09 17:26:25.0</td>\n",
              "      <td>http://www.flickr.com/photos/10727420@N00/4545...</td>\n",
              "      <td>1.555139e+07</td>\n",
              "      <td>4.255856e+06</td>\n",
              "    </tr>\n",
              "    <tr>\n",
              "      <th>1</th>\n",
              "      <td>8819274@N04</td>\n",
              "      <td>139.766521</td>\n",
              "      <td>35.709095</td>\n",
              "      <td>2007-02-10 16:08:40.0</td>\n",
              "      <td>http://www.flickr.com/photos/8819274@N04/26503...</td>\n",
              "      <td>1.555874e+07</td>\n",
              "      <td>4.260667e+06</td>\n",
              "    </tr>\n",
              "    <tr>\n",
              "      <th>2</th>\n",
              "      <td>62068690@N00</td>\n",
              "      <td>139.765632</td>\n",
              "      <td>35.694482</td>\n",
              "      <td>2008-12-21 15:45:31.0</td>\n",
              "      <td>http://www.flickr.com/photos/62068690@N00/3125...</td>\n",
              "      <td>1.555864e+07</td>\n",
              "      <td>4.258664e+06</td>\n",
              "    </tr>\n",
              "    <tr>\n",
              "      <th>3</th>\n",
              "      <td>49503094041@N01</td>\n",
              "      <td>139.784391</td>\n",
              "      <td>35.548589</td>\n",
              "      <td>2011-11-11 05:48:54.0</td>\n",
              "      <td>http://www.flickr.com/photos/49503094041@N01/6...</td>\n",
              "      <td>1.556073e+07</td>\n",
              "      <td>4.238684e+06</td>\n",
              "    </tr>\n",
              "    <tr>\n",
              "      <th>4</th>\n",
              "      <td>40443199@N00</td>\n",
              "      <td>139.768753</td>\n",
              "      <td>35.671521</td>\n",
              "      <td>2006-04-06 16:42:49.0</td>\n",
              "      <td>http://www.flickr.com/photos/40443199@N00/2482...</td>\n",
              "      <td>1.555899e+07</td>\n",
              "      <td>4.255517e+06</td>\n",
              "    </tr>\n",
              "  </tbody>\n",
              "</table>\n",
              "</div>\n",
              "      <button class=\"colab-df-convert\" onclick=\"convertToInteractive('df-56ab008b-2e30-4bae-aa89-f15947065211')\"\n",
              "              title=\"Convert this dataframe to an interactive table.\"\n",
              "              style=\"display:none;\">\n",
              "        \n",
              "  <svg xmlns=\"http://www.w3.org/2000/svg\" height=\"24px\"viewBox=\"0 0 24 24\"\n",
              "       width=\"24px\">\n",
              "    <path d=\"M0 0h24v24H0V0z\" fill=\"none\"/>\n",
              "    <path d=\"M18.56 5.44l.94 2.06.94-2.06 2.06-.94-2.06-.94-.94-2.06-.94 2.06-2.06.94zm-11 1L8.5 8.5l.94-2.06 2.06-.94-2.06-.94L8.5 2.5l-.94 2.06-2.06.94zm10 10l.94 2.06.94-2.06 2.06-.94-2.06-.94-.94-2.06-.94 2.06-2.06.94z\"/><path d=\"M17.41 7.96l-1.37-1.37c-.4-.4-.92-.59-1.43-.59-.52 0-1.04.2-1.43.59L10.3 9.45l-7.72 7.72c-.78.78-.78 2.05 0 2.83L4 21.41c.39.39.9.59 1.41.59.51 0 1.02-.2 1.41-.59l7.78-7.78 2.81-2.81c.8-.78.8-2.07 0-2.86zM5.41 20L4 18.59l7.72-7.72 1.47 1.35L5.41 20z\"/>\n",
              "  </svg>\n",
              "      </button>\n",
              "      \n",
              "  <style>\n",
              "    .colab-df-container {\n",
              "      display:flex;\n",
              "      flex-wrap:wrap;\n",
              "      gap: 12px;\n",
              "    }\n",
              "\n",
              "    .colab-df-convert {\n",
              "      background-color: #E8F0FE;\n",
              "      border: none;\n",
              "      border-radius: 50%;\n",
              "      cursor: pointer;\n",
              "      display: none;\n",
              "      fill: #1967D2;\n",
              "      height: 32px;\n",
              "      padding: 0 0 0 0;\n",
              "      width: 32px;\n",
              "    }\n",
              "\n",
              "    .colab-df-convert:hover {\n",
              "      background-color: #E2EBFA;\n",
              "      box-shadow: 0px 1px 2px rgba(60, 64, 67, 0.3), 0px 1px 3px 1px rgba(60, 64, 67, 0.15);\n",
              "      fill: #174EA6;\n",
              "    }\n",
              "\n",
              "    [theme=dark] .colab-df-convert {\n",
              "      background-color: #3B4455;\n",
              "      fill: #D2E3FC;\n",
              "    }\n",
              "\n",
              "    [theme=dark] .colab-df-convert:hover {\n",
              "      background-color: #434B5C;\n",
              "      box-shadow: 0px 1px 3px 1px rgba(0, 0, 0, 0.15);\n",
              "      filter: drop-shadow(0px 1px 2px rgba(0, 0, 0, 0.3));\n",
              "      fill: #FFFFFF;\n",
              "    }\n",
              "  </style>\n",
              "\n",
              "      <script>\n",
              "        const buttonEl =\n",
              "          document.querySelector('#df-56ab008b-2e30-4bae-aa89-f15947065211 button.colab-df-convert');\n",
              "        buttonEl.style.display =\n",
              "          google.colab.kernel.accessAllowed ? 'block' : 'none';\n",
              "\n",
              "        async function convertToInteractive(key) {\n",
              "          const element = document.querySelector('#df-56ab008b-2e30-4bae-aa89-f15947065211');\n",
              "          const dataTable =\n",
              "            await google.colab.kernel.invokeFunction('convertToInteractive',\n",
              "                                                     [key], {});\n",
              "          if (!dataTable) return;\n",
              "\n",
              "          const docLinkHtml = 'Like what you see? Visit the ' +\n",
              "            '<a target=\"_blank\" href=https://colab.research.google.com/notebooks/data_table.ipynb>data table notebook</a>'\n",
              "            + ' to learn more about interactive tables.';\n",
              "          element.innerHTML = '';\n",
              "          dataTable['output_type'] = 'display_data';\n",
              "          await google.colab.output.renderOutput(dataTable, element);\n",
              "          const docLink = document.createElement('div');\n",
              "          docLink.innerHTML = docLinkHtml;\n",
              "          element.appendChild(docLink);\n",
              "        }\n",
              "      </script>\n",
              "    </div>\n",
              "  </div>\n",
              "  "
            ]
          },
          "metadata": {},
          "execution_count": 18
        }
      ]
    },
    {
      "cell_type": "code",
      "source": [
        "tokyo_geoms = geopandas.points_from_xy(\n",
        "    x=tokyo[\"longitude\"],\n",
        "    y=tokyo[\"latitude\"],\n",
        "    # x,y are Earth longitude & latitude\n",
        "    crs=\"EPSG:4326\"\n",
        ")"
      ],
      "metadata": {
        "id": "iqoheBetyKlb"
      },
      "execution_count": 19,
      "outputs": []
    },
    {
      "cell_type": "code",
      "source": [
        "tokyo = geopandas.GeoDataFrame(tokyo, geometry=tokyo_geoms)"
      ],
      "metadata": {
        "id": "pr0rWenXygGT"
      },
      "execution_count": 20,
      "outputs": []
    },
    {
      "cell_type": "code",
      "source": [
        "tokyo.head()"
      ],
      "metadata": {
        "colab": {
          "base_uri": "https://localhost:8080/",
          "height": 444
        },
        "id": "6AECMe4qyrb3",
        "outputId": "6dfbb507-aaf6-4178-dae1-9819b1b511fc"
      },
      "execution_count": 21,
      "outputs": [
        {
          "output_type": "execute_result",
          "data": {
            "text/plain": [
              "           user_id   longitude   latitude             date_taken  \\\n",
              "0     10727420@N00  139.700499  35.674000  2010-04-09 17:26:25.0   \n",
              "1      8819274@N04  139.766521  35.709095  2007-02-10 16:08:40.0   \n",
              "2     62068690@N00  139.765632  35.694482  2008-12-21 15:45:31.0   \n",
              "3  49503094041@N01  139.784391  35.548589  2011-11-11 05:48:54.0   \n",
              "4     40443199@N00  139.768753  35.671521  2006-04-06 16:42:49.0   \n",
              "\n",
              "                                photo/video_page_url             x  \\\n",
              "0  http://www.flickr.com/photos/10727420@N00/4545...  1.555139e+07   \n",
              "1  http://www.flickr.com/photos/8819274@N04/26503...  1.555874e+07   \n",
              "2  http://www.flickr.com/photos/62068690@N00/3125...  1.555864e+07   \n",
              "3  http://www.flickr.com/photos/49503094041@N01/6...  1.556073e+07   \n",
              "4  http://www.flickr.com/photos/40443199@N00/2482...  1.555899e+07   \n",
              "\n",
              "              y                    geometry  \n",
              "0  4.255856e+06  POINT (139.70050 35.67400)  \n",
              "1  4.260667e+06  POINT (139.76652 35.70909)  \n",
              "2  4.258664e+06  POINT (139.76563 35.69448)  \n",
              "3  4.238684e+06  POINT (139.78439 35.54859)  \n",
              "4  4.255517e+06  POINT (139.76875 35.67152)  "
            ],
            "text/html": [
              "\n",
              "  <div id=\"df-351255a7-13d3-4bfe-a304-f37b2bd552d5\">\n",
              "    <div class=\"colab-df-container\">\n",
              "      <div>\n",
              "<style scoped>\n",
              "    .dataframe tbody tr th:only-of-type {\n",
              "        vertical-align: middle;\n",
              "    }\n",
              "\n",
              "    .dataframe tbody tr th {\n",
              "        vertical-align: top;\n",
              "    }\n",
              "\n",
              "    .dataframe thead th {\n",
              "        text-align: right;\n",
              "    }\n",
              "</style>\n",
              "<table border=\"1\" class=\"dataframe\">\n",
              "  <thead>\n",
              "    <tr style=\"text-align: right;\">\n",
              "      <th></th>\n",
              "      <th>user_id</th>\n",
              "      <th>longitude</th>\n",
              "      <th>latitude</th>\n",
              "      <th>date_taken</th>\n",
              "      <th>photo/video_page_url</th>\n",
              "      <th>x</th>\n",
              "      <th>y</th>\n",
              "      <th>geometry</th>\n",
              "    </tr>\n",
              "  </thead>\n",
              "  <tbody>\n",
              "    <tr>\n",
              "      <th>0</th>\n",
              "      <td>10727420@N00</td>\n",
              "      <td>139.700499</td>\n",
              "      <td>35.674000</td>\n",
              "      <td>2010-04-09 17:26:25.0</td>\n",
              "      <td>http://www.flickr.com/photos/10727420@N00/4545...</td>\n",
              "      <td>1.555139e+07</td>\n",
              "      <td>4.255856e+06</td>\n",
              "      <td>POINT (139.70050 35.67400)</td>\n",
              "    </tr>\n",
              "    <tr>\n",
              "      <th>1</th>\n",
              "      <td>8819274@N04</td>\n",
              "      <td>139.766521</td>\n",
              "      <td>35.709095</td>\n",
              "      <td>2007-02-10 16:08:40.0</td>\n",
              "      <td>http://www.flickr.com/photos/8819274@N04/26503...</td>\n",
              "      <td>1.555874e+07</td>\n",
              "      <td>4.260667e+06</td>\n",
              "      <td>POINT (139.76652 35.70909)</td>\n",
              "    </tr>\n",
              "    <tr>\n",
              "      <th>2</th>\n",
              "      <td>62068690@N00</td>\n",
              "      <td>139.765632</td>\n",
              "      <td>35.694482</td>\n",
              "      <td>2008-12-21 15:45:31.0</td>\n",
              "      <td>http://www.flickr.com/photos/62068690@N00/3125...</td>\n",
              "      <td>1.555864e+07</td>\n",
              "      <td>4.258664e+06</td>\n",
              "      <td>POINT (139.76563 35.69448)</td>\n",
              "    </tr>\n",
              "    <tr>\n",
              "      <th>3</th>\n",
              "      <td>49503094041@N01</td>\n",
              "      <td>139.784391</td>\n",
              "      <td>35.548589</td>\n",
              "      <td>2011-11-11 05:48:54.0</td>\n",
              "      <td>http://www.flickr.com/photos/49503094041@N01/6...</td>\n",
              "      <td>1.556073e+07</td>\n",
              "      <td>4.238684e+06</td>\n",
              "      <td>POINT (139.78439 35.54859)</td>\n",
              "    </tr>\n",
              "    <tr>\n",
              "      <th>4</th>\n",
              "      <td>40443199@N00</td>\n",
              "      <td>139.768753</td>\n",
              "      <td>35.671521</td>\n",
              "      <td>2006-04-06 16:42:49.0</td>\n",
              "      <td>http://www.flickr.com/photos/40443199@N00/2482...</td>\n",
              "      <td>1.555899e+07</td>\n",
              "      <td>4.255517e+06</td>\n",
              "      <td>POINT (139.76875 35.67152)</td>\n",
              "    </tr>\n",
              "  </tbody>\n",
              "</table>\n",
              "</div>\n",
              "      <button class=\"colab-df-convert\" onclick=\"convertToInteractive('df-351255a7-13d3-4bfe-a304-f37b2bd552d5')\"\n",
              "              title=\"Convert this dataframe to an interactive table.\"\n",
              "              style=\"display:none;\">\n",
              "        \n",
              "  <svg xmlns=\"http://www.w3.org/2000/svg\" height=\"24px\"viewBox=\"0 0 24 24\"\n",
              "       width=\"24px\">\n",
              "    <path d=\"M0 0h24v24H0V0z\" fill=\"none\"/>\n",
              "    <path d=\"M18.56 5.44l.94 2.06.94-2.06 2.06-.94-2.06-.94-.94-2.06-.94 2.06-2.06.94zm-11 1L8.5 8.5l.94-2.06 2.06-.94-2.06-.94L8.5 2.5l-.94 2.06-2.06.94zm10 10l.94 2.06.94-2.06 2.06-.94-2.06-.94-.94-2.06-.94 2.06-2.06.94z\"/><path d=\"M17.41 7.96l-1.37-1.37c-.4-.4-.92-.59-1.43-.59-.52 0-1.04.2-1.43.59L10.3 9.45l-7.72 7.72c-.78.78-.78 2.05 0 2.83L4 21.41c.39.39.9.59 1.41.59.51 0 1.02-.2 1.41-.59l7.78-7.78 2.81-2.81c.8-.78.8-2.07 0-2.86zM5.41 20L4 18.59l7.72-7.72 1.47 1.35L5.41 20z\"/>\n",
              "  </svg>\n",
              "      </button>\n",
              "      \n",
              "  <style>\n",
              "    .colab-df-container {\n",
              "      display:flex;\n",
              "      flex-wrap:wrap;\n",
              "      gap: 12px;\n",
              "    }\n",
              "\n",
              "    .colab-df-convert {\n",
              "      background-color: #E8F0FE;\n",
              "      border: none;\n",
              "      border-radius: 50%;\n",
              "      cursor: pointer;\n",
              "      display: none;\n",
              "      fill: #1967D2;\n",
              "      height: 32px;\n",
              "      padding: 0 0 0 0;\n",
              "      width: 32px;\n",
              "    }\n",
              "\n",
              "    .colab-df-convert:hover {\n",
              "      background-color: #E2EBFA;\n",
              "      box-shadow: 0px 1px 2px rgba(60, 64, 67, 0.3), 0px 1px 3px 1px rgba(60, 64, 67, 0.15);\n",
              "      fill: #174EA6;\n",
              "    }\n",
              "\n",
              "    [theme=dark] .colab-df-convert {\n",
              "      background-color: #3B4455;\n",
              "      fill: #D2E3FC;\n",
              "    }\n",
              "\n",
              "    [theme=dark] .colab-df-convert:hover {\n",
              "      background-color: #434B5C;\n",
              "      box-shadow: 0px 1px 3px 1px rgba(0, 0, 0, 0.15);\n",
              "      filter: drop-shadow(0px 1px 2px rgba(0, 0, 0, 0.3));\n",
              "      fill: #FFFFFF;\n",
              "    }\n",
              "  </style>\n",
              "\n",
              "      <script>\n",
              "        const buttonEl =\n",
              "          document.querySelector('#df-351255a7-13d3-4bfe-a304-f37b2bd552d5 button.colab-df-convert');\n",
              "        buttonEl.style.display =\n",
              "          google.colab.kernel.accessAllowed ? 'block' : 'none';\n",
              "\n",
              "        async function convertToInteractive(key) {\n",
              "          const element = document.querySelector('#df-351255a7-13d3-4bfe-a304-f37b2bd552d5');\n",
              "          const dataTable =\n",
              "            await google.colab.kernel.invokeFunction('convertToInteractive',\n",
              "                                                     [key], {});\n",
              "          if (!dataTable) return;\n",
              "\n",
              "          const docLinkHtml = 'Like what you see? Visit the ' +\n",
              "            '<a target=\"_blank\" href=https://colab.research.google.com/notebooks/data_table.ipynb>data table notebook</a>'\n",
              "            + ' to learn more about interactive tables.';\n",
              "          element.innerHTML = '';\n",
              "          dataTable['output_type'] = 'display_data';\n",
              "          await google.colab.output.renderOutput(dataTable, element);\n",
              "          const docLink = document.createElement('div');\n",
              "          docLink.innerHTML = docLinkHtml;\n",
              "          element.appendChild(docLink);\n",
              "        }\n",
              "      </script>\n",
              "    </div>\n",
              "  </div>\n",
              "  "
            ]
          },
          "metadata": {},
          "execution_count": 21
        }
      ]
    },
    {
      "cell_type": "code",
      "source": [
        "down(sao_paolo_url, 'ghsl_sao_paulo.tif')"
      ],
      "metadata": {
        "id": "jtWmNvPXy3xw"
      },
      "execution_count": 22,
      "outputs": []
    },
    {
      "cell_type": "code",
      "source": [
        "pop = xarray.open_rasterio('/content/ghsl_sao_paulo.tif')"
      ],
      "metadata": {
        "colab": {
          "base_uri": "https://localhost:8080/"
        },
        "id": "Y9CETLiB0P0W",
        "outputId": "e0817142-d6f8-4bcd-e7f4-ff684b9505e9"
      },
      "execution_count": 23,
      "outputs": [
        {
          "output_type": "stream",
          "name": "stderr",
          "text": [
            "/usr/local/lib/python3.7/dist-packages/ipykernel_launcher.py:1: DeprecationWarning: open_rasterio is Deprecated in favor of rioxarray. For information about transitioning, see: https://corteva.github.io/rioxarray/stable/getting_started/getting_started.html\n",
            "  \"\"\"Entry point for launching an IPython kernel.\n"
          ]
        }
      ]
    },
    {
      "cell_type": "code",
      "source": [
        "type(pop)"
      ],
      "metadata": {
        "colab": {
          "base_uri": "https://localhost:8080/"
        },
        "id": "nNL4U9FB0clC",
        "outputId": "d3157824-032f-4510-b947-148849bc538f"
      },
      "execution_count": 24,
      "outputs": [
        {
          "output_type": "execute_result",
          "data": {
            "text/plain": [
              "xarray.core.dataarray.DataArray"
            ]
          },
          "metadata": {},
          "execution_count": 24
        }
      ]
    },
    {
      "cell_type": "code",
      "source": [
        "pop.coords"
      ],
      "metadata": {
        "colab": {
          "base_uri": "https://localhost:8080/"
        },
        "id": "L2cqZ-nZ0man",
        "outputId": "12a546bc-cbc2-4a73-d7e0-168832c5a4ea"
      },
      "execution_count": 25,
      "outputs": [
        {
          "output_type": "execute_result",
          "data": {
            "text/plain": [
              "Coordinates:\n",
              "  * band     (band) int64 1\n",
              "  * y        (y) float64 -2.822e+06 -2.822e+06 ... -2.926e+06 -2.926e+06\n",
              "  * x        (x) float64 -4.482e+06 -4.482e+06 ... -4.365e+06 -4.365e+06"
            ]
          },
          "metadata": {},
          "execution_count": 25
        }
      ]
    },
    {
      "cell_type": "code",
      "source": [
        "pop.attrs"
      ],
      "metadata": {
        "colab": {
          "base_uri": "https://localhost:8080/"
        },
        "id": "mIIMVo9V0pPF",
        "outputId": "ece3eaa5-0372-4995-c998-6ba11e5d487b"
      },
      "execution_count": 26,
      "outputs": [
        {
          "output_type": "execute_result",
          "data": {
            "text/plain": [
              "{'AREA_OR_POINT': 'Area',\n",
              " 'crs': '+proj=moll +lon_0=0 +x_0=0 +y_0=0 +datum=WGS84 +units=m +no_defs=True',\n",
              " 'grid_mapping': 'spatial_ref',\n",
              " 'is_tiled': 0,\n",
              " 'nodatavals': (-200.0,),\n",
              " 'offsets': (0.0,),\n",
              " 'res': (250.0, 250.0),\n",
              " 'scales': (1.0,),\n",
              " 'transform': (250.0, 0.0, -4482000.0, 0.0, -250.0, -2822000.0)}"
            ]
          },
          "metadata": {},
          "execution_count": 26
        }
      ]
    },
    {
      "cell_type": "code",
      "source": [
        "pop.shape"
      ],
      "metadata": {
        "colab": {
          "base_uri": "https://localhost:8080/"
        },
        "id": "KWDNAds-0ykY",
        "outputId": "a70c6488-c387-4b4f-f199-d6350f56bac9"
      },
      "execution_count": 27,
      "outputs": [
        {
          "output_type": "execute_result",
          "data": {
            "text/plain": [
              "(1, 416, 468)"
            ]
          },
          "metadata": {},
          "execution_count": 27
        }
      ]
    },
    {
      "cell_type": "code",
      "source": [
        "pop.sel(band=1)"
      ],
      "metadata": {
        "colab": {
          "base_uri": "https://localhost:8080/",
          "height": 350
        },
        "id": "lkMNZBVv088Y",
        "outputId": "db136b23-c264-47c6-b225-bd2608f787bb"
      },
      "execution_count": 28,
      "outputs": [
        {
          "output_type": "execute_result",
          "data": {
            "text/plain": [
              "<xarray.DataArray (y: 416, x: 468)>\n",
              "[194688 values with dtype=float32]\n",
              "Coordinates:\n",
              "    band     int64 1\n",
              "  * y        (y) float64 -2.822e+06 -2.822e+06 ... -2.926e+06 -2.926e+06\n",
              "  * x        (x) float64 -4.482e+06 -4.482e+06 ... -4.365e+06 -4.365e+06\n",
              "Attributes:\n",
              "    transform:      (250.0, 0.0, -4482000.0, 0.0, -250.0, -2822000.0)\n",
              "    crs:            +proj=moll +lon_0=0 +x_0=0 +y_0=0 +datum=WGS84 +units=m +...\n",
              "    res:            (250.0, 250.0)\n",
              "    is_tiled:       0\n",
              "    nodatavals:     (-200.0,)\n",
              "    scales:         (1.0,)\n",
              "    offsets:        (0.0,)\n",
              "    AREA_OR_POINT:  Area\n",
              "    grid_mapping:   spatial_ref"
            ],
            "text/html": [
              "<div><svg style=\"position: absolute; width: 0; height: 0; overflow: hidden\">\n",
              "<defs>\n",
              "<symbol id=\"icon-database\" viewBox=\"0 0 32 32\">\n",
              "<path d=\"M16 0c-8.837 0-16 2.239-16 5v4c0 2.761 7.163 5 16 5s16-2.239 16-5v-4c0-2.761-7.163-5-16-5z\"></path>\n",
              "<path d=\"M16 17c-8.837 0-16-2.239-16-5v6c0 2.761 7.163 5 16 5s16-2.239 16-5v-6c0 2.761-7.163 5-16 5z\"></path>\n",
              "<path d=\"M16 26c-8.837 0-16-2.239-16-5v6c0 2.761 7.163 5 16 5s16-2.239 16-5v-6c0 2.761-7.163 5-16 5z\"></path>\n",
              "</symbol>\n",
              "<symbol id=\"icon-file-text2\" viewBox=\"0 0 32 32\">\n",
              "<path d=\"M28.681 7.159c-0.694-0.947-1.662-2.053-2.724-3.116s-2.169-2.030-3.116-2.724c-1.612-1.182-2.393-1.319-2.841-1.319h-15.5c-1.378 0-2.5 1.121-2.5 2.5v27c0 1.378 1.122 2.5 2.5 2.5h23c1.378 0 2.5-1.122 2.5-2.5v-19.5c0-0.448-0.137-1.23-1.319-2.841zM24.543 5.457c0.959 0.959 1.712 1.825 2.268 2.543h-4.811v-4.811c0.718 0.556 1.584 1.309 2.543 2.268zM28 29.5c0 0.271-0.229 0.5-0.5 0.5h-23c-0.271 0-0.5-0.229-0.5-0.5v-27c0-0.271 0.229-0.5 0.5-0.5 0 0 15.499-0 15.5 0v7c0 0.552 0.448 1 1 1h7v19.5z\"></path>\n",
              "<path d=\"M23 26h-14c-0.552 0-1-0.448-1-1s0.448-1 1-1h14c0.552 0 1 0.448 1 1s-0.448 1-1 1z\"></path>\n",
              "<path d=\"M23 22h-14c-0.552 0-1-0.448-1-1s0.448-1 1-1h14c0.552 0 1 0.448 1 1s-0.448 1-1 1z\"></path>\n",
              "<path d=\"M23 18h-14c-0.552 0-1-0.448-1-1s0.448-1 1-1h14c0.552 0 1 0.448 1 1s-0.448 1-1 1z\"></path>\n",
              "</symbol>\n",
              "</defs>\n",
              "</svg>\n",
              "<style>/* CSS stylesheet for displaying xarray objects in jupyterlab.\n",
              " *\n",
              " */\n",
              "\n",
              ":root {\n",
              "  --xr-font-color0: var(--jp-content-font-color0, rgba(0, 0, 0, 1));\n",
              "  --xr-font-color2: var(--jp-content-font-color2, rgba(0, 0, 0, 0.54));\n",
              "  --xr-font-color3: var(--jp-content-font-color3, rgba(0, 0, 0, 0.38));\n",
              "  --xr-border-color: var(--jp-border-color2, #e0e0e0);\n",
              "  --xr-disabled-color: var(--jp-layout-color3, #bdbdbd);\n",
              "  --xr-background-color: var(--jp-layout-color0, white);\n",
              "  --xr-background-color-row-even: var(--jp-layout-color1, white);\n",
              "  --xr-background-color-row-odd: var(--jp-layout-color2, #eeeeee);\n",
              "}\n",
              "\n",
              "html[theme=dark],\n",
              "body.vscode-dark {\n",
              "  --xr-font-color0: rgba(255, 255, 255, 1);\n",
              "  --xr-font-color2: rgba(255, 255, 255, 0.54);\n",
              "  --xr-font-color3: rgba(255, 255, 255, 0.38);\n",
              "  --xr-border-color: #1F1F1F;\n",
              "  --xr-disabled-color: #515151;\n",
              "  --xr-background-color: #111111;\n",
              "  --xr-background-color-row-even: #111111;\n",
              "  --xr-background-color-row-odd: #313131;\n",
              "}\n",
              "\n",
              ".xr-wrap {\n",
              "  display: block !important;\n",
              "  min-width: 300px;\n",
              "  max-width: 700px;\n",
              "}\n",
              "\n",
              ".xr-text-repr-fallback {\n",
              "  /* fallback to plain text repr when CSS is not injected (untrusted notebook) */\n",
              "  display: none;\n",
              "}\n",
              "\n",
              ".xr-header {\n",
              "  padding-top: 6px;\n",
              "  padding-bottom: 6px;\n",
              "  margin-bottom: 4px;\n",
              "  border-bottom: solid 1px var(--xr-border-color);\n",
              "}\n",
              "\n",
              ".xr-header > div,\n",
              ".xr-header > ul {\n",
              "  display: inline;\n",
              "  margin-top: 0;\n",
              "  margin-bottom: 0;\n",
              "}\n",
              "\n",
              ".xr-obj-type,\n",
              ".xr-array-name {\n",
              "  margin-left: 2px;\n",
              "  margin-right: 10px;\n",
              "}\n",
              "\n",
              ".xr-obj-type {\n",
              "  color: var(--xr-font-color2);\n",
              "}\n",
              "\n",
              ".xr-sections {\n",
              "  padding-left: 0 !important;\n",
              "  display: grid;\n",
              "  grid-template-columns: 150px auto auto 1fr 20px 20px;\n",
              "}\n",
              "\n",
              ".xr-section-item {\n",
              "  display: contents;\n",
              "}\n",
              "\n",
              ".xr-section-item input {\n",
              "  display: none;\n",
              "}\n",
              "\n",
              ".xr-section-item input + label {\n",
              "  color: var(--xr-disabled-color);\n",
              "}\n",
              "\n",
              ".xr-section-item input:enabled + label {\n",
              "  cursor: pointer;\n",
              "  color: var(--xr-font-color2);\n",
              "}\n",
              "\n",
              ".xr-section-item input:enabled + label:hover {\n",
              "  color: var(--xr-font-color0);\n",
              "}\n",
              "\n",
              ".xr-section-summary {\n",
              "  grid-column: 1;\n",
              "  color: var(--xr-font-color2);\n",
              "  font-weight: 500;\n",
              "}\n",
              "\n",
              ".xr-section-summary > span {\n",
              "  display: inline-block;\n",
              "  padding-left: 0.5em;\n",
              "}\n",
              "\n",
              ".xr-section-summary-in:disabled + label {\n",
              "  color: var(--xr-font-color2);\n",
              "}\n",
              "\n",
              ".xr-section-summary-in + label:before {\n",
              "  display: inline-block;\n",
              "  content: '►';\n",
              "  font-size: 11px;\n",
              "  width: 15px;\n",
              "  text-align: center;\n",
              "}\n",
              "\n",
              ".xr-section-summary-in:disabled + label:before {\n",
              "  color: var(--xr-disabled-color);\n",
              "}\n",
              "\n",
              ".xr-section-summary-in:checked + label:before {\n",
              "  content: '▼';\n",
              "}\n",
              "\n",
              ".xr-section-summary-in:checked + label > span {\n",
              "  display: none;\n",
              "}\n",
              "\n",
              ".xr-section-summary,\n",
              ".xr-section-inline-details {\n",
              "  padding-top: 4px;\n",
              "  padding-bottom: 4px;\n",
              "}\n",
              "\n",
              ".xr-section-inline-details {\n",
              "  grid-column: 2 / -1;\n",
              "}\n",
              "\n",
              ".xr-section-details {\n",
              "  display: none;\n",
              "  grid-column: 1 / -1;\n",
              "  margin-bottom: 5px;\n",
              "}\n",
              "\n",
              ".xr-section-summary-in:checked ~ .xr-section-details {\n",
              "  display: contents;\n",
              "}\n",
              "\n",
              ".xr-array-wrap {\n",
              "  grid-column: 1 / -1;\n",
              "  display: grid;\n",
              "  grid-template-columns: 20px auto;\n",
              "}\n",
              "\n",
              ".xr-array-wrap > label {\n",
              "  grid-column: 1;\n",
              "  vertical-align: top;\n",
              "}\n",
              "\n",
              ".xr-preview {\n",
              "  color: var(--xr-font-color3);\n",
              "}\n",
              "\n",
              ".xr-array-preview,\n",
              ".xr-array-data {\n",
              "  padding: 0 5px !important;\n",
              "  grid-column: 2;\n",
              "}\n",
              "\n",
              ".xr-array-data,\n",
              ".xr-array-in:checked ~ .xr-array-preview {\n",
              "  display: none;\n",
              "}\n",
              "\n",
              ".xr-array-in:checked ~ .xr-array-data,\n",
              ".xr-array-preview {\n",
              "  display: inline-block;\n",
              "}\n",
              "\n",
              ".xr-dim-list {\n",
              "  display: inline-block !important;\n",
              "  list-style: none;\n",
              "  padding: 0 !important;\n",
              "  margin: 0;\n",
              "}\n",
              "\n",
              ".xr-dim-list li {\n",
              "  display: inline-block;\n",
              "  padding: 0;\n",
              "  margin: 0;\n",
              "}\n",
              "\n",
              ".xr-dim-list:before {\n",
              "  content: '(';\n",
              "}\n",
              "\n",
              ".xr-dim-list:after {\n",
              "  content: ')';\n",
              "}\n",
              "\n",
              ".xr-dim-list li:not(:last-child):after {\n",
              "  content: ',';\n",
              "  padding-right: 5px;\n",
              "}\n",
              "\n",
              ".xr-has-index {\n",
              "  font-weight: bold;\n",
              "}\n",
              "\n",
              ".xr-var-list,\n",
              ".xr-var-item {\n",
              "  display: contents;\n",
              "}\n",
              "\n",
              ".xr-var-item > div,\n",
              ".xr-var-item label,\n",
              ".xr-var-item > .xr-var-name span {\n",
              "  background-color: var(--xr-background-color-row-even);\n",
              "  margin-bottom: 0;\n",
              "}\n",
              "\n",
              ".xr-var-item > .xr-var-name:hover span {\n",
              "  padding-right: 5px;\n",
              "}\n",
              "\n",
              ".xr-var-list > li:nth-child(odd) > div,\n",
              ".xr-var-list > li:nth-child(odd) > label,\n",
              ".xr-var-list > li:nth-child(odd) > .xr-var-name span {\n",
              "  background-color: var(--xr-background-color-row-odd);\n",
              "}\n",
              "\n",
              ".xr-var-name {\n",
              "  grid-column: 1;\n",
              "}\n",
              "\n",
              ".xr-var-dims {\n",
              "  grid-column: 2;\n",
              "}\n",
              "\n",
              ".xr-var-dtype {\n",
              "  grid-column: 3;\n",
              "  text-align: right;\n",
              "  color: var(--xr-font-color2);\n",
              "}\n",
              "\n",
              ".xr-var-preview {\n",
              "  grid-column: 4;\n",
              "}\n",
              "\n",
              ".xr-var-name,\n",
              ".xr-var-dims,\n",
              ".xr-var-dtype,\n",
              ".xr-preview,\n",
              ".xr-attrs dt {\n",
              "  white-space: nowrap;\n",
              "  overflow: hidden;\n",
              "  text-overflow: ellipsis;\n",
              "  padding-right: 10px;\n",
              "}\n",
              "\n",
              ".xr-var-name:hover,\n",
              ".xr-var-dims:hover,\n",
              ".xr-var-dtype:hover,\n",
              ".xr-attrs dt:hover {\n",
              "  overflow: visible;\n",
              "  width: auto;\n",
              "  z-index: 1;\n",
              "}\n",
              "\n",
              ".xr-var-attrs,\n",
              ".xr-var-data {\n",
              "  display: none;\n",
              "  background-color: var(--xr-background-color) !important;\n",
              "  padding-bottom: 5px !important;\n",
              "}\n",
              "\n",
              ".xr-var-attrs-in:checked ~ .xr-var-attrs,\n",
              ".xr-var-data-in:checked ~ .xr-var-data {\n",
              "  display: block;\n",
              "}\n",
              "\n",
              ".xr-var-data > table {\n",
              "  float: right;\n",
              "}\n",
              "\n",
              ".xr-var-name span,\n",
              ".xr-var-data,\n",
              ".xr-attrs {\n",
              "  padding-left: 25px !important;\n",
              "}\n",
              "\n",
              ".xr-attrs,\n",
              ".xr-var-attrs,\n",
              ".xr-var-data {\n",
              "  grid-column: 1 / -1;\n",
              "}\n",
              "\n",
              "dl.xr-attrs {\n",
              "  padding: 0;\n",
              "  margin: 0;\n",
              "  display: grid;\n",
              "  grid-template-columns: 125px auto;\n",
              "}\n",
              "\n",
              ".xr-attrs dt,\n",
              ".xr-attrs dd {\n",
              "  padding: 0;\n",
              "  margin: 0;\n",
              "  float: left;\n",
              "  padding-right: 10px;\n",
              "  width: auto;\n",
              "}\n",
              "\n",
              ".xr-attrs dt {\n",
              "  font-weight: normal;\n",
              "  grid-column: 1;\n",
              "}\n",
              "\n",
              ".xr-attrs dt:hover span {\n",
              "  display: inline-block;\n",
              "  background: var(--xr-background-color);\n",
              "  padding-right: 10px;\n",
              "}\n",
              "\n",
              ".xr-attrs dd {\n",
              "  grid-column: 2;\n",
              "  white-space: pre-wrap;\n",
              "  word-break: break-all;\n",
              "}\n",
              "\n",
              ".xr-icon-database,\n",
              ".xr-icon-file-text2 {\n",
              "  display: inline-block;\n",
              "  vertical-align: middle;\n",
              "  width: 1em;\n",
              "  height: 1.5em !important;\n",
              "  stroke-width: 0;\n",
              "  stroke: currentColor;\n",
              "  fill: currentColor;\n",
              "}\n",
              "</style><pre class='xr-text-repr-fallback'>&lt;xarray.DataArray (y: 416, x: 468)&gt;\n",
              "[194688 values with dtype=float32]\n",
              "Coordinates:\n",
              "    band     int64 1\n",
              "  * y        (y) float64 -2.822e+06 -2.822e+06 ... -2.926e+06 -2.926e+06\n",
              "  * x        (x) float64 -4.482e+06 -4.482e+06 ... -4.365e+06 -4.365e+06\n",
              "Attributes:\n",
              "    transform:      (250.0, 0.0, -4482000.0, 0.0, -250.0, -2822000.0)\n",
              "    crs:            +proj=moll +lon_0=0 +x_0=0 +y_0=0 +datum=WGS84 +units=m +...\n",
              "    res:            (250.0, 250.0)\n",
              "    is_tiled:       0\n",
              "    nodatavals:     (-200.0,)\n",
              "    scales:         (1.0,)\n",
              "    offsets:        (0.0,)\n",
              "    AREA_OR_POINT:  Area\n",
              "    grid_mapping:   spatial_ref</pre><div class='xr-wrap' style='display:none'><div class='xr-header'><div class='xr-obj-type'>xarray.DataArray</div><div class='xr-array-name'></div><ul class='xr-dim-list'><li><span class='xr-has-index'>y</span>: 416</li><li><span class='xr-has-index'>x</span>: 468</li></ul></div><ul class='xr-sections'><li class='xr-section-item'><div class='xr-array-wrap'><input id='section-6cf48c6c-c254-4ec4-bd67-69ad44fe500b' class='xr-array-in' type='checkbox' checked><label for='section-6cf48c6c-c254-4ec4-bd67-69ad44fe500b' title='Show/hide data repr'><svg class='icon xr-icon-database'><use xlink:href='#icon-database'></use></svg></label><div class='xr-array-preview xr-preview'><span>...</span></div><div class='xr-array-data'><pre>[194688 values with dtype=float32]</pre></div></div></li><li class='xr-section-item'><input id='section-25ba2698-6196-4c2a-949b-7b88b4d759a7' class='xr-section-summary-in' type='checkbox'  checked><label for='section-25ba2698-6196-4c2a-949b-7b88b4d759a7' class='xr-section-summary' >Coordinates: <span>(3)</span></label><div class='xr-section-inline-details'></div><div class='xr-section-details'><ul class='xr-var-list'><li class='xr-var-item'><div class='xr-var-name'><span>band</span></div><div class='xr-var-dims'>()</div><div class='xr-var-dtype'>int64</div><div class='xr-var-preview xr-preview'>1</div><input id='attrs-a2799328-32a2-44d2-beb4-83a91b6bf030' class='xr-var-attrs-in' type='checkbox' disabled><label for='attrs-a2799328-32a2-44d2-beb4-83a91b6bf030' title='Show/Hide attributes'><svg class='icon xr-icon-file-text2'><use xlink:href='#icon-file-text2'></use></svg></label><input id='data-7570839a-5787-49d5-9b7b-edbf725813b3' class='xr-var-data-in' type='checkbox'><label for='data-7570839a-5787-49d5-9b7b-edbf725813b3' title='Show/Hide data repr'><svg class='icon xr-icon-database'><use xlink:href='#icon-database'></use></svg></label><div class='xr-var-attrs'><dl class='xr-attrs'></dl></div><div class='xr-var-data'><pre>array(1)</pre></div></li><li class='xr-var-item'><div class='xr-var-name'><span class='xr-has-index'>y</span></div><div class='xr-var-dims'>(y)</div><div class='xr-var-dtype'>float64</div><div class='xr-var-preview xr-preview'>-2.822e+06 ... -2.926e+06</div><input id='attrs-983c3bb9-69cd-4e4c-b16a-a536275a68ee' class='xr-var-attrs-in' type='checkbox' disabled><label for='attrs-983c3bb9-69cd-4e4c-b16a-a536275a68ee' title='Show/Hide attributes'><svg class='icon xr-icon-file-text2'><use xlink:href='#icon-file-text2'></use></svg></label><input id='data-2c85939c-d845-4610-9b6b-e75b0fd3797d' class='xr-var-data-in' type='checkbox'><label for='data-2c85939c-d845-4610-9b6b-e75b0fd3797d' title='Show/Hide data repr'><svg class='icon xr-icon-database'><use xlink:href='#icon-database'></use></svg></label><div class='xr-var-attrs'><dl class='xr-attrs'></dl></div><div class='xr-var-data'><pre>array([-2822125., -2822375., -2822625., ..., -2925375., -2925625., -2925875.])</pre></div></li><li class='xr-var-item'><div class='xr-var-name'><span class='xr-has-index'>x</span></div><div class='xr-var-dims'>(x)</div><div class='xr-var-dtype'>float64</div><div class='xr-var-preview xr-preview'>-4.482e+06 ... -4.365e+06</div><input id='attrs-4a51a954-b76e-4800-b224-6612992c386e' class='xr-var-attrs-in' type='checkbox' disabled><label for='attrs-4a51a954-b76e-4800-b224-6612992c386e' title='Show/Hide attributes'><svg class='icon xr-icon-file-text2'><use xlink:href='#icon-file-text2'></use></svg></label><input id='data-326dd57a-e1ae-4f6a-b304-f9b579548654' class='xr-var-data-in' type='checkbox'><label for='data-326dd57a-e1ae-4f6a-b304-f9b579548654' title='Show/Hide data repr'><svg class='icon xr-icon-database'><use xlink:href='#icon-database'></use></svg></label><div class='xr-var-attrs'><dl class='xr-attrs'></dl></div><div class='xr-var-data'><pre>array([-4481875., -4481625., -4481375., ..., -4365625., -4365375., -4365125.])</pre></div></li></ul></div></li><li class='xr-section-item'><input id='section-5be3a0e0-7eea-4805-a810-262bc1331a2b' class='xr-section-summary-in' type='checkbox'  checked><label for='section-5be3a0e0-7eea-4805-a810-262bc1331a2b' class='xr-section-summary' >Attributes: <span>(9)</span></label><div class='xr-section-inline-details'></div><div class='xr-section-details'><dl class='xr-attrs'><dt><span>transform :</span></dt><dd>(250.0, 0.0, -4482000.0, 0.0, -250.0, -2822000.0)</dd><dt><span>crs :</span></dt><dd>+proj=moll +lon_0=0 +x_0=0 +y_0=0 +datum=WGS84 +units=m +no_defs=True</dd><dt><span>res :</span></dt><dd>(250.0, 250.0)</dd><dt><span>is_tiled :</span></dt><dd>0</dd><dt><span>nodatavals :</span></dt><dd>(-200.0,)</dd><dt><span>scales :</span></dt><dd>(1.0,)</dd><dt><span>offsets :</span></dt><dd>(0.0,)</dd><dt><span>AREA_OR_POINT :</span></dt><dd>Area</dd><dt><span>grid_mapping :</span></dt><dd>spatial_ref</dd></dl></div></li></ul></div></div>"
            ]
          },
          "metadata": {},
          "execution_count": 28
        }
      ]
    },
    {
      "cell_type": "code",
      "source": [
        "pop.where(pop >= 0).plot(cmap=\"RdPu\");"
      ],
      "metadata": {
        "colab": {
          "base_uri": "https://localhost:8080/",
          "height": 295
        },
        "id": "BcU0GODE43Yx",
        "outputId": "07f39ace-1092-47e0-fe34-85d2dc28df41"
      },
      "execution_count": 29,
      "outputs": [
        {
          "output_type": "display_data",
          "data": {
            "text/plain": [
              "<Figure size 432x288 with 2 Axes>"
            ],
            "image/png": "[encoded data removed]"
          },
          "metadata": {
            "needs_background": "light"
          }
        }
      ]
    },
    {
      "cell_type": "code",
      "source": [
        "graph = osmnx.graph_from_point((7.775813263762137, 4.545583580644855), dist=200)"
      ],
      "metadata": {
        "id": "DkBDVvKQ5K4b"
      },
      "execution_count": 30,
      "outputs": []
    },
    {
      "cell_type": "code",
      "source": [
        "type(graph)"
      ],
      "metadata": {
        "colab": {
          "base_uri": "https://localhost:8080/"
        },
        "id": "KxJRe8Qc52wH",
        "outputId": "2987a85f-7734-434c-b9e6-3ef08102688b"
      },
      "execution_count": 31,
      "outputs": [
        {
          "output_type": "execute_result",
          "data": {
            "text/plain": [
              "networkx.classes.multidigraph.MultiDiGraph"
            ]
          },
          "metadata": {},
          "execution_count": 31
        }
      ]
    },
    {
      "cell_type": "code",
      "source": [
        "osmnx.plot_graph(graph)"
      ],
      "metadata": {
        "colab": {
          "base_uri": "https://localhost:8080/",
          "height": 483
        },
        "id": "JoHsQQLC7o6Z",
        "outputId": "f948e9d9-784f-4d79-8c00-ffc1e4217a88"
      },
      "execution_count": 32,
      "outputs": [
        {
          "output_type": "display_data",
          "data": {
            "text/plain": [
              "<Figure size 576x576 with 1 Axes>"
            ],
            "image/png": "[encoded data removed]"
          },
          "metadata": {}
        },
        {
          "output_type": "execute_result",
          "data": {
            "text/plain": [
              "(<Figure size 576x576 with 1 Axes>, <AxesSubplot:>)"
            ]
          },
          "metadata": {},
          "execution_count": 32
        }
      ]
    },
    {
      "cell_type": "code",
      "source": [
        "len(graph.nodes)"
      ],
      "metadata": {
        "colab": {
          "base_uri": "https://localhost:8080/"
        },
        "id": "0PZJw9nx990Q",
        "outputId": "b175fe4b-6f68-427c-f4d8-1a33c57351ca"
      },
      "execution_count": 33,
      "outputs": [
        {
          "output_type": "execute_result",
          "data": {
            "text/plain": [
              "21"
            ]
          },
          "metadata": {},
          "execution_count": 33
        }
      ]
    },
    {
      "cell_type": "code",
      "source": [
        "graph.edges"
      ],
      "metadata": {
        "colab": {
          "base_uri": "https://localhost:8080/"
        },
        "id": "zuf48WWNCsKp",
        "outputId": "bd267d69-3340-4d89-de99-f9c7b3bbc518"
      },
      "execution_count": 34,
      "outputs": [
        {
          "output_type": "execute_result",
          "data": {
            "text/plain": [
              "OutMultiEdgeView([(1827414724, 1964870793, 0), (1827414724, 5235822312, 0), (1964870787, 3391605665, 0), (1964870787, 5235822300, 0), (1964870793, 3343875225, 0), (1964870793, 3391589652, 0), (2295273220, 3391589633, 0), (2295273220, 1964870787, 0), (3343875225, 5235822313, 0), (3343875225, 3391605657, 0), (3391589633, 2295273220, 0), (3391589639, 3391589640, 0), (3391589640, 6649094911, 0), (3391589646, 3391589652, 0), (3391589646, 1964870793, 0), (3391605657, 5235822305, 0), (3391605657, 1827414724, 0), (3391605664, 3391605666, 0), (3391605665, 3391605666, 0), (3391605665, 1964870787, 0), (3391605666, 3391605665, 0), (3391605666, 3391605664, 0), (5235822300, 3391605657, 0), (5235822300, 5235822305, 0), (5235822305, 3391605664, 0), (5235822312, 9550975988, 0), (5235822313, 3391589633, 0), (6649094911, 5235822313, 0), (6649094911, 3343875225, 0), (6649094919, 1827414724, 0), (6649094919, 5235822312, 0)])"
            ]
          },
          "metadata": {},
          "execution_count": 34
        }
      ]
    },
    {
      "cell_type": "code",
      "source": [
        "graph.nodes[1964870787]"
      ],
      "metadata": {
        "colab": {
          "base_uri": "https://localhost:8080/"
        },
        "id": "y1cWGHI4CvT_",
        "outputId": "a956c665-9ba5-4d37-8a82-55bce84e31df"
      },
      "execution_count": 35,
      "outputs": [
        {
          "output_type": "execute_result",
          "data": {
            "text/plain": [
              "{'street_count': 3, 'x': 4.5462598, 'y': 7.7754342}"
            ]
          },
          "metadata": {},
          "execution_count": 35
        }
      ]
    },
    {
      "cell_type": "markdown",
      "source": [
        "# Converting a graph to a GeoDataFrame\n",
        "\n",
        "OSMNX provides the graph_to_gdfs function for converting a graph to dataframes.\n",
        "\n",
        "The function returns a tuple of two dataframes; nodes and edges.\n",
        "\n",
        "https://osmnx.readthedocs.io/en/stable/osmnx.html#module-osmnx.graph"
      ],
      "metadata": {
        "id": "b4WjYWD6a6ur"
      }
    },
    {
      "cell_type": "code",
      "source": [
        "osogbo_nodes, osogbo_edges = osmnx.graph_to_gdfs(graph)"
      ],
      "metadata": {
        "id": "x5OhBWsza45o"
      },
      "execution_count": 36,
      "outputs": []
    },
    {
      "cell_type": "code",
      "source": [
        "osogbo_edges.head()"
      ],
      "metadata": {
        "colab": {
          "base_uri": "https://localhost:8080/",
          "height": 368
        },
        "id": "TQt5BZxTbplY",
        "outputId": "be8f3cf0-ce9c-4309-8434-602f9ff08ac6"
      },
      "execution_count": 37,
      "outputs": [
        {
          "output_type": "execute_result",
          "data": {
            "text/plain": [
              "                               osmid  oneway lanes                   name  \\\n",
              "u          v          key                                                   \n",
              "1827414724 1964870793 0    545377792    True     2  Gbongan - Osogbo Road   \n",
              "           5235822312 0    546530325    True   NaN                    NaN   \n",
              "1964870787 3391605665 0    185797197   False   NaN                    NaN   \n",
              "           5235822300 0    545170397    True   NaN                    NaN   \n",
              "1964870793 3343875225 0    545170390    True   NaN                    NaN   \n",
              "\n",
              "                            highway  length  \\\n",
              "u          v          key                     \n",
              "1827414724 1964870793 0     primary  11.506   \n",
              "           5235822312 0     primary  64.411   \n",
              "1964870787 3391605665 0    tertiary  99.952   \n",
              "           5235822300 0     primary  45.323   \n",
              "1964870793 3343875225 0     primary   8.580   \n",
              "\n",
              "                                                                    geometry  \\\n",
              "u          v          key                                                      \n",
              "1827414724 1964870793 0        LINESTRING (4.54561 7.77595, 4.54555 7.77587)   \n",
              "           5235822312 0    LINESTRING (4.54561 7.77595, 4.54531 7.77617, ...   \n",
              "1964870787 3391605665 0    LINESTRING (4.54626 7.77543, 4.54644 7.77553, ...   \n",
              "           5235822300 0    LINESTRING (4.54626 7.77543, 4.54620 7.77549, ...   \n",
              "1964870793 3343875225 0        LINESTRING (4.54555 7.77587, 4.54561 7.77582)   \n",
              "\n",
              "                          bridge  \n",
              "u          v          key         \n",
              "1827414724 1964870793 0      NaN  \n",
              "           5235822312 0      NaN  \n",
              "1964870787 3391605665 0      NaN  \n",
              "           5235822300 0      NaN  \n",
              "1964870793 3343875225 0      NaN  "
            ],
            "text/html": [
              "\n",
              "  <div id=\"df-8a5b59ba-633d-44f9-aa06-62f134a60e6f\">\n",
              "    <div class=\"colab-df-container\">\n",
              "      <div>\n",
              "<style scoped>\n",
              "    .dataframe tbody tr th:only-of-type {\n",
              "        vertical-align: middle;\n",
              "    }\n",
              "\n",
              "    .dataframe tbody tr th {\n",
              "        vertical-align: top;\n",
              "    }\n",
              "\n",
              "    .dataframe thead th {\n",
              "        text-align: right;\n",
              "    }\n",
              "</style>\n",
              "<table border=\"1\" class=\"dataframe\">\n",
              "  <thead>\n",
              "    <tr style=\"text-align: right;\">\n",
              "      <th></th>\n",
              "      <th></th>\n",
              "      <th></th>\n",
              "      <th>osmid</th>\n",
              "      <th>oneway</th>\n",
              "      <th>lanes</th>\n",
              "      <th>name</th>\n",
              "      <th>highway</th>\n",
              "      <th>length</th>\n",
              "      <th>geometry</th>\n",
              "      <th>bridge</th>\n",
              "    </tr>\n",
              "    <tr>\n",
              "      <th>u</th>\n",
              "      <th>v</th>\n",
              "      <th>key</th>\n",
              "      <th></th>\n",
              "      <th></th>\n",
              "      <th></th>\n",
              "      <th></th>\n",
              "      <th></th>\n",
              "      <th></th>\n",
              "      <th></th>\n",
              "      <th></th>\n",
              "    </tr>\n",
              "  </thead>\n",
              "  <tbody>\n",
              "    <tr>\n",
              "      <th rowspan=\"2\" valign=\"top\">1827414724</th>\n",
              "      <th>1964870793</th>\n",
              "      <th>0</th>\n",
              "      <td>545377792</td>\n",
              "      <td>True</td>\n",
              "      <td>2</td>\n",
              "      <td>Gbongan - Osogbo Road</td>\n",
              "      <td>primary</td>\n",
              "      <td>11.506</td>\n",
              "      <td>LINESTRING (4.54561 7.77595, 4.54555 7.77587)</td>\n",
              "      <td>NaN</td>\n",
              "    </tr>\n",
              "    <tr>\n",
              "      <th>5235822312</th>\n",
              "      <th>0</th>\n",
              "      <td>546530325</td>\n",
              "      <td>True</td>\n",
              "      <td>NaN</td>\n",
              "      <td>NaN</td>\n",
              "      <td>primary</td>\n",
              "      <td>64.411</td>\n",
              "      <td>LINESTRING (4.54561 7.77595, 4.54531 7.77617, ...</td>\n",
              "      <td>NaN</td>\n",
              "    </tr>\n",
              "    <tr>\n",
              "      <th rowspan=\"2\" valign=\"top\">1964870787</th>\n",
              "      <th>3391605665</th>\n",
              "      <th>0</th>\n",
              "      <td>185797197</td>\n",
              "      <td>False</td>\n",
              "      <td>NaN</td>\n",
              "      <td>NaN</td>\n",
              "      <td>tertiary</td>\n",
              "      <td>99.952</td>\n",
              "      <td>LINESTRING (4.54626 7.77543, 4.54644 7.77553, ...</td>\n",
              "      <td>NaN</td>\n",
              "    </tr>\n",
              "    <tr>\n",
              "      <th>5235822300</th>\n",
              "      <th>0</th>\n",
              "      <td>545170397</td>\n",
              "      <td>True</td>\n",
              "      <td>NaN</td>\n",
              "      <td>NaN</td>\n",
              "      <td>primary</td>\n",
              "      <td>45.323</td>\n",
              "      <td>LINESTRING (4.54626 7.77543, 4.54620 7.77549, ...</td>\n",
              "      <td>NaN</td>\n",
              "    </tr>\n",
              "    <tr>\n",
              "      <th>1964870793</th>\n",
              "      <th>3343875225</th>\n",
              "      <th>0</th>\n",
              "      <td>545170390</td>\n",
              "      <td>True</td>\n",
              "      <td>NaN</td>\n",
              "      <td>NaN</td>\n",
              "      <td>primary</td>\n",
              "      <td>8.580</td>\n",
              "      <td>LINESTRING (4.54555 7.77587, 4.54561 7.77582)</td>\n",
              "      <td>NaN</td>\n",
              "    </tr>\n",
              "  </tbody>\n",
              "</table>\n",
              "</div>\n",
              "      <button class=\"colab-df-convert\" onclick=\"convertToInteractive('df-8a5b59ba-633d-44f9-aa06-62f134a60e6f')\"\n",
              "              title=\"Convert this dataframe to an interactive table.\"\n",
              "              style=\"display:none;\">\n",
              "        \n",
              "  <svg xmlns=\"http://www.w3.org/2000/svg\" height=\"24px\"viewBox=\"0 0 24 24\"\n",
              "       width=\"24px\">\n",
              "    <path d=\"M0 0h24v24H0V0z\" fill=\"none\"/>\n",
              "    <path d=\"M18.56 5.44l.94 2.06.94-2.06 2.06-.94-2.06-.94-.94-2.06-.94 2.06-2.06.94zm-11 1L8.5 8.5l.94-2.06 2.06-.94-2.06-.94L8.5 2.5l-.94 2.06-2.06.94zm10 10l.94 2.06.94-2.06 2.06-.94-2.06-.94-.94-2.06-.94 2.06-2.06.94z\"/><path d=\"M17.41 7.96l-1.37-1.37c-.4-.4-.92-.59-1.43-.59-.52 0-1.04.2-1.43.59L10.3 9.45l-7.72 7.72c-.78.78-.78 2.05 0 2.83L4 21.41c.39.39.9.59 1.41.59.51 0 1.02-.2 1.41-.59l7.78-7.78 2.81-2.81c.8-.78.8-2.07 0-2.86zM5.41 20L4 18.59l7.72-7.72 1.47 1.35L5.41 20z\"/>\n",
              "  </svg>\n",
              "      </button>\n",
              "      \n",
              "  <style>\n",
              "    .colab-df-container {\n",
              "      display:flex;\n",
              "      flex-wrap:wrap;\n",
              "      gap: 12px;\n",
              "    }\n",
              "\n",
              "    .colab-df-convert {\n",
              "      background-color: #E8F0FE;\n",
              "      border: none;\n",
              "      border-radius: 50%;\n",
              "      cursor: pointer;\n",
              "      display: none;\n",
              "      fill: #1967D2;\n",
              "      height: 32px;\n",
              "      padding: 0 0 0 0;\n",
              "      width: 32px;\n",
              "    }\n",
              "\n",
              "    .colab-df-convert:hover {\n",
              "      background-color: #E2EBFA;\n",
              "      box-shadow: 0px 1px 2px rgba(60, 64, 67, 0.3), 0px 1px 3px 1px rgba(60, 64, 67, 0.15);\n",
              "      fill: #174EA6;\n",
              "    }\n",
              "\n",
              "    [theme=dark] .colab-df-convert {\n",
              "      background-color: #3B4455;\n",
              "      fill: #D2E3FC;\n",
              "    }\n",
              "\n",
              "    [theme=dark] .colab-df-convert:hover {\n",
              "      background-color: #434B5C;\n",
              "      box-shadow: 0px 1px 3px 1px rgba(0, 0, 0, 0.15);\n",
              "      filter: drop-shadow(0px 1px 2px rgba(0, 0, 0, 0.3));\n",
              "      fill: #FFFFFF;\n",
              "    }\n",
              "  </style>\n",
              "\n",
              "      <script>\n",
              "        const buttonEl =\n",
              "          document.querySelector('#df-8a5b59ba-633d-44f9-aa06-62f134a60e6f button.colab-df-convert');\n",
              "        buttonEl.style.display =\n",
              "          google.colab.kernel.accessAllowed ? 'block' : 'none';\n",
              "\n",
              "        async function convertToInteractive(key) {\n",
              "          const element = document.querySelector('#df-8a5b59ba-633d-44f9-aa06-62f134a60e6f');\n",
              "          const dataTable =\n",
              "            await google.colab.kernel.invokeFunction('convertToInteractive',\n",
              "                                                     [key], {});\n",
              "          if (!dataTable) return;\n",
              "\n",
              "          const docLinkHtml = 'Like what you see? Visit the ' +\n",
              "            '<a target=\"_blank\" href=https://colab.research.google.com/notebooks/data_table.ipynb>data table notebook</a>'\n",
              "            + ' to learn more about interactive tables.';\n",
              "          element.innerHTML = '';\n",
              "          dataTable['output_type'] = 'display_data';\n",
              "          await google.colab.output.renderOutput(dataTable, element);\n",
              "          const docLink = document.createElement('div');\n",
              "          docLink.innerHTML = docLinkHtml;\n",
              "          element.appendChild(docLink);\n",
              "        }\n",
              "      </script>\n",
              "    </div>\n",
              "  </div>\n",
              "  "
            ]
          },
          "metadata": {},
          "execution_count": 37
        }
      ]
    },
    {
      "cell_type": "code",
      "source": [
        "import networkx as nx"
      ],
      "metadata": {
        "id": "bJomvwM4dn00"
      },
      "execution_count": 38,
      "outputs": []
    },
    {
      "cell_type": "code",
      "source": [
        "for x in nx.to_edgelist(graph):\n",
        "  print(x)\n",
        "  break"
      ],
      "metadata": {
        "colab": {
          "base_uri": "https://localhost:8080/"
        },
        "id": "LBL81tD-cC-2",
        "outputId": "97a86f12-79c7-48e3-f652-cfa13f71401e"
      },
      "execution_count": 39,
      "outputs": [
        {
          "output_type": "stream",
          "name": "stdout",
          "text": [
            "(1827414724, 1964870793, {'osmid': 545377792, 'oneway': True, 'lanes': '2', 'name': 'Gbongan - Osogbo Road', 'highway': 'primary', 'length': 11.506})\n"
          ]
        }
      ]
    },
    {
      "cell_type": "code",
      "source": [
        "graph.nodes[5235822312]"
      ],
      "metadata": {
        "colab": {
          "base_uri": "https://localhost:8080/"
        },
        "id": "GLxK-S2qdXrG",
        "outputId": "14fb5375-74e6-41ef-9854-151c51bfcc8e"
      },
      "execution_count": 40,
      "outputs": [
        {
          "output_type": "execute_result",
          "data": {
            "text/plain": [
              "{'street_count': 3, 'x': 4.5451419, 'y': 7.7762938}"
            ]
          },
          "metadata": {},
          "execution_count": 40
        }
      ]
    },
    {
      "cell_type": "code",
      "source": [
        "osogbo_nodes.loc[1964870793]"
      ],
      "metadata": {
        "colab": {
          "base_uri": "https://localhost:8080/"
        },
        "id": "J4iCJyuqoMU3",
        "outputId": "93159b6f-2b93-4c03-96d3-c61d00de979d"
      },
      "execution_count": 41,
      "outputs": [
        {
          "output_type": "execute_result",
          "data": {
            "text/plain": [
              "y                                  7.775867\n",
              "x                                  4.545551\n",
              "highway                                 NaN\n",
              "street_count                              4\n",
              "geometry        POINT (4.5455506 7.7758672)\n",
              "Name: 1964870793, dtype: object"
            ]
          },
          "metadata": {},
          "execution_count": 41
        }
      ]
    },
    {
      "cell_type": "code",
      "source": [
        "f, (ax1,ax2) = plt.subplots(1, 2, figsize=(12, 10));\n",
        "osogbo_nodes.plot(ax=ax1) #all nodes\n",
        "geopandas.GeoSeries(osogbo_nodes.loc[1827414724, 'geometry'], crs=osogbo_nodes.crs).plot(ax=ax1, color= 'y') #first node\n",
        "ax2 = osmnx.plot_graph(graph, ax=ax2, node_color='k', close=False, show=False, save=False) # graph ax2\n",
        "osogbo_edges.loc[1827414724].plot(ax=ax1, color='k') #line/edge\n",
        "geopandas.GeoSeries(osogbo_nodes.loc[5235822312, 'geometry'], crs=osogbo_nodes.crs).plot(ax=ax1, color='m') # second node\n",
        "ax1.axis([4.54500, 4.5460, 7.7755, 7.7765])\n"
      ],
      "metadata": {
        "colab": {
          "base_uri": "https://localhost:8080/",
          "height": 372
        },
        "id": "o75aDRehevuD",
        "outputId": "63aa2de7-8fae-42f3-94dc-e200a09be30d"
      },
      "execution_count": 42,
      "outputs": [
        {
          "output_type": "execute_result",
          "data": {
            "text/plain": [
              "(4.545, 4.546, 7.7755, 7.7765)"
            ]
          },
          "metadata": {},
          "execution_count": 42
        },
        {
          "output_type": "display_data",
          "data": {
            "text/plain": [
              "<Figure size 864x720 with 2 Axes>"
            ],
            "image/png": "[encoded data removed]"
          },
          "metadata": {
            "needs_background": "light"
          }
        }
      ]
    },
    {
      "cell_type": "code",
      "source": [
        "graph.nodes[1827414724]"
      ],
      "metadata": {
        "colab": {
          "base_uri": "https://localhost:8080/"
        },
        "id": "E56GAY34favI",
        "outputId": "ae759da6-b328-467c-b439-3ecec1361f45"
      },
      "execution_count": 43,
      "outputs": [
        {
          "output_type": "execute_result",
          "data": {
            "text/plain": [
              "{'highway': 'traffic_signals',\n",
              " 'street_count': 4,\n",
              " 'x': 4.5456127,\n",
              " 'y': 7.7759504}"
            ]
          },
          "metadata": {},
          "execution_count": 43
        }
      ]
    },
    {
      "cell_type": "markdown",
      "source": [
        "# Can you answer the following queries?\n",
        "\n",
        "What neighborhood (or neighborhoods) have the the highest average elevation?\n",
        "\n",
        "What neighborhood (or neighborhoods) have the highest point single point?\n",
        "\n",
        "Can you find the neighborhood (or neighborhoods) with the largest elevation change?"
      ],
      "metadata": {
        "id": "yhIfRYBwdbpO"
      }
    },
    {
      "cell_type": "code",
      "source": [
        ""
      ],
      "metadata": {
        "id": "-1HKQA1rdZkU"
      },
      "execution_count": 43,
      "outputs": []
    },
    {
      "cell_type": "code",
      "source": [
        "sd_df = geopandas.read_file('/content/san_diego.gpkg')\n",
        "sd_df.shape, sd_df.columns"
      ],
      "metadata": {
        "colab": {
          "base_uri": "https://localhost:8080/"
        },
        "id": "whbz7JPseF1G",
        "outputId": "2162940f-3757-4168-cc95-a90dd77cfae0"
      },
      "execution_count": 55,
      "outputs": [
        {
          "output_type": "execute_result",
          "data": {
            "text/plain": [
              "((628, 25),\n",
              " Index(['GEOID', 'median_age', 'total_pop', 'total_pop_white', 'tt_work',\n",
              "        'hh_total', 'hh_female', 'total_bachelor', 'median_hh_income',\n",
              "        'income_gini', 'total_housing_units', 'total_rented', 'median_no_rooms',\n",
              "        'median_house_value', 'NAME', 'state', 'county', 'tract', 'area_sqm',\n",
              "        'pct_rented', 'pct_hh_female', 'pct_bachelor', 'pct_white', 'sub_30',\n",
              "        'geometry'],\n",
              "       dtype='object'))"
            ]
          },
          "metadata": {},
          "execution_count": 55
        }
      ]
    },
    {
      "cell_type": "code",
      "source": [
        "sd_df.head(2)"
      ],
      "metadata": {
        "colab": {
          "base_uri": "https://localhost:8080/",
          "height": 310
        },
        "id": "RrjFIB3WeP5p",
        "outputId": "2c60b7a2-b9eb-4a72-89da-6906506290b1"
      },
      "execution_count": 50,
      "outputs": [
        {
          "output_type": "execute_result",
          "data": {
            "text/plain": [
              "         GEOID  median_age  total_pop  total_pop_white  tt_work  hh_total  \\\n",
              "0  06073018300        37.1     2590.0           2375.0   1299.0    2590.0   \n",
              "1  06073018601        41.2     5147.0           4069.0   1970.0    5147.0   \n",
              "\n",
              "   hh_female  total_bachelor  median_hh_income  income_gini  ...  state  \\\n",
              "0      137.0             0.0           62500.0       0.5355  ...     06   \n",
              "1      562.0            24.0           88165.0       0.4265  ...     06   \n",
              "\n",
              "   county   tract  area_sqm pct_rented pct_hh_female pct_bachelor pct_white  \\\n",
              "0     073  018300  2.876449   0.373913      0.052896     0.000000  0.916988   \n",
              "1     073  018601  4.548797   0.205144      0.109190     0.004663  0.790558   \n",
              "\n",
              "   sub_30                                           geometry  \n",
              "0   False  POLYGON ((-13069450.120 3922380.770, -13069175...  \n",
              "1   False  POLYGON ((-13067719.770 3922939.420, -13067631...  \n",
              "\n",
              "[2 rows x 25 columns]"
            ],
            "text/html": [
              "\n",
              "  <div id=\"df-c9943324-4489-48a4-a33d-e022913b3397\">\n",
              "    <div class=\"colab-df-container\">\n",
              "      <div>\n",
              "<style scoped>\n",
              "    .dataframe tbody tr th:only-of-type {\n",
              "        vertical-align: middle;\n",
              "    }\n",
              "\n",
              "    .dataframe tbody tr th {\n",
              "        vertical-align: top;\n",
              "    }\n",
              "\n",
              "    .dataframe thead th {\n",
              "        text-align: right;\n",
              "    }\n",
              "</style>\n",
              "<table border=\"1\" class=\"dataframe\">\n",
              "  <thead>\n",
              "    <tr style=\"text-align: right;\">\n",
              "      <th></th>\n",
              "      <th>GEOID</th>\n",
              "      <th>median_age</th>\n",
              "      <th>total_pop</th>\n",
              "      <th>total_pop_white</th>\n",
              "      <th>tt_work</th>\n",
              "      <th>hh_total</th>\n",
              "      <th>hh_female</th>\n",
              "      <th>total_bachelor</th>\n",
              "      <th>median_hh_income</th>\n",
              "      <th>income_gini</th>\n",
              "      <th>...</th>\n",
              "      <th>state</th>\n",
              "      <th>county</th>\n",
              "      <th>tract</th>\n",
              "      <th>area_sqm</th>\n",
              "      <th>pct_rented</th>\n",
              "      <th>pct_hh_female</th>\n",
              "      <th>pct_bachelor</th>\n",
              "      <th>pct_white</th>\n",
              "      <th>sub_30</th>\n",
              "      <th>geometry</th>\n",
              "    </tr>\n",
              "  </thead>\n",
              "  <tbody>\n",
              "    <tr>\n",
              "      <th>0</th>\n",
              "      <td>06073018300</td>\n",
              "      <td>37.1</td>\n",
              "      <td>2590.0</td>\n",
              "      <td>2375.0</td>\n",
              "      <td>1299.0</td>\n",
              "      <td>2590.0</td>\n",
              "      <td>137.0</td>\n",
              "      <td>0.0</td>\n",
              "      <td>62500.0</td>\n",
              "      <td>0.5355</td>\n",
              "      <td>...</td>\n",
              "      <td>06</td>\n",
              "      <td>073</td>\n",
              "      <td>018300</td>\n",
              "      <td>2.876449</td>\n",
              "      <td>0.373913</td>\n",
              "      <td>0.052896</td>\n",
              "      <td>0.000000</td>\n",
              "      <td>0.916988</td>\n",
              "      <td>False</td>\n",
              "      <td>POLYGON ((-13069450.120 3922380.770, -13069175...</td>\n",
              "    </tr>\n",
              "    <tr>\n",
              "      <th>1</th>\n",
              "      <td>06073018601</td>\n",
              "      <td>41.2</td>\n",
              "      <td>5147.0</td>\n",
              "      <td>4069.0</td>\n",
              "      <td>1970.0</td>\n",
              "      <td>5147.0</td>\n",
              "      <td>562.0</td>\n",
              "      <td>24.0</td>\n",
              "      <td>88165.0</td>\n",
              "      <td>0.4265</td>\n",
              "      <td>...</td>\n",
              "      <td>06</td>\n",
              "      <td>073</td>\n",
              "      <td>018601</td>\n",
              "      <td>4.548797</td>\n",
              "      <td>0.205144</td>\n",
              "      <td>0.109190</td>\n",
              "      <td>0.004663</td>\n",
              "      <td>0.790558</td>\n",
              "      <td>False</td>\n",
              "      <td>POLYGON ((-13067719.770 3922939.420, -13067631...</td>\n",
              "    </tr>\n",
              "  </tbody>\n",
              "</table>\n",
              "<p>2 rows × 25 columns</p>\n",
              "</div>\n",
              "      <button class=\"colab-df-convert\" onclick=\"convertToInteractive('df-c9943324-4489-48a4-a33d-e022913b3397')\"\n",
              "              title=\"Convert this dataframe to an interactive table.\"\n",
              "              style=\"display:none;\">\n",
              "        \n",
              "  <svg xmlns=\"http://www.w3.org/2000/svg\" height=\"24px\"viewBox=\"0 0 24 24\"\n",
              "       width=\"24px\">\n",
              "    <path d=\"M0 0h24v24H0V0z\" fill=\"none\"/>\n",
              "    <path d=\"M18.56 5.44l.94 2.06.94-2.06 2.06-.94-2.06-.94-.94-2.06-.94 2.06-2.06.94zm-11 1L8.5 8.5l.94-2.06 2.06-.94-2.06-.94L8.5 2.5l-.94 2.06-2.06.94zm10 10l.94 2.06.94-2.06 2.06-.94-2.06-.94-.94-2.06-.94 2.06-2.06.94z\"/><path d=\"M17.41 7.96l-1.37-1.37c-.4-.4-.92-.59-1.43-.59-.52 0-1.04.2-1.43.59L10.3 9.45l-7.72 7.72c-.78.78-.78 2.05 0 2.83L4 21.41c.39.39.9.59 1.41.59.51 0 1.02-.2 1.41-.59l7.78-7.78 2.81-2.81c.8-.78.8-2.07 0-2.86zM5.41 20L4 18.59l7.72-7.72 1.47 1.35L5.41 20z\"/>\n",
              "  </svg>\n",
              "      </button>\n",
              "      \n",
              "  <style>\n",
              "    .colab-df-container {\n",
              "      display:flex;\n",
              "      flex-wrap:wrap;\n",
              "      gap: 12px;\n",
              "    }\n",
              "\n",
              "    .colab-df-convert {\n",
              "      background-color: #E8F0FE;\n",
              "      border: none;\n",
              "      border-radius: 50%;\n",
              "      cursor: pointer;\n",
              "      display: none;\n",
              "      fill: #1967D2;\n",
              "      height: 32px;\n",
              "      padding: 0 0 0 0;\n",
              "      width: 32px;\n",
              "    }\n",
              "\n",
              "    .colab-df-convert:hover {\n",
              "      background-color: #E2EBFA;\n",
              "      box-shadow: 0px 1px 2px rgba(60, 64, 67, 0.3), 0px 1px 3px 1px rgba(60, 64, 67, 0.15);\n",
              "      fill: #174EA6;\n",
              "    }\n",
              "\n",
              "    [theme=dark] .colab-df-convert {\n",
              "      background-color: #3B4455;\n",
              "      fill: #D2E3FC;\n",
              "    }\n",
              "\n",
              "    [theme=dark] .colab-df-convert:hover {\n",
              "      background-color: #434B5C;\n",
              "      box-shadow: 0px 1px 3px 1px rgba(0, 0, 0, 0.15);\n",
              "      filter: drop-shadow(0px 1px 2px rgba(0, 0, 0, 0.3));\n",
              "      fill: #FFFFFF;\n",
              "    }\n",
              "  </style>\n",
              "\n",
              "      <script>\n",
              "        const buttonEl =\n",
              "          document.querySelector('#df-c9943324-4489-48a4-a33d-e022913b3397 button.colab-df-convert');\n",
              "        buttonEl.style.display =\n",
              "          google.colab.kernel.accessAllowed ? 'block' : 'none';\n",
              "\n",
              "        async function convertToInteractive(key) {\n",
              "          const element = document.querySelector('#df-c9943324-4489-48a4-a33d-e022913b3397');\n",
              "          const dataTable =\n",
              "            await google.colab.kernel.invokeFunction('convertToInteractive',\n",
              "                                                     [key], {});\n",
              "          if (!dataTable) return;\n",
              "\n",
              "          const docLinkHtml = 'Like what you see? Visit the ' +\n",
              "            '<a target=\"_blank\" href=https://colab.research.google.com/notebooks/data_table.ipynb>data table notebook</a>'\n",
              "            + ' to learn more about interactive tables.';\n",
              "          element.innerHTML = '';\n",
              "          dataTable['output_type'] = 'display_data';\n",
              "          await google.colab.output.renderOutput(dataTable, element);\n",
              "          const docLink = document.createElement('div');\n",
              "          docLink.innerHTML = docLinkHtml;\n",
              "          element.appendChild(docLink);\n",
              "        }\n",
              "      </script>\n",
              "    </div>\n",
              "  </div>\n",
              "  "
            ]
          },
          "metadata": {},
          "execution_count": 50
        }
      ]
    },
    {
      "cell_type": "code",
      "source": [
        "sd_df.plot()"
      ],
      "metadata": {
        "colab": {
          "base_uri": "https://localhost:8080/",
          "height": 306
        },
        "id": "cVpmNv6IhwxL",
        "outputId": "bc3804a7-46b6-43bb-8a2f-197ea41330e5"
      },
      "execution_count": 60,
      "outputs": [
        {
          "output_type": "execute_result",
          "data": {
            "text/plain": [
              "<AxesSubplot:>"
            ]
          },
          "metadata": {},
          "execution_count": 60
        },
        {
          "output_type": "display_data",
          "data": {
            "text/plain": [
              "<Figure size 432x288 with 1 Axes>"
            ],
            "image/png": "[encoded data removed]"
          },
          "metadata": {
            "needs_background": "light"
          }
        }
      ]
    },
    {
      "cell_type": "code",
      "source": [
        "nasa_dem = xarray.open_rasterio('/content/nasa_dem.tif').sel(band=1)\n",
        "nasa_dem.where(nasa_dem>=0).plot.imshow()"
      ],
      "metadata": {
        "colab": {
          "base_uri": "https://localhost:8080/",
          "height": 367
        },
        "id": "vIwZD4udeqwd",
        "outputId": "72994ce7-f0f0-4cbf-f207-63f0802b344f"
      },
      "execution_count": 59,
      "outputs": [
        {
          "output_type": "stream",
          "name": "stderr",
          "text": [
            "/usr/local/lib/python3.7/dist-packages/ipykernel_launcher.py:1: DeprecationWarning: open_rasterio is Deprecated in favor of rioxarray. For information about transitioning, see: https://corteva.github.io/rioxarray/stable/getting_started/getting_started.html\n",
            "  \"\"\"Entry point for launching an IPython kernel.\n"
          ]
        },
        {
          "output_type": "execute_result",
          "data": {
            "text/plain": [
              "<matplotlib.image.AxesImage at 0x7fb4c24f9d90>"
            ]
          },
          "metadata": {},
          "execution_count": 59
        },
        {
          "output_type": "display_data",
          "data": {
            "text/plain": [
              "<Figure size 432x288 with 2 Axes>"
            ],
            "image/png": "[encoded data removed]"
          },
          "metadata": {
            "needs_background": "light"
          }
        }
      ]
    },
    {
      "cell_type": "code",
      "source": [
        "from rasterstats import zonal_stats"
      ],
      "metadata": {
        "id": "rhVXdJrXhP-x"
      },
      "execution_count": 61,
      "outputs": []
    },
    {
      "cell_type": "code",
      "source": [
        "elevations2 = zonal_stats(\n",
        "    sd_df.to_crs(nasa_dem.rio.crs),   # Geotable with zones\n",
        "    '/content/nasa_dem.tif' # Path to surface file\n",
        ")\n",
        "elevations2 = pandas.DataFrame(elevations2)\n",
        "elevations2.head()"
      ],
      "metadata": {
        "colab": {
          "base_uri": "https://localhost:8080/",
          "height": 206
        },
        "id": "Rl-oj43SiNMG",
        "outputId": "555aebfb-6206-41e0-89cd-ddafe8dd5f30"
      },
      "execution_count": 75,
      "outputs": [
        {
          "output_type": "execute_result",
          "data": {
            "text/plain": [
              "    min    max        mean   count\n",
              "0 -12.0   18.0    3.538397    3594\n",
              "1  -2.0   94.0   35.616395    5709\n",
              "2  -5.0  121.0   48.742630   10922\n",
              "3  31.0  149.0   91.358777    4415\n",
              "4 -32.0  965.0  184.284941  701973"
            ],
            "text/html": [
              "\n",
              "  <div id=\"df-9c737b51-ffd8-4690-a8d9-5dc677858897\">\n",
              "    <div class=\"colab-df-container\">\n",
              "      <div>\n",
              "<style scoped>\n",
              "    .dataframe tbody tr th:only-of-type {\n",
              "        vertical-align: middle;\n",
              "    }\n",
              "\n",
              "    .dataframe tbody tr th {\n",
              "        vertical-align: top;\n",
              "    }\n",
              "\n",
              "    .dataframe thead th {\n",
              "        text-align: right;\n",
              "    }\n",
              "</style>\n",
              "<table border=\"1\" class=\"dataframe\">\n",
              "  <thead>\n",
              "    <tr style=\"text-align: right;\">\n",
              "      <th></th>\n",
              "      <th>min</th>\n",
              "      <th>max</th>\n",
              "      <th>mean</th>\n",
              "      <th>count</th>\n",
              "    </tr>\n",
              "  </thead>\n",
              "  <tbody>\n",
              "    <tr>\n",
              "      <th>0</th>\n",
              "      <td>-12.0</td>\n",
              "      <td>18.0</td>\n",
              "      <td>3.538397</td>\n",
              "      <td>3594</td>\n",
              "    </tr>\n",
              "    <tr>\n",
              "      <th>1</th>\n",
              "      <td>-2.0</td>\n",
              "      <td>94.0</td>\n",
              "      <td>35.616395</td>\n",
              "      <td>5709</td>\n",
              "    </tr>\n",
              "    <tr>\n",
              "      <th>2</th>\n",
              "      <td>-5.0</td>\n",
              "      <td>121.0</td>\n",
              "      <td>48.742630</td>\n",
              "      <td>10922</td>\n",
              "    </tr>\n",
              "    <tr>\n",
              "      <th>3</th>\n",
              "      <td>31.0</td>\n",
              "      <td>149.0</td>\n",
              "      <td>91.358777</td>\n",
              "      <td>4415</td>\n",
              "    </tr>\n",
              "    <tr>\n",
              "      <th>4</th>\n",
              "      <td>-32.0</td>\n",
              "      <td>965.0</td>\n",
              "      <td>184.284941</td>\n",
              "      <td>701973</td>\n",
              "    </tr>\n",
              "  </tbody>\n",
              "</table>\n",
              "</div>\n",
              "      <button class=\"colab-df-convert\" onclick=\"convertToInteractive('df-9c737b51-ffd8-4690-a8d9-5dc677858897')\"\n",
              "              title=\"Convert this dataframe to an interactive table.\"\n",
              "              style=\"display:none;\">\n",
              "        \n",
              "  <svg xmlns=\"http://www.w3.org/2000/svg\" height=\"24px\"viewBox=\"0 0 24 24\"\n",
              "       width=\"24px\">\n",
              "    <path d=\"M0 0h24v24H0V0z\" fill=\"none\"/>\n",
              "    <path d=\"M18.56 5.44l.94 2.06.94-2.06 2.06-.94-2.06-.94-.94-2.06-.94 2.06-2.06.94zm-11 1L8.5 8.5l.94-2.06 2.06-.94-2.06-.94L8.5 2.5l-.94 2.06-2.06.94zm10 10l.94 2.06.94-2.06 2.06-.94-2.06-.94-.94-2.06-.94 2.06-2.06.94z\"/><path d=\"M17.41 7.96l-1.37-1.37c-.4-.4-.92-.59-1.43-.59-.52 0-1.04.2-1.43.59L10.3 9.45l-7.72 7.72c-.78.78-.78 2.05 0 2.83L4 21.41c.39.39.9.59 1.41.59.51 0 1.02-.2 1.41-.59l7.78-7.78 2.81-2.81c.8-.78.8-2.07 0-2.86zM5.41 20L4 18.59l7.72-7.72 1.47 1.35L5.41 20z\"/>\n",
              "  </svg>\n",
              "      </button>\n",
              "      \n",
              "  <style>\n",
              "    .colab-df-container {\n",
              "      display:flex;\n",
              "      flex-wrap:wrap;\n",
              "      gap: 12px;\n",
              "    }\n",
              "\n",
              "    .colab-df-convert {\n",
              "      background-color: #E8F0FE;\n",
              "      border: none;\n",
              "      border-radius: 50%;\n",
              "      cursor: pointer;\n",
              "      display: none;\n",
              "      fill: #1967D2;\n",
              "      height: 32px;\n",
              "      padding: 0 0 0 0;\n",
              "      width: 32px;\n",
              "    }\n",
              "\n",
              "    .colab-df-convert:hover {\n",
              "      background-color: #E2EBFA;\n",
              "      box-shadow: 0px 1px 2px rgba(60, 64, 67, 0.3), 0px 1px 3px 1px rgba(60, 64, 67, 0.15);\n",
              "      fill: #174EA6;\n",
              "    }\n",
              "\n",
              "    [theme=dark] .colab-df-convert {\n",
              "      background-color: #3B4455;\n",
              "      fill: #D2E3FC;\n",
              "    }\n",
              "\n",
              "    [theme=dark] .colab-df-convert:hover {\n",
              "      background-color: #434B5C;\n",
              "      box-shadow: 0px 1px 3px 1px rgba(0, 0, 0, 0.15);\n",
              "      filter: drop-shadow(0px 1px 2px rgba(0, 0, 0, 0.3));\n",
              "      fill: #FFFFFF;\n",
              "    }\n",
              "  </style>\n",
              "\n",
              "      <script>\n",
              "        const buttonEl =\n",
              "          document.querySelector('#df-9c737b51-ffd8-4690-a8d9-5dc677858897 button.colab-df-convert');\n",
              "        buttonEl.style.display =\n",
              "          google.colab.kernel.accessAllowed ? 'block' : 'none';\n",
              "\n",
              "        async function convertToInteractive(key) {\n",
              "          const element = document.querySelector('#df-9c737b51-ffd8-4690-a8d9-5dc677858897');\n",
              "          const dataTable =\n",
              "            await google.colab.kernel.invokeFunction('convertToInteractive',\n",
              "                                                     [key], {});\n",
              "          if (!dataTable) return;\n",
              "\n",
              "          const docLinkHtml = 'Like what you see? Visit the ' +\n",
              "            '<a target=\"_blank\" href=https://colab.research.google.com/notebooks/data_table.ipynb>data table notebook</a>'\n",
              "            + ' to learn more about interactive tables.';\n",
              "          element.innerHTML = '';\n",
              "          dataTable['output_type'] = 'display_data';\n",
              "          await google.colab.output.renderOutput(dataTable, element);\n",
              "          const docLink = document.createElement('div');\n",
              "          docLink.innerHTML = docLinkHtml;\n",
              "          element.appendChild(docLink);\n",
              "        }\n",
              "      </script>\n",
              "    </div>\n",
              "  </div>\n",
              "  "
            ]
          },
          "metadata": {},
          "execution_count": 75
        }
      ]
    },
    {
      "cell_type": "code",
      "source": [
        "#confirming that number of rows in zonal_stats output equals numb er of rows in geotable\n",
        "elevations2.shape[0] == sd_df.shape[0]"
      ],
      "metadata": {
        "colab": {
          "base_uri": "https://localhost:8080/"
        },
        "id": "PKDfaRT8j-rg",
        "outputId": "faea16d7-fa25-4fe1-8398-d71b139aef19"
      },
      "execution_count": 76,
      "outputs": [
        {
          "output_type": "execute_result",
          "data": {
            "text/plain": [
              "True"
            ]
          },
          "metadata": {},
          "execution_count": 76
        }
      ]
    },
    {
      "cell_type": "code",
      "source": [
        "# first question\n",
        "sd_df.iloc[elevations2['mean'].idxmax()].NAME"
      ],
      "metadata": {
        "colab": {
          "base_uri": "https://localhost:8080/",
          "height": 35
        },
        "id": "GOTeUiwdi3Ez",
        "outputId": "a2618a24-277a-47cd-d5fc-2ec76baca861"
      },
      "execution_count": 79,
      "outputs": [
        {
          "output_type": "execute_result",
          "data": {
            "text/plain": [
              "'Census Tract 209.04, San Diego County, California'"
            ],
            "application/vnd.google.colaboratory.intrinsic+json": {
              "type": "string"
            }
          },
          "metadata": {},
          "execution_count": 79
        }
      ]
    },
    {
      "cell_type": "code",
      "source": [
        "# second question\n",
        "sd_df.iloc[elevations2['max'].idxmax()].NAME"
      ],
      "metadata": {
        "colab": {
          "base_uri": "https://localhost:8080/",
          "height": 35
        },
        "id": "tRfmfeaPi6MV",
        "outputId": "310adb36-99e6-4c3d-d40c-d9967688c73b"
      },
      "execution_count": 80,
      "outputs": [
        {
          "output_type": "execute_result",
          "data": {
            "text/plain": [
              "'Census Tract 209.03, San Diego County, California'"
            ],
            "application/vnd.google.colaboratory.intrinsic+json": {
              "type": "string"
            }
          },
          "metadata": {},
          "execution_count": 80
        }
      ]
    },
    {
      "cell_type": "code",
      "source": [
        "elevations2['change'] = elevations2['max'] - elevations2['min']\n",
        "elevations2['change'].plot(kind='hist')"
      ],
      "metadata": {
        "colab": {
          "base_uri": "https://localhost:8080/",
          "height": 282
        },
        "id": "LzocEKVHlYjf",
        "outputId": "c56462b0-59aa-4be4-a185-f2b8202b82a2"
      },
      "execution_count": 85,
      "outputs": [
        {
          "output_type": "execute_result",
          "data": {
            "text/plain": [
              "<AxesSubplot:ylabel='Frequency'>"
            ]
          },
          "metadata": {},
          "execution_count": 85
        },
        {
          "output_type": "display_data",
          "data": {
            "text/plain": [
              "<Figure size 432x288 with 1 Axes>"
            ],
            "image/png": "[encoded data removed]"
          },
          "metadata": {
            "needs_background": "light"
          }
        }
      ]
    },
    {
      "cell_type": "markdown",
      "source": [
        "Over 550 of the 628 census tracts have an elevation change less than 200m. \n",
        "\n",
        "The plot shows that a large part of San Diego has a gentle slope. \n",
        "\n",
        "However, there are extreme areas with over 1,750m elevation change."
      ],
      "metadata": {
        "id": "UHepUq_KnfgV"
      }
    },
    {
      "cell_type": "code",
      "source": [
        "# final question\n",
        "sd_df.iloc[elevations2['change'].idxmax()].NAME"
      ],
      "metadata": {
        "colab": {
          "base_uri": "https://localhost:8080/",
          "height": 35
        },
        "id": "JEWMlpN-l5g7",
        "outputId": "38b8c5c4-cd1a-42ea-c3a5-ca59da214112"
      },
      "execution_count": 83,
      "outputs": [
        {
          "output_type": "execute_result",
          "data": {
            "text/plain": [
              "'Census Tract 210, San Diego County, California'"
            ],
            "application/vnd.google.colaboratory.intrinsic+json": {
              "type": "string"
            }
          },
          "metadata": {},
          "execution_count": 83
        }
      ]
    },
    {
      "cell_type": "markdown",
      "source": [
        "# Credit\n",
        "\n",
        "[Geographic Data Science with Python](https://geographicdata.science/book/intro.html)\n",
        "*   Sergio J. Rey\n",
        "*   Dani Arribas-Bel\n",
        "*   Levi J. Wolf\n",
        "\n"
      ],
      "metadata": {
        "id": "HYE3BGH9dlur"
      }
    },
    {
      "cell_type": "code",
      "source": [
        ""
      ],
      "metadata": {
        "id": "aSx9BF3Oof15"
      },
      "execution_count": null,
      "outputs": []
    }
  ]
}