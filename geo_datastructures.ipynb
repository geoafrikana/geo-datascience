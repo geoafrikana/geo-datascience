{
  "nbformat": 4,
  "nbformat_minor": 0,
  "metadata": {
    "colab": {
      "name": "geo_datastructures.ipynb",
      "provenance": [],
      "collapsed_sections": [],
      "mount_file_id": "1Gr9PVja0exj1InbZ34j4Xz1ac31gJKLN",
      "authorship_tag": "ABX9TyO92qQNRjYBnBiN7w+JEr/g",
      "include_colab_link": true
    },
    "kernelspec": {
      "name": "python3",
      "display_name": "Python 3"
    },
    "language_info": {
      "name": "python"
    }
  },
  "cells": [
    {
      "cell_type": "markdown",
      "metadata": {
        "id": "view-in-github",
        "colab_type": "text"
      },
      "source": [
        "<a href=\"https://colab.research.google.com/github/geoafrikana/geo-datascience/blob/main/geo_datastructures.ipynb\" target=\"_parent\"><img src=\"https://colab.research.google.com/assets/colab-badge.svg\" alt=\"Open In Colab\"/></a>"
      ]
    },
    {
      "cell_type": "code",
      "source": [
        "!pip install geopandas contextily osmnx xarray datashader rioxarray shapely pysal -q"
      ],
      "metadata": {
        "colab": {
          "base_uri": "https://localhost:8080/"
        },
        "id": "1QajdMRkqFFz",
        "outputId": "73a1eec8-1acd-43ca-de42-a93d8252c4fe"
      },
      "execution_count": 96,
      "outputs": [
        {
          "output_type": "stream",
          "name": "stdout",
          "text": [
            "\u001b[31mERROR: pip's dependency resolver does not currently take into account all the packages that are installed. This behaviour is the source of the following dependency conflicts.\n",
            "albumentations 0.1.12 requires imgaug<0.2.7,>=0.2.5, but you have imgaug 0.2.9 which is incompatible.\u001b[0m\n"
          ]
        }
      ]
    },
    {
      "cell_type": "code",
      "execution_count": 98,
      "metadata": {
        "id": "kmUyJDIAp6Kg"
      },
      "outputs": [],
      "source": [
        "import numpy, pandas, osmnx, geopandas, rioxarray, xarray, datashader, requests, contextily as cx, seaborn\n",
        "from shapely import geometry\n",
        "import matplotlib.pyplot as plt\n",
        "from pysal.lib import cg"
      ]
    },
    {
      "cell_type": "code",
      "source": [
        "countries_cleaned_url = 'https://geographicdata.science/book/_downloads/aa6db374135e277124917938efb06371/countries_clean.gpkg'\n",
        "tokyo_cleaned_url = 'https://geographicdata.science/book/_downloads/7fb86b605af15b3c9cbd9bfcbead23e9/tokyo_clean.csv'\n",
        "sao_paolo_url = 'https://geographicdata.science/book/_downloads/5263090bd0bdbd7d1635505ff7d36d04/ghsl_sao_paulo.tif'"
      ],
      "metadata": {
        "id": "GhDaQ8x4qEf8"
      },
      "execution_count": 54,
      "outputs": []
    },
    {
      "cell_type": "code",
      "source": [
        "def down(url, name):\n",
        "  r = requests.get(url, allow_redirects=True)\n",
        "  open(name, 'wb').write(r.content)"
      ],
      "metadata": {
        "id": "EnbNAVVRrtg9"
      },
      "execution_count": 56,
      "outputs": []
    },
    {
      "cell_type": "code",
      "source": [
        "gt_polygons = geopandas.read_file('/content/countries_clean.gpkg')"
      ],
      "metadata": {
        "id": "fHBSebCzrugT"
      },
      "execution_count": 7,
      "outputs": []
    },
    {
      "cell_type": "code",
      "source": [
        "gt_polygons['centroid'] = gt_polygons.centroid"
      ],
      "metadata": {
        "id": "YjvrtfQvsix2"
      },
      "execution_count": 8,
      "outputs": []
    },
    {
      "cell_type": "code",
      "source": [
        "gt_polygons.head()"
      ],
      "metadata": {
        "colab": {
          "base_uri": "https://localhost:8080/",
          "height": 206
        },
        "id": "1S4pK0C3svNt",
        "outputId": "d1da3ccf-24f7-4995-9a36-2e2a4d00d923"
      },
      "execution_count": 9,
      "outputs": [
        {
          "output_type": "execute_result",
          "data": {
            "text/plain": [
              "       ADMIN                                           geometry  \\\n",
              "0  Indonesia  MULTIPOLYGON (((13102705.696 463877.598, 13102...   \n",
              "1   Malaysia  MULTIPOLYGON (((13102705.696 463877.598, 13101...   \n",
              "2      Chile  MULTIPOLYGON (((-7737827.685 -1979875.500, -77...   \n",
              "3    Bolivia  POLYGON ((-7737827.685 -1979875.500, -7737828....   \n",
              "4       Peru  MULTIPOLYGON (((-7737827.685 -1979875.500, -77...   \n",
              "\n",
              "                            centroid  \n",
              "0   POINT (13055431.810 -248921.141)  \n",
              "1    POINT (12211696.493 422897.505)  \n",
              "2  POINT (-7959811.948 -4915458.802)  \n",
              "3  POINT (-7200010.945 -1894653.148)  \n",
              "4  POINT (-8277554.831 -1032942.536)  "
            ],
            "text/html": [
              "\n",
              "  <div id=\"df-48535aa3-8397-4e97-b0c2-d837681327e0\">\n",
              "    <div class=\"colab-df-container\">\n",
              "      <div>\n",
              "<style scoped>\n",
              "    .dataframe tbody tr th:only-of-type {\n",
              "        vertical-align: middle;\n",
              "    }\n",
              "\n",
              "    .dataframe tbody tr th {\n",
              "        vertical-align: top;\n",
              "    }\n",
              "\n",
              "    .dataframe thead th {\n",
              "        text-align: right;\n",
              "    }\n",
              "</style>\n",
              "<table border=\"1\" class=\"dataframe\">\n",
              "  <thead>\n",
              "    <tr style=\"text-align: right;\">\n",
              "      <th></th>\n",
              "      <th>ADMIN</th>\n",
              "      <th>geometry</th>\n",
              "      <th>centroid</th>\n",
              "    </tr>\n",
              "  </thead>\n",
              "  <tbody>\n",
              "    <tr>\n",
              "      <th>0</th>\n",
              "      <td>Indonesia</td>\n",
              "      <td>MULTIPOLYGON (((13102705.696 463877.598, 13102...</td>\n",
              "      <td>POINT (13055431.810 -248921.141)</td>\n",
              "    </tr>\n",
              "    <tr>\n",
              "      <th>1</th>\n",
              "      <td>Malaysia</td>\n",
              "      <td>MULTIPOLYGON (((13102705.696 463877.598, 13101...</td>\n",
              "      <td>POINT (12211696.493 422897.505)</td>\n",
              "    </tr>\n",
              "    <tr>\n",
              "      <th>2</th>\n",
              "      <td>Chile</td>\n",
              "      <td>MULTIPOLYGON (((-7737827.685 -1979875.500, -77...</td>\n",
              "      <td>POINT (-7959811.948 -4915458.802)</td>\n",
              "    </tr>\n",
              "    <tr>\n",
              "      <th>3</th>\n",
              "      <td>Bolivia</td>\n",
              "      <td>POLYGON ((-7737827.685 -1979875.500, -7737828....</td>\n",
              "      <td>POINT (-7200010.945 -1894653.148)</td>\n",
              "    </tr>\n",
              "    <tr>\n",
              "      <th>4</th>\n",
              "      <td>Peru</td>\n",
              "      <td>MULTIPOLYGON (((-7737827.685 -1979875.500, -77...</td>\n",
              "      <td>POINT (-8277554.831 -1032942.536)</td>\n",
              "    </tr>\n",
              "  </tbody>\n",
              "</table>\n",
              "</div>\n",
              "      <button class=\"colab-df-convert\" onclick=\"convertToInteractive('df-48535aa3-8397-4e97-b0c2-d837681327e0')\"\n",
              "              title=\"Convert this dataframe to an interactive table.\"\n",
              "              style=\"display:none;\">\n",
              "        \n",
              "  <svg xmlns=\"http://www.w3.org/2000/svg\" height=\"24px\"viewBox=\"0 0 24 24\"\n",
              "       width=\"24px\">\n",
              "    <path d=\"M0 0h24v24H0V0z\" fill=\"none\"/>\n",
              "    <path d=\"M18.56 5.44l.94 2.06.94-2.06 2.06-.94-2.06-.94-.94-2.06-.94 2.06-2.06.94zm-11 1L8.5 8.5l.94-2.06 2.06-.94-2.06-.94L8.5 2.5l-.94 2.06-2.06.94zm10 10l.94 2.06.94-2.06 2.06-.94-2.06-.94-.94-2.06-.94 2.06-2.06.94z\"/><path d=\"M17.41 7.96l-1.37-1.37c-.4-.4-.92-.59-1.43-.59-.52 0-1.04.2-1.43.59L10.3 9.45l-7.72 7.72c-.78.78-.78 2.05 0 2.83L4 21.41c.39.39.9.59 1.41.59.51 0 1.02-.2 1.41-.59l7.78-7.78 2.81-2.81c.8-.78.8-2.07 0-2.86zM5.41 20L4 18.59l7.72-7.72 1.47 1.35L5.41 20z\"/>\n",
              "  </svg>\n",
              "      </button>\n",
              "      \n",
              "  <style>\n",
              "    .colab-df-container {\n",
              "      display:flex;\n",
              "      flex-wrap:wrap;\n",
              "      gap: 12px;\n",
              "    }\n",
              "\n",
              "    .colab-df-convert {\n",
              "      background-color: #E8F0FE;\n",
              "      border: none;\n",
              "      border-radius: 50%;\n",
              "      cursor: pointer;\n",
              "      display: none;\n",
              "      fill: #1967D2;\n",
              "      height: 32px;\n",
              "      padding: 0 0 0 0;\n",
              "      width: 32px;\n",
              "    }\n",
              "\n",
              "    .colab-df-convert:hover {\n",
              "      background-color: #E2EBFA;\n",
              "      box-shadow: 0px 1px 2px rgba(60, 64, 67, 0.3), 0px 1px 3px 1px rgba(60, 64, 67, 0.15);\n",
              "      fill: #174EA6;\n",
              "    }\n",
              "\n",
              "    [theme=dark] .colab-df-convert {\n",
              "      background-color: #3B4455;\n",
              "      fill: #D2E3FC;\n",
              "    }\n",
              "\n",
              "    [theme=dark] .colab-df-convert:hover {\n",
              "      background-color: #434B5C;\n",
              "      box-shadow: 0px 1px 3px 1px rgba(0, 0, 0, 0.15);\n",
              "      filter: drop-shadow(0px 1px 2px rgba(0, 0, 0, 0.3));\n",
              "      fill: #FFFFFF;\n",
              "    }\n",
              "  </style>\n",
              "\n",
              "      <script>\n",
              "        const buttonEl =\n",
              "          document.querySelector('#df-48535aa3-8397-4e97-b0c2-d837681327e0 button.colab-df-convert');\n",
              "        buttonEl.style.display =\n",
              "          google.colab.kernel.accessAllowed ? 'block' : 'none';\n",
              "\n",
              "        async function convertToInteractive(key) {\n",
              "          const element = document.querySelector('#df-48535aa3-8397-4e97-b0c2-d837681327e0');\n",
              "          const dataTable =\n",
              "            await google.colab.kernel.invokeFunction('convertToInteractive',\n",
              "                                                     [key], {});\n",
              "          if (!dataTable) return;\n",
              "\n",
              "          const docLinkHtml = 'Like what you see? Visit the ' +\n",
              "            '<a target=\"_blank\" href=https://colab.research.google.com/notebooks/data_table.ipynb>data table notebook</a>'\n",
              "            + ' to learn more about interactive tables.';\n",
              "          element.innerHTML = '';\n",
              "          dataTable['output_type'] = 'display_data';\n",
              "          await google.colab.output.renderOutput(dataTable, element);\n",
              "          const docLink = document.createElement('div');\n",
              "          docLink.innerHTML = docLinkHtml;\n",
              "          element.appendChild(docLink);\n",
              "        }\n",
              "      </script>\n",
              "    </div>\n",
              "  </div>\n",
              "  "
            ]
          },
          "metadata": {},
          "execution_count": 9
        }
      ]
    },
    {
      "cell_type": "code",
      "source": [
        "ax = gt_polygons.set_geometry(\n",
        "    'centroid'\n",
        ").plot('ADMIN', markersize=5)\n",
        "\n",
        "gt_polygons.plot(\n",
        "    'ADMIN', \n",
        "    ax=ax, \n",
        "    facecolor='none', \n",
        "    edgecolor='k', \n",
        "    linewidth=.2\n",
        ");"
      ],
      "metadata": {
        "colab": {
          "base_uri": "https://localhost:8080/",
          "height": 289
        },
        "id": "tbZfXtLhsxqA",
        "outputId": "cebfe057-6c9b-4f59-b3b4-50a9899adc5c"
      },
      "execution_count": 23,
      "outputs": [
        {
          "output_type": "display_data",
          "data": {
            "text/plain": [
              "<Figure size 432x288 with 1 Axes>"
            ],
            "image/png": "[encoded data removed]"
          },
          "metadata": {
            "needs_background": "light"
          }
        }
      ]
    },
    {
      "cell_type": "code",
      "source": [
        "gt_polygons.query('ADMIN == \"Nigeria\"').plot()"
      ],
      "metadata": {
        "colab": {
          "base_uri": "https://localhost:8080/",
          "height": 306
        },
        "id": "1KT2HjUns7k7",
        "outputId": "cbf1c10b-d5f8-404f-f4f8-7e3d43c828d2"
      },
      "execution_count": 25,
      "outputs": [
        {
          "output_type": "execute_result",
          "data": {
            "text/plain": [
              "<matplotlib.axes._subplots.AxesSubplot at 0x7fcedc89ce90>"
            ]
          },
          "metadata": {},
          "execution_count": 25
        },
        {
          "output_type": "display_data",
          "data": {
            "text/plain": [
              "<Figure size 432x288 with 1 Axes>"
            ],
            "image/png": "[encoded data removed]"
          },
          "metadata": {
            "needs_background": "light"
          }
        }
      ]
    },
    {
      "cell_type": "code",
      "source": [
        "gt_polygons[gt_polygons.ADMIN.str.contains('Jap')].plot()"
      ],
      "metadata": {
        "colab": {
          "base_uri": "https://localhost:8080/",
          "height": 306
        },
        "id": "qxdwVOL6vccG",
        "outputId": "0fe37a61-4457-4a70-87fc-7b7001f6014d"
      },
      "execution_count": 42,
      "outputs": [
        {
          "output_type": "execute_result",
          "data": {
            "text/plain": [
              "<matplotlib.axes._subplots.AxesSubplot at 0x7fced835e750>"
            ]
          },
          "metadata": {},
          "execution_count": 42
        },
        {
          "output_type": "display_data",
          "data": {
            "text/plain": [
              "<Figure size 432x288 with 1 Axes>"
            ],
            "image/png": "[encoded data removed]"
          },
          "metadata": {
            "needs_background": "light"
          }
        }
      ]
    },
    {
      "cell_type": "code",
      "source": [
        "r = requests.get(tokyo_cleaned_url, allow_redirects=True)\n",
        "open('tokyo_clean.csv', 'wb').write(r.content)"
      ],
      "metadata": {
        "colab": {
          "base_uri": "https://localhost:8080/"
        },
        "id": "pzIfFcI5vriD",
        "outputId": "57e1faa1-23b9-4c90-bddc-de9557458c22"
      },
      "execution_count": 45,
      "outputs": [
        {
          "output_type": "execute_result",
          "data": {
            "text/plain": [
              "1499522"
            ]
          },
          "metadata": {},
          "execution_count": 45
        }
      ]
    },
    {
      "cell_type": "code",
      "source": [
        "tokyo = pandas.read_csv('/content/tokyo_clean.csv')"
      ],
      "metadata": {
        "id": "t_GbF6anxS1j"
      },
      "execution_count": 47,
      "outputs": []
    },
    {
      "cell_type": "code",
      "source": [
        "tokyo.head()"
      ],
      "metadata": {
        "colab": {
          "base_uri": "https://localhost:8080/",
          "height": 206
        },
        "id": "O1VnOI-4yBJR",
        "outputId": "984bc39b-b041-40da-adcc-15e969bd832c"
      },
      "execution_count": 48,
      "outputs": [
        {
          "output_type": "execute_result",
          "data": {
            "text/plain": [
              "           user_id   longitude   latitude             date_taken  \\\n",
              "0     10727420@N00  139.700499  35.674000  2010-04-09 17:26:25.0   \n",
              "1      8819274@N04  139.766521  35.709095  2007-02-10 16:08:40.0   \n",
              "2     62068690@N00  139.765632  35.694482  2008-12-21 15:45:31.0   \n",
              "3  49503094041@N01  139.784391  35.548589  2011-11-11 05:48:54.0   \n",
              "4     40443199@N00  139.768753  35.671521  2006-04-06 16:42:49.0   \n",
              "\n",
              "                                photo/video_page_url             x  \\\n",
              "0  http://www.flickr.com/photos/10727420@N00/4545...  1.555139e+07   \n",
              "1  http://www.flickr.com/photos/8819274@N04/26503...  1.555874e+07   \n",
              "2  http://www.flickr.com/photos/62068690@N00/3125...  1.555864e+07   \n",
              "3  http://www.flickr.com/photos/49503094041@N01/6...  1.556073e+07   \n",
              "4  http://www.flickr.com/photos/40443199@N00/2482...  1.555899e+07   \n",
              "\n",
              "              y  \n",
              "0  4.255856e+06  \n",
              "1  4.260667e+06  \n",
              "2  4.258664e+06  \n",
              "3  4.238684e+06  \n",
              "4  4.255517e+06  "
            ],
            "text/html": [
              "\n",
              "  <div id=\"df-dcb9782c-61cd-42cb-b158-0876be0bd5eb\">\n",
              "    <div class=\"colab-df-container\">\n",
              "      <div>\n",
              "<style scoped>\n",
              "    .dataframe tbody tr th:only-of-type {\n",
              "        vertical-align: middle;\n",
              "    }\n",
              "\n",
              "    .dataframe tbody tr th {\n",
              "        vertical-align: top;\n",
              "    }\n",
              "\n",
              "    .dataframe thead th {\n",
              "        text-align: right;\n",
              "    }\n",
              "</style>\n",
              "<table border=\"1\" class=\"dataframe\">\n",
              "  <thead>\n",
              "    <tr style=\"text-align: right;\">\n",
              "      <th></th>\n",
              "      <th>user_id</th>\n",
              "      <th>longitude</th>\n",
              "      <th>latitude</th>\n",
              "      <th>date_taken</th>\n",
              "      <th>photo/video_page_url</th>\n",
              "      <th>x</th>\n",
              "      <th>y</th>\n",
              "    </tr>\n",
              "  </thead>\n",
              "  <tbody>\n",
              "    <tr>\n",
              "      <th>0</th>\n",
              "      <td>10727420@N00</td>\n",
              "      <td>139.700499</td>\n",
              "      <td>35.674000</td>\n",
              "      <td>2010-04-09 17:26:25.0</td>\n",
              "      <td>http://www.flickr.com/photos/10727420@N00/4545...</td>\n",
              "      <td>1.555139e+07</td>\n",
              "      <td>4.255856e+06</td>\n",
              "    </tr>\n",
              "    <tr>\n",
              "      <th>1</th>\n",
              "      <td>8819274@N04</td>\n",
              "      <td>139.766521</td>\n",
              "      <td>35.709095</td>\n",
              "      <td>2007-02-10 16:08:40.0</td>\n",
              "      <td>http://www.flickr.com/photos/8819274@N04/26503...</td>\n",
              "      <td>1.555874e+07</td>\n",
              "      <td>4.260667e+06</td>\n",
              "    </tr>\n",
              "    <tr>\n",
              "      <th>2</th>\n",
              "      <td>62068690@N00</td>\n",
              "      <td>139.765632</td>\n",
              "      <td>35.694482</td>\n",
              "      <td>2008-12-21 15:45:31.0</td>\n",
              "      <td>http://www.flickr.com/photos/62068690@N00/3125...</td>\n",
              "      <td>1.555864e+07</td>\n",
              "      <td>4.258664e+06</td>\n",
              "    </tr>\n",
              "    <tr>\n",
              "      <th>3</th>\n",
              "      <td>49503094041@N01</td>\n",
              "      <td>139.784391</td>\n",
              "      <td>35.548589</td>\n",
              "      <td>2011-11-11 05:48:54.0</td>\n",
              "      <td>http://www.flickr.com/photos/49503094041@N01/6...</td>\n",
              "      <td>1.556073e+07</td>\n",
              "      <td>4.238684e+06</td>\n",
              "    </tr>\n",
              "    <tr>\n",
              "      <th>4</th>\n",
              "      <td>40443199@N00</td>\n",
              "      <td>139.768753</td>\n",
              "      <td>35.671521</td>\n",
              "      <td>2006-04-06 16:42:49.0</td>\n",
              "      <td>http://www.flickr.com/photos/40443199@N00/2482...</td>\n",
              "      <td>1.555899e+07</td>\n",
              "      <td>4.255517e+06</td>\n",
              "    </tr>\n",
              "  </tbody>\n",
              "</table>\n",
              "</div>\n",
              "      <button class=\"colab-df-convert\" onclick=\"convertToInteractive('df-dcb9782c-61cd-42cb-b158-0876be0bd5eb')\"\n",
              "              title=\"Convert this dataframe to an interactive table.\"\n",
              "              style=\"display:none;\">\n",
              "        \n",
              "  <svg xmlns=\"http://www.w3.org/2000/svg\" height=\"24px\"viewBox=\"0 0 24 24\"\n",
              "       width=\"24px\">\n",
              "    <path d=\"M0 0h24v24H0V0z\" fill=\"none\"/>\n",
              "    <path d=\"M18.56 5.44l.94 2.06.94-2.06 2.06-.94-2.06-.94-.94-2.06-.94 2.06-2.06.94zm-11 1L8.5 8.5l.94-2.06 2.06-.94-2.06-.94L8.5 2.5l-.94 2.06-2.06.94zm10 10l.94 2.06.94-2.06 2.06-.94-2.06-.94-.94-2.06-.94 2.06-2.06.94z\"/><path d=\"M17.41 7.96l-1.37-1.37c-.4-.4-.92-.59-1.43-.59-.52 0-1.04.2-1.43.59L10.3 9.45l-7.72 7.72c-.78.78-.78 2.05 0 2.83L4 21.41c.39.39.9.59 1.41.59.51 0 1.02-.2 1.41-.59l7.78-7.78 2.81-2.81c.8-.78.8-2.07 0-2.86zM5.41 20L4 18.59l7.72-7.72 1.47 1.35L5.41 20z\"/>\n",
              "  </svg>\n",
              "      </button>\n",
              "      \n",
              "  <style>\n",
              "    .colab-df-container {\n",
              "      display:flex;\n",
              "      flex-wrap:wrap;\n",
              "      gap: 12px;\n",
              "    }\n",
              "\n",
              "    .colab-df-convert {\n",
              "      background-color: #E8F0FE;\n",
              "      border: none;\n",
              "      border-radius: 50%;\n",
              "      cursor: pointer;\n",
              "      display: none;\n",
              "      fill: #1967D2;\n",
              "      height: 32px;\n",
              "      padding: 0 0 0 0;\n",
              "      width: 32px;\n",
              "    }\n",
              "\n",
              "    .colab-df-convert:hover {\n",
              "      background-color: #E2EBFA;\n",
              "      box-shadow: 0px 1px 2px rgba(60, 64, 67, 0.3), 0px 1px 3px 1px rgba(60, 64, 67, 0.15);\n",
              "      fill: #174EA6;\n",
              "    }\n",
              "\n",
              "    [theme=dark] .colab-df-convert {\n",
              "      background-color: #3B4455;\n",
              "      fill: #D2E3FC;\n",
              "    }\n",
              "\n",
              "    [theme=dark] .colab-df-convert:hover {\n",
              "      background-color: #434B5C;\n",
              "      box-shadow: 0px 1px 3px 1px rgba(0, 0, 0, 0.15);\n",
              "      filter: drop-shadow(0px 1px 2px rgba(0, 0, 0, 0.3));\n",
              "      fill: #FFFFFF;\n",
              "    }\n",
              "  </style>\n",
              "\n",
              "      <script>\n",
              "        const buttonEl =\n",
              "          document.querySelector('#df-dcb9782c-61cd-42cb-b158-0876be0bd5eb button.colab-df-convert');\n",
              "        buttonEl.style.display =\n",
              "          google.colab.kernel.accessAllowed ? 'block' : 'none';\n",
              "\n",
              "        async function convertToInteractive(key) {\n",
              "          const element = document.querySelector('#df-dcb9782c-61cd-42cb-b158-0876be0bd5eb');\n",
              "          const dataTable =\n",
              "            await google.colab.kernel.invokeFunction('convertToInteractive',\n",
              "                                                     [key], {});\n",
              "          if (!dataTable) return;\n",
              "\n",
              "          const docLinkHtml = 'Like what you see? Visit the ' +\n",
              "            '<a target=\"_blank\" href=https://colab.research.google.com/notebooks/data_table.ipynb>data table notebook</a>'\n",
              "            + ' to learn more about interactive tables.';\n",
              "          element.innerHTML = '';\n",
              "          dataTable['output_type'] = 'display_data';\n",
              "          await google.colab.output.renderOutput(dataTable, element);\n",
              "          const docLink = document.createElement('div');\n",
              "          docLink.innerHTML = docLinkHtml;\n",
              "          element.appendChild(docLink);\n",
              "        }\n",
              "      </script>\n",
              "    </div>\n",
              "  </div>\n",
              "  "
            ]
          },
          "metadata": {},
          "execution_count": 48
        }
      ]
    },
    {
      "cell_type": "code",
      "source": [
        "tokyo_geoms = geopandas.points_from_xy(\n",
        "    x=tokyo[\"longitude\"],\n",
        "    y=tokyo[\"latitude\"],\n",
        "    # x,y are Earth longitude & latitude\n",
        "    crs=\"EPSG:4326\"\n",
        ")"
      ],
      "metadata": {
        "id": "iqoheBetyKlb"
      },
      "execution_count": 50,
      "outputs": []
    },
    {
      "cell_type": "code",
      "source": [
        "tokyo = geopandas.GeoDataFrame(tokyo, geometry=tokyo_geoms)"
      ],
      "metadata": {
        "id": "pr0rWenXygGT"
      },
      "execution_count": 52,
      "outputs": []
    },
    {
      "cell_type": "code",
      "source": [
        "tokyo.head()"
      ],
      "metadata": {
        "colab": {
          "base_uri": "https://localhost:8080/",
          "height": 250
        },
        "id": "6AECMe4qyrb3",
        "outputId": "4fce62de-6a22-4066-8d0a-0f16a21340ab"
      },
      "execution_count": 53,
      "outputs": [
        {
          "output_type": "execute_result",
          "data": {
            "text/plain": [
              "           user_id   longitude   latitude             date_taken  \\\n",
              "0     10727420@N00  139.700499  35.674000  2010-04-09 17:26:25.0   \n",
              "1      8819274@N04  139.766521  35.709095  2007-02-10 16:08:40.0   \n",
              "2     62068690@N00  139.765632  35.694482  2008-12-21 15:45:31.0   \n",
              "3  49503094041@N01  139.784391  35.548589  2011-11-11 05:48:54.0   \n",
              "4     40443199@N00  139.768753  35.671521  2006-04-06 16:42:49.0   \n",
              "\n",
              "                                photo/video_page_url             x  \\\n",
              "0  http://www.flickr.com/photos/10727420@N00/4545...  1.555139e+07   \n",
              "1  http://www.flickr.com/photos/8819274@N04/26503...  1.555874e+07   \n",
              "2  http://www.flickr.com/photos/62068690@N00/3125...  1.555864e+07   \n",
              "3  http://www.flickr.com/photos/49503094041@N01/6...  1.556073e+07   \n",
              "4  http://www.flickr.com/photos/40443199@N00/2482...  1.555899e+07   \n",
              "\n",
              "              y                    geometry  \n",
              "0  4.255856e+06  POINT (139.70050 35.67400)  \n",
              "1  4.260667e+06  POINT (139.76652 35.70909)  \n",
              "2  4.258664e+06  POINT (139.76563 35.69448)  \n",
              "3  4.238684e+06  POINT (139.78439 35.54859)  \n",
              "4  4.255517e+06  POINT (139.76875 35.67152)  "
            ],
            "text/html": [
              "\n",
              "  <div id=\"df-c4506651-d8be-4740-a3b1-2660c2f746dc\">\n",
              "    <div class=\"colab-df-container\">\n",
              "      <div>\n",
              "<style scoped>\n",
              "    .dataframe tbody tr th:only-of-type {\n",
              "        vertical-align: middle;\n",
              "    }\n",
              "\n",
              "    .dataframe tbody tr th {\n",
              "        vertical-align: top;\n",
              "    }\n",
              "\n",
              "    .dataframe thead th {\n",
              "        text-align: right;\n",
              "    }\n",
              "</style>\n",
              "<table border=\"1\" class=\"dataframe\">\n",
              "  <thead>\n",
              "    <tr style=\"text-align: right;\">\n",
              "      <th></th>\n",
              "      <th>user_id</th>\n",
              "      <th>longitude</th>\n",
              "      <th>latitude</th>\n",
              "      <th>date_taken</th>\n",
              "      <th>photo/video_page_url</th>\n",
              "      <th>x</th>\n",
              "      <th>y</th>\n",
              "      <th>geometry</th>\n",
              "    </tr>\n",
              "  </thead>\n",
              "  <tbody>\n",
              "    <tr>\n",
              "      <th>0</th>\n",
              "      <td>10727420@N00</td>\n",
              "      <td>139.700499</td>\n",
              "      <td>35.674000</td>\n",
              "      <td>2010-04-09 17:26:25.0</td>\n",
              "      <td>http://www.flickr.com/photos/10727420@N00/4545...</td>\n",
              "      <td>1.555139e+07</td>\n",
              "      <td>4.255856e+06</td>\n",
              "      <td>POINT (139.70050 35.67400)</td>\n",
              "    </tr>\n",
              "    <tr>\n",
              "      <th>1</th>\n",
              "      <td>8819274@N04</td>\n",
              "      <td>139.766521</td>\n",
              "      <td>35.709095</td>\n",
              "      <td>2007-02-10 16:08:40.0</td>\n",
              "      <td>http://www.flickr.com/photos/8819274@N04/26503...</td>\n",
              "      <td>1.555874e+07</td>\n",
              "      <td>4.260667e+06</td>\n",
              "      <td>POINT (139.76652 35.70909)</td>\n",
              "    </tr>\n",
              "    <tr>\n",
              "      <th>2</th>\n",
              "      <td>62068690@N00</td>\n",
              "      <td>139.765632</td>\n",
              "      <td>35.694482</td>\n",
              "      <td>2008-12-21 15:45:31.0</td>\n",
              "      <td>http://www.flickr.com/photos/62068690@N00/3125...</td>\n",
              "      <td>1.555864e+07</td>\n",
              "      <td>4.258664e+06</td>\n",
              "      <td>POINT (139.76563 35.69448)</td>\n",
              "    </tr>\n",
              "    <tr>\n",
              "      <th>3</th>\n",
              "      <td>49503094041@N01</td>\n",
              "      <td>139.784391</td>\n",
              "      <td>35.548589</td>\n",
              "      <td>2011-11-11 05:48:54.0</td>\n",
              "      <td>http://www.flickr.com/photos/49503094041@N01/6...</td>\n",
              "      <td>1.556073e+07</td>\n",
              "      <td>4.238684e+06</td>\n",
              "      <td>POINT (139.78439 35.54859)</td>\n",
              "    </tr>\n",
              "    <tr>\n",
              "      <th>4</th>\n",
              "      <td>40443199@N00</td>\n",
              "      <td>139.768753</td>\n",
              "      <td>35.671521</td>\n",
              "      <td>2006-04-06 16:42:49.0</td>\n",
              "      <td>http://www.flickr.com/photos/40443199@N00/2482...</td>\n",
              "      <td>1.555899e+07</td>\n",
              "      <td>4.255517e+06</td>\n",
              "      <td>POINT (139.76875 35.67152)</td>\n",
              "    </tr>\n",
              "  </tbody>\n",
              "</table>\n",
              "</div>\n",
              "      <button class=\"colab-df-convert\" onclick=\"convertToInteractive('df-c4506651-d8be-4740-a3b1-2660c2f746dc')\"\n",
              "              title=\"Convert this dataframe to an interactive table.\"\n",
              "              style=\"display:none;\">\n",
              "        \n",
              "  <svg xmlns=\"http://www.w3.org/2000/svg\" height=\"24px\"viewBox=\"0 0 24 24\"\n",
              "       width=\"24px\">\n",
              "    <path d=\"M0 0h24v24H0V0z\" fill=\"none\"/>\n",
              "    <path d=\"M18.56 5.44l.94 2.06.94-2.06 2.06-.94-2.06-.94-.94-2.06-.94 2.06-2.06.94zm-11 1L8.5 8.5l.94-2.06 2.06-.94-2.06-.94L8.5 2.5l-.94 2.06-2.06.94zm10 10l.94 2.06.94-2.06 2.06-.94-2.06-.94-.94-2.06-.94 2.06-2.06.94z\"/><path d=\"M17.41 7.96l-1.37-1.37c-.4-.4-.92-.59-1.43-.59-.52 0-1.04.2-1.43.59L10.3 9.45l-7.72 7.72c-.78.78-.78 2.05 0 2.83L4 21.41c.39.39.9.59 1.41.59.51 0 1.02-.2 1.41-.59l7.78-7.78 2.81-2.81c.8-.78.8-2.07 0-2.86zM5.41 20L4 18.59l7.72-7.72 1.47 1.35L5.41 20z\"/>\n",
              "  </svg>\n",
              "      </button>\n",
              "      \n",
              "  <style>\n",
              "    .colab-df-container {\n",
              "      display:flex;\n",
              "      flex-wrap:wrap;\n",
              "      gap: 12px;\n",
              "    }\n",
              "\n",
              "    .colab-df-convert {\n",
              "      background-color: #E8F0FE;\n",
              "      border: none;\n",
              "      border-radius: 50%;\n",
              "      cursor: pointer;\n",
              "      display: none;\n",
              "      fill: #1967D2;\n",
              "      height: 32px;\n",
              "      padding: 0 0 0 0;\n",
              "      width: 32px;\n",
              "    }\n",
              "\n",
              "    .colab-df-convert:hover {\n",
              "      background-color: #E2EBFA;\n",
              "      box-shadow: 0px 1px 2px rgba(60, 64, 67, 0.3), 0px 1px 3px 1px rgba(60, 64, 67, 0.15);\n",
              "      fill: #174EA6;\n",
              "    }\n",
              "\n",
              "    [theme=dark] .colab-df-convert {\n",
              "      background-color: #3B4455;\n",
              "      fill: #D2E3FC;\n",
              "    }\n",
              "\n",
              "    [theme=dark] .colab-df-convert:hover {\n",
              "      background-color: #434B5C;\n",
              "      box-shadow: 0px 1px 3px 1px rgba(0, 0, 0, 0.15);\n",
              "      filter: drop-shadow(0px 1px 2px rgba(0, 0, 0, 0.3));\n",
              "      fill: #FFFFFF;\n",
              "    }\n",
              "  </style>\n",
              "\n",
              "      <script>\n",
              "        const buttonEl =\n",
              "          document.querySelector('#df-c4506651-d8be-4740-a3b1-2660c2f746dc button.colab-df-convert');\n",
              "        buttonEl.style.display =\n",
              "          google.colab.kernel.accessAllowed ? 'block' : 'none';\n",
              "\n",
              "        async function convertToInteractive(key) {\n",
              "          const element = document.querySelector('#df-c4506651-d8be-4740-a3b1-2660c2f746dc');\n",
              "          const dataTable =\n",
              "            await google.colab.kernel.invokeFunction('convertToInteractive',\n",
              "                                                     [key], {});\n",
              "          if (!dataTable) return;\n",
              "\n",
              "          const docLinkHtml = 'Like what you see? Visit the ' +\n",
              "            '<a target=\"_blank\" href=https://colab.research.google.com/notebooks/data_table.ipynb>data table notebook</a>'\n",
              "            + ' to learn more about interactive tables.';\n",
              "          element.innerHTML = '';\n",
              "          dataTable['output_type'] = 'display_data';\n",
              "          await google.colab.output.renderOutput(dataTable, element);\n",
              "          const docLink = document.createElement('div');\n",
              "          docLink.innerHTML = docLinkHtml;\n",
              "          element.appendChild(docLink);\n",
              "        }\n",
              "      </script>\n",
              "    </div>\n",
              "  </div>\n",
              "  "
            ]
          },
          "metadata": {},
          "execution_count": 53
        }
      ]
    },
    {
      "cell_type": "code",
      "source": [
        "down(sao_paolo_url, 'ghsl_sao_paulo.tif')"
      ],
      "metadata": {
        "id": "jtWmNvPXy3xw"
      },
      "execution_count": 64,
      "outputs": []
    },
    {
      "cell_type": "code",
      "source": [
        "pop = xarray.open_rasterio('/content/ghsl_sao_paulo.tif')"
      ],
      "metadata": {
        "colab": {
          "base_uri": "https://localhost:8080/"
        },
        "id": "Y9CETLiB0P0W",
        "outputId": "012902e0-5ef2-468e-a126-ce3d5c19381c"
      },
      "execution_count": 65,
      "outputs": [
        {
          "output_type": "stream",
          "name": "stderr",
          "text": [
            "/usr/local/lib/python3.7/dist-packages/ipykernel_launcher.py:1: DeprecationWarning: open_rasterio is Deprecated in favor of rioxarray. For information about transitioning, see: https://corteva.github.io/rioxarray/stable/getting_started/getting_started.html\n",
            "  \"\"\"Entry point for launching an IPython kernel.\n"
          ]
        }
      ]
    },
    {
      "cell_type": "code",
      "source": [
        "type(pop)"
      ],
      "metadata": {
        "colab": {
          "base_uri": "https://localhost:8080/"
        },
        "id": "nNL4U9FB0clC",
        "outputId": "a045ad83-5aab-4dc3-9e28-3ccf7c974095"
      },
      "execution_count": 66,
      "outputs": [
        {
          "output_type": "execute_result",
          "data": {
            "text/plain": [
              "xarray.core.dataarray.DataArray"
            ]
          },
          "metadata": {},
          "execution_count": 66
        }
      ]
    },
    {
      "cell_type": "code",
      "source": [
        "pop.coords"
      ],
      "metadata": {
        "colab": {
          "base_uri": "https://localhost:8080/"
        },
        "id": "L2cqZ-nZ0man",
        "outputId": "e52241ce-20f6-4dc2-a2d2-172bb2110ebd"
      },
      "execution_count": 67,
      "outputs": [
        {
          "output_type": "execute_result",
          "data": {
            "text/plain": [
              "Coordinates:\n",
              "  * band     (band) int64 1\n",
              "  * y        (y) float64 -2.822e+06 -2.822e+06 ... -2.926e+06 -2.926e+06\n",
              "  * x        (x) float64 -4.482e+06 -4.482e+06 ... -4.365e+06 -4.365e+06"
            ]
          },
          "metadata": {},
          "execution_count": 67
        }
      ]
    },
    {
      "cell_type": "code",
      "source": [
        "pop.attrs"
      ],
      "metadata": {
        "colab": {
          "base_uri": "https://localhost:8080/"
        },
        "id": "mIIMVo9V0pPF",
        "outputId": "2c90655c-9614-43fe-ab20-47b32c46590c"
      },
      "execution_count": 68,
      "outputs": [
        {
          "output_type": "execute_result",
          "data": {
            "text/plain": [
              "{'AREA_OR_POINT': 'Area',\n",
              " 'crs': '+proj=moll +lon_0=0 +x_0=0 +y_0=0 +datum=WGS84 +units=m +no_defs=True',\n",
              " 'grid_mapping': 'spatial_ref',\n",
              " 'is_tiled': 0,\n",
              " 'nodatavals': (-200.0,),\n",
              " 'offsets': (0.0,),\n",
              " 'res': (250.0, 250.0),\n",
              " 'scales': (1.0,),\n",
              " 'transform': (250.0, 0.0, -4482000.0, 0.0, -250.0, -2822000.0)}"
            ]
          },
          "metadata": {},
          "execution_count": 68
        }
      ]
    },
    {
      "cell_type": "code",
      "source": [
        "pop.shape"
      ],
      "metadata": {
        "colab": {
          "base_uri": "https://localhost:8080/"
        },
        "id": "KWDNAds-0ykY",
        "outputId": "fb28ac06-f5de-44d0-af4d-90380e607cc2"
      },
      "execution_count": 69,
      "outputs": [
        {
          "output_type": "execute_result",
          "data": {
            "text/plain": [
              "(1, 416, 468)"
            ]
          },
          "metadata": {},
          "execution_count": 69
        }
      ]
    },
    {
      "cell_type": "code",
      "source": [
        "pop.sel(band=1)"
      ],
      "metadata": {
        "colab": {
          "base_uri": "https://localhost:8080/",
          "height": 451
        },
        "id": "lkMNZBVv088Y",
        "outputId": "db0a9995-3c25-49e2-bf4f-de6a5e50c5b0"
      },
      "execution_count": 70,
      "outputs": [
        {
          "output_type": "execute_result",
          "data": {
            "text/plain": [
              "<xarray.DataArray (y: 416, x: 468)>\n",
              "array([[-200., -200., -200., ..., -200., -200., -200.],\n",
              "       [-200., -200., -200., ..., -200., -200., -200.],\n",
              "       [-200., -200., -200., ..., -200., -200., -200.],\n",
              "       ...,\n",
              "       [-200., -200., -200., ..., -200., -200., -200.],\n",
              "       [-200., -200., -200., ..., -200., -200., -200.],\n",
              "       [-200., -200., -200., ..., -200., -200., -200.]], dtype=float32)\n",
              "Coordinates:\n",
              "    band     int64 1\n",
              "  * y        (y) float64 -2.822e+06 -2.822e+06 ... -2.926e+06 -2.926e+06\n",
              "  * x        (x) float64 -4.482e+06 -4.482e+06 ... -4.365e+06 -4.365e+06\n",
              "Attributes:\n",
              "    transform:      (250.0, 0.0, -4482000.0, 0.0, -250.0, -2822000.0)\n",
              "    crs:            +proj=moll +lon_0=0 +x_0=0 +y_0=0 +datum=WGS84 +units=m +...\n",
              "    res:            (250.0, 250.0)\n",
              "    is_tiled:       0\n",
              "    nodatavals:     (-200.0,)\n",
              "    scales:         (1.0,)\n",
              "    offsets:        (0.0,)\n",
              "    AREA_OR_POINT:  Area\n",
              "    grid_mapping:   spatial_ref"
            ],
            "text/html": [
              "<div><svg style=\"position: absolute; width: 0; height: 0; overflow: hidden\">\n",
              "<defs>\n",
              "<symbol id=\"icon-database\" viewBox=\"0 0 32 32\">\n",
              "<path d=\"M16 0c-8.837 0-16 2.239-16 5v4c0 2.761 7.163 5 16 5s16-2.239 16-5v-4c0-2.761-7.163-5-16-5z\"></path>\n",
              "<path d=\"M16 17c-8.837 0-16-2.239-16-5v6c0 2.761 7.163 5 16 5s16-2.239 16-5v-6c0 2.761-7.163 5-16 5z\"></path>\n",
              "<path d=\"M16 26c-8.837 0-16-2.239-16-5v6c0 2.761 7.163 5 16 5s16-2.239 16-5v-6c0 2.761-7.163 5-16 5z\"></path>\n",
              "</symbol>\n",
              "<symbol id=\"icon-file-text2\" viewBox=\"0 0 32 32\">\n",
              "<path d=\"M28.681 7.159c-0.694-0.947-1.662-2.053-2.724-3.116s-2.169-2.030-3.116-2.724c-1.612-1.182-2.393-1.319-2.841-1.319h-15.5c-1.378 0-2.5 1.121-2.5 2.5v27c0 1.378 1.122 2.5 2.5 2.5h23c1.378 0 2.5-1.122 2.5-2.5v-19.5c0-0.448-0.137-1.23-1.319-2.841zM24.543 5.457c0.959 0.959 1.712 1.825 2.268 2.543h-4.811v-4.811c0.718 0.556 1.584 1.309 2.543 2.268zM28 29.5c0 0.271-0.229 0.5-0.5 0.5h-23c-0.271 0-0.5-0.229-0.5-0.5v-27c0-0.271 0.229-0.5 0.5-0.5 0 0 15.499-0 15.5 0v7c0 0.552 0.448 1 1 1h7v19.5z\"></path>\n",
              "<path d=\"M23 26h-14c-0.552 0-1-0.448-1-1s0.448-1 1-1h14c0.552 0 1 0.448 1 1s-0.448 1-1 1z\"></path>\n",
              "<path d=\"M23 22h-14c-0.552 0-1-0.448-1-1s0.448-1 1-1h14c0.552 0 1 0.448 1 1s-0.448 1-1 1z\"></path>\n",
              "<path d=\"M23 18h-14c-0.552 0-1-0.448-1-1s0.448-1 1-1h14c0.552 0 1 0.448 1 1s-0.448 1-1 1z\"></path>\n",
              "</symbol>\n",
              "</defs>\n",
              "</svg>\n",
              "<style>/* CSS stylesheet for displaying xarray objects in jupyterlab.\n",
              " *\n",
              " */\n",
              "\n",
              ":root {\n",
              "  --xr-font-color0: var(--jp-content-font-color0, rgba(0, 0, 0, 1));\n",
              "  --xr-font-color2: var(--jp-content-font-color2, rgba(0, 0, 0, 0.54));\n",
              "  --xr-font-color3: var(--jp-content-font-color3, rgba(0, 0, 0, 0.38));\n",
              "  --xr-border-color: var(--jp-border-color2, #e0e0e0);\n",
              "  --xr-disabled-color: var(--jp-layout-color3, #bdbdbd);\n",
              "  --xr-background-color: var(--jp-layout-color0, white);\n",
              "  --xr-background-color-row-even: var(--jp-layout-color1, white);\n",
              "  --xr-background-color-row-odd: var(--jp-layout-color2, #eeeeee);\n",
              "}\n",
              "\n",
              "html[theme=dark],\n",
              "body.vscode-dark {\n",
              "  --xr-font-color0: rgba(255, 255, 255, 1);\n",
              "  --xr-font-color2: rgba(255, 255, 255, 0.54);\n",
              "  --xr-font-color3: rgba(255, 255, 255, 0.38);\n",
              "  --xr-border-color: #1F1F1F;\n",
              "  --xr-disabled-color: #515151;\n",
              "  --xr-background-color: #111111;\n",
              "  --xr-background-color-row-even: #111111;\n",
              "  --xr-background-color-row-odd: #313131;\n",
              "}\n",
              "\n",
              ".xr-wrap {\n",
              "  display: block !important;\n",
              "  min-width: 300px;\n",
              "  max-width: 700px;\n",
              "}\n",
              "\n",
              ".xr-text-repr-fallback {\n",
              "  /* fallback to plain text repr when CSS is not injected (untrusted notebook) */\n",
              "  display: none;\n",
              "}\n",
              "\n",
              ".xr-header {\n",
              "  padding-top: 6px;\n",
              "  padding-bottom: 6px;\n",
              "  margin-bottom: 4px;\n",
              "  border-bottom: solid 1px var(--xr-border-color);\n",
              "}\n",
              "\n",
              ".xr-header > div,\n",
              ".xr-header > ul {\n",
              "  display: inline;\n",
              "  margin-top: 0;\n",
              "  margin-bottom: 0;\n",
              "}\n",
              "\n",
              ".xr-obj-type,\n",
              ".xr-array-name {\n",
              "  margin-left: 2px;\n",
              "  margin-right: 10px;\n",
              "}\n",
              "\n",
              ".xr-obj-type {\n",
              "  color: var(--xr-font-color2);\n",
              "}\n",
              "\n",
              ".xr-sections {\n",
              "  padding-left: 0 !important;\n",
              "  display: grid;\n",
              "  grid-template-columns: 150px auto auto 1fr 20px 20px;\n",
              "}\n",
              "\n",
              ".xr-section-item {\n",
              "  display: contents;\n",
              "}\n",
              "\n",
              ".xr-section-item input {\n",
              "  display: none;\n",
              "}\n",
              "\n",
              ".xr-section-item input + label {\n",
              "  color: var(--xr-disabled-color);\n",
              "}\n",
              "\n",
              ".xr-section-item input:enabled + label {\n",
              "  cursor: pointer;\n",
              "  color: var(--xr-font-color2);\n",
              "}\n",
              "\n",
              ".xr-section-item input:enabled + label:hover {\n",
              "  color: var(--xr-font-color0);\n",
              "}\n",
              "\n",
              ".xr-section-summary {\n",
              "  grid-column: 1;\n",
              "  color: var(--xr-font-color2);\n",
              "  font-weight: 500;\n",
              "}\n",
              "\n",
              ".xr-section-summary > span {\n",
              "  display: inline-block;\n",
              "  padding-left: 0.5em;\n",
              "}\n",
              "\n",
              ".xr-section-summary-in:disabled + label {\n",
              "  color: var(--xr-font-color2);\n",
              "}\n",
              "\n",
              ".xr-section-summary-in + label:before {\n",
              "  display: inline-block;\n",
              "  content: '►';\n",
              "  font-size: 11px;\n",
              "  width: 15px;\n",
              "  text-align: center;\n",
              "}\n",
              "\n",
              ".xr-section-summary-in:disabled + label:before {\n",
              "  color: var(--xr-disabled-color);\n",
              "}\n",
              "\n",
              ".xr-section-summary-in:checked + label:before {\n",
              "  content: '▼';\n",
              "}\n",
              "\n",
              ".xr-section-summary-in:checked + label > span {\n",
              "  display: none;\n",
              "}\n",
              "\n",
              ".xr-section-summary,\n",
              ".xr-section-inline-details {\n",
              "  padding-top: 4px;\n",
              "  padding-bottom: 4px;\n",
              "}\n",
              "\n",
              ".xr-section-inline-details {\n",
              "  grid-column: 2 / -1;\n",
              "}\n",
              "\n",
              ".xr-section-details {\n",
              "  display: none;\n",
              "  grid-column: 1 / -1;\n",
              "  margin-bottom: 5px;\n",
              "}\n",
              "\n",
              ".xr-section-summary-in:checked ~ .xr-section-details {\n",
              "  display: contents;\n",
              "}\n",
              "\n",
              ".xr-array-wrap {\n",
              "  grid-column: 1 / -1;\n",
              "  display: grid;\n",
              "  grid-template-columns: 20px auto;\n",
              "}\n",
              "\n",
              ".xr-array-wrap > label {\n",
              "  grid-column: 1;\n",
              "  vertical-align: top;\n",
              "}\n",
              "\n",
              ".xr-preview {\n",
              "  color: var(--xr-font-color3);\n",
              "}\n",
              "\n",
              ".xr-array-preview,\n",
              ".xr-array-data {\n",
              "  padding: 0 5px !important;\n",
              "  grid-column: 2;\n",
              "}\n",
              "\n",
              ".xr-array-data,\n",
              ".xr-array-in:checked ~ .xr-array-preview {\n",
              "  display: none;\n",
              "}\n",
              "\n",
              ".xr-array-in:checked ~ .xr-array-data,\n",
              ".xr-array-preview {\n",
              "  display: inline-block;\n",
              "}\n",
              "\n",
              ".xr-dim-list {\n",
              "  display: inline-block !important;\n",
              "  list-style: none;\n",
              "  padding: 0 !important;\n",
              "  margin: 0;\n",
              "}\n",
              "\n",
              ".xr-dim-list li {\n",
              "  display: inline-block;\n",
              "  padding: 0;\n",
              "  margin: 0;\n",
              "}\n",
              "\n",
              ".xr-dim-list:before {\n",
              "  content: '(';\n",
              "}\n",
              "\n",
              ".xr-dim-list:after {\n",
              "  content: ')';\n",
              "}\n",
              "\n",
              ".xr-dim-list li:not(:last-child):after {\n",
              "  content: ',';\n",
              "  padding-right: 5px;\n",
              "}\n",
              "\n",
              ".xr-has-index {\n",
              "  font-weight: bold;\n",
              "}\n",
              "\n",
              ".xr-var-list,\n",
              ".xr-var-item {\n",
              "  display: contents;\n",
              "}\n",
              "\n",
              ".xr-var-item > div,\n",
              ".xr-var-item label,\n",
              ".xr-var-item > .xr-var-name span {\n",
              "  background-color: var(--xr-background-color-row-even);\n",
              "  margin-bottom: 0;\n",
              "}\n",
              "\n",
              ".xr-var-item > .xr-var-name:hover span {\n",
              "  padding-right: 5px;\n",
              "}\n",
              "\n",
              ".xr-var-list > li:nth-child(odd) > div,\n",
              ".xr-var-list > li:nth-child(odd) > label,\n",
              ".xr-var-list > li:nth-child(odd) > .xr-var-name span {\n",
              "  background-color: var(--xr-background-color-row-odd);\n",
              "}\n",
              "\n",
              ".xr-var-name {\n",
              "  grid-column: 1;\n",
              "}\n",
              "\n",
              ".xr-var-dims {\n",
              "  grid-column: 2;\n",
              "}\n",
              "\n",
              ".xr-var-dtype {\n",
              "  grid-column: 3;\n",
              "  text-align: right;\n",
              "  color: var(--xr-font-color2);\n",
              "}\n",
              "\n",
              ".xr-var-preview {\n",
              "  grid-column: 4;\n",
              "}\n",
              "\n",
              ".xr-var-name,\n",
              ".xr-var-dims,\n",
              ".xr-var-dtype,\n",
              ".xr-preview,\n",
              ".xr-attrs dt {\n",
              "  white-space: nowrap;\n",
              "  overflow: hidden;\n",
              "  text-overflow: ellipsis;\n",
              "  padding-right: 10px;\n",
              "}\n",
              "\n",
              ".xr-var-name:hover,\n",
              ".xr-var-dims:hover,\n",
              ".xr-var-dtype:hover,\n",
              ".xr-attrs dt:hover {\n",
              "  overflow: visible;\n",
              "  width: auto;\n",
              "  z-index: 1;\n",
              "}\n",
              "\n",
              ".xr-var-attrs,\n",
              ".xr-var-data {\n",
              "  display: none;\n",
              "  background-color: var(--xr-background-color) !important;\n",
              "  padding-bottom: 5px !important;\n",
              "}\n",
              "\n",
              ".xr-var-attrs-in:checked ~ .xr-var-attrs,\n",
              ".xr-var-data-in:checked ~ .xr-var-data {\n",
              "  display: block;\n",
              "}\n",
              "\n",
              ".xr-var-data > table {\n",
              "  float: right;\n",
              "}\n",
              "\n",
              ".xr-var-name span,\n",
              ".xr-var-data,\n",
              ".xr-attrs {\n",
              "  padding-left: 25px !important;\n",
              "}\n",
              "\n",
              ".xr-attrs,\n",
              ".xr-var-attrs,\n",
              ".xr-var-data {\n",
              "  grid-column: 1 / -1;\n",
              "}\n",
              "\n",
              "dl.xr-attrs {\n",
              "  padding: 0;\n",
              "  margin: 0;\n",
              "  display: grid;\n",
              "  grid-template-columns: 125px auto;\n",
              "}\n",
              "\n",
              ".xr-attrs dt,\n",
              ".xr-attrs dd {\n",
              "  padding: 0;\n",
              "  margin: 0;\n",
              "  float: left;\n",
              "  padding-right: 10px;\n",
              "  width: auto;\n",
              "}\n",
              "\n",
              ".xr-attrs dt {\n",
              "  font-weight: normal;\n",
              "  grid-column: 1;\n",
              "}\n",
              "\n",
              ".xr-attrs dt:hover span {\n",
              "  display: inline-block;\n",
              "  background: var(--xr-background-color);\n",
              "  padding-right: 10px;\n",
              "}\n",
              "\n",
              ".xr-attrs dd {\n",
              "  grid-column: 2;\n",
              "  white-space: pre-wrap;\n",
              "  word-break: break-all;\n",
              "}\n",
              "\n",
              ".xr-icon-database,\n",
              ".xr-icon-file-text2 {\n",
              "  display: inline-block;\n",
              "  vertical-align: middle;\n",
              "  width: 1em;\n",
              "  height: 1.5em !important;\n",
              "  stroke-width: 0;\n",
              "  stroke: currentColor;\n",
              "  fill: currentColor;\n",
              "}\n",
              "</style><pre class='xr-text-repr-fallback'>&lt;xarray.DataArray (y: 416, x: 468)&gt;\n",
              "array([[-200., -200., -200., ..., -200., -200., -200.],\n",
              "       [-200., -200., -200., ..., -200., -200., -200.],\n",
              "       [-200., -200., -200., ..., -200., -200., -200.],\n",
              "       ...,\n",
              "       [-200., -200., -200., ..., -200., -200., -200.],\n",
              "       [-200., -200., -200., ..., -200., -200., -200.],\n",
              "       [-200., -200., -200., ..., -200., -200., -200.]], dtype=float32)\n",
              "Coordinates:\n",
              "    band     int64 1\n",
              "  * y        (y) float64 -2.822e+06 -2.822e+06 ... -2.926e+06 -2.926e+06\n",
              "  * x        (x) float64 -4.482e+06 -4.482e+06 ... -4.365e+06 -4.365e+06\n",
              "Attributes:\n",
              "    transform:      (250.0, 0.0, -4482000.0, 0.0, -250.0, -2822000.0)\n",
              "    crs:            +proj=moll +lon_0=0 +x_0=0 +y_0=0 +datum=WGS84 +units=m +...\n",
              "    res:            (250.0, 250.0)\n",
              "    is_tiled:       0\n",
              "    nodatavals:     (-200.0,)\n",
              "    scales:         (1.0,)\n",
              "    offsets:        (0.0,)\n",
              "    AREA_OR_POINT:  Area\n",
              "    grid_mapping:   spatial_ref</pre><div class='xr-wrap' style='display:none'><div class='xr-header'><div class='xr-obj-type'>xarray.DataArray</div><div class='xr-array-name'></div><ul class='xr-dim-list'><li><span class='xr-has-index'>y</span>: 416</li><li><span class='xr-has-index'>x</span>: 468</li></ul></div><ul class='xr-sections'><li class='xr-section-item'><div class='xr-array-wrap'><input id='section-33d11f77-e954-41b7-9b30-1f98084a21fb' class='xr-array-in' type='checkbox' checked><label for='section-33d11f77-e954-41b7-9b30-1f98084a21fb' title='Show/hide data repr'><svg class='icon xr-icon-database'><use xlink:href='#icon-database'></use></svg></label><div class='xr-array-preview xr-preview'><span>-200.0 -200.0 -200.0 -200.0 -200.0 ... -200.0 -200.0 -200.0 -200.0</span></div><div class='xr-array-data'><pre>array([[-200., -200., -200., ..., -200., -200., -200.],\n",
              "       [-200., -200., -200., ..., -200., -200., -200.],\n",
              "       [-200., -200., -200., ..., -200., -200., -200.],\n",
              "       ...,\n",
              "       [-200., -200., -200., ..., -200., -200., -200.],\n",
              "       [-200., -200., -200., ..., -200., -200., -200.],\n",
              "       [-200., -200., -200., ..., -200., -200., -200.]], dtype=float32)</pre></div></div></li><li class='xr-section-item'><input id='section-0f60320d-573a-4065-9968-a8964837c552' class='xr-section-summary-in' type='checkbox'  checked><label for='section-0f60320d-573a-4065-9968-a8964837c552' class='xr-section-summary' >Coordinates: <span>(3)</span></label><div class='xr-section-inline-details'></div><div class='xr-section-details'><ul class='xr-var-list'><li class='xr-var-item'><div class='xr-var-name'><span>band</span></div><div class='xr-var-dims'>()</div><div class='xr-var-dtype'>int64</div><div class='xr-var-preview xr-preview'>1</div><input id='attrs-733b8c1a-f5fc-4530-a922-009831b2d8e5' class='xr-var-attrs-in' type='checkbox' disabled><label for='attrs-733b8c1a-f5fc-4530-a922-009831b2d8e5' title='Show/Hide attributes'><svg class='icon xr-icon-file-text2'><use xlink:href='#icon-file-text2'></use></svg></label><input id='data-4fcfb503-3a19-4411-a8ea-6c1be876f5ac' class='xr-var-data-in' type='checkbox'><label for='data-4fcfb503-3a19-4411-a8ea-6c1be876f5ac' title='Show/Hide data repr'><svg class='icon xr-icon-database'><use xlink:href='#icon-database'></use></svg></label><div class='xr-var-attrs'><dl class='xr-attrs'></dl></div><div class='xr-var-data'><pre>array(1)</pre></div></li><li class='xr-var-item'><div class='xr-var-name'><span class='xr-has-index'>y</span></div><div class='xr-var-dims'>(y)</div><div class='xr-var-dtype'>float64</div><div class='xr-var-preview xr-preview'>-2.822e+06 ... -2.926e+06</div><input id='attrs-a4113828-7dff-42c2-83cf-8dcde187085b' class='xr-var-attrs-in' type='checkbox' disabled><label for='attrs-a4113828-7dff-42c2-83cf-8dcde187085b' title='Show/Hide attributes'><svg class='icon xr-icon-file-text2'><use xlink:href='#icon-file-text2'></use></svg></label><input id='data-788a1ba6-2e85-467f-a8eb-66427fd541bf' class='xr-var-data-in' type='checkbox'><label for='data-788a1ba6-2e85-467f-a8eb-66427fd541bf' title='Show/Hide data repr'><svg class='icon xr-icon-database'><use xlink:href='#icon-database'></use></svg></label><div class='xr-var-attrs'><dl class='xr-attrs'></dl></div><div class='xr-var-data'><pre>array([-2822125., -2822375., -2822625., ..., -2925375., -2925625., -2925875.])</pre></div></li><li class='xr-var-item'><div class='xr-var-name'><span class='xr-has-index'>x</span></div><div class='xr-var-dims'>(x)</div><div class='xr-var-dtype'>float64</div><div class='xr-var-preview xr-preview'>-4.482e+06 ... -4.365e+06</div><input id='attrs-c153c2e1-df5b-4461-9406-4d11e05d786b' class='xr-var-attrs-in' type='checkbox' disabled><label for='attrs-c153c2e1-df5b-4461-9406-4d11e05d786b' title='Show/Hide attributes'><svg class='icon xr-icon-file-text2'><use xlink:href='#icon-file-text2'></use></svg></label><input id='data-2eb51e2e-8ff0-4692-98a9-28f8151fdfa0' class='xr-var-data-in' type='checkbox'><label for='data-2eb51e2e-8ff0-4692-98a9-28f8151fdfa0' title='Show/Hide data repr'><svg class='icon xr-icon-database'><use xlink:href='#icon-database'></use></svg></label><div class='xr-var-attrs'><dl class='xr-attrs'></dl></div><div class='xr-var-data'><pre>array([-4481875., -4481625., -4481375., ..., -4365625., -4365375., -4365125.])</pre></div></li></ul></div></li><li class='xr-section-item'><input id='section-bb216a1f-697a-4704-8570-07e3aab43fb0' class='xr-section-summary-in' type='checkbox'  checked><label for='section-bb216a1f-697a-4704-8570-07e3aab43fb0' class='xr-section-summary' >Attributes: <span>(9)</span></label><div class='xr-section-inline-details'></div><div class='xr-section-details'><dl class='xr-attrs'><dt><span>transform :</span></dt><dd>(250.0, 0.0, -4482000.0, 0.0, -250.0, -2822000.0)</dd><dt><span>crs :</span></dt><dd>+proj=moll +lon_0=0 +x_0=0 +y_0=0 +datum=WGS84 +units=m +no_defs=True</dd><dt><span>res :</span></dt><dd>(250.0, 250.0)</dd><dt><span>is_tiled :</span></dt><dd>0</dd><dt><span>nodatavals :</span></dt><dd>(-200.0,)</dd><dt><span>scales :</span></dt><dd>(1.0,)</dd><dt><span>offsets :</span></dt><dd>(0.0,)</dd><dt><span>AREA_OR_POINT :</span></dt><dd>Area</dd><dt><span>grid_mapping :</span></dt><dd>spatial_ref</dd></dl></div></li></ul></div></div>"
            ]
          },
          "metadata": {},
          "execution_count": 70
        }
      ]
    },
    {
      "cell_type": "code",
      "source": [
        "pop.where(pop >= 0).plot(cmap=\"RdPu\");"
      ],
      "metadata": {
        "colab": {
          "base_uri": "https://localhost:8080/",
          "height": 295
        },
        "id": "BcU0GODE43Yx",
        "outputId": "31ec7caa-749f-496a-f1c0-a1ac5346488f"
      },
      "execution_count": 75,
      "outputs": [
        {
          "output_type": "display_data",
          "data": {
            "text/plain": [
              "<Figure size 432x288 with 2 Axes>"
            ],
            "image/png": "[encoded data removed]"
          },
          "metadata": {
            "needs_background": "light"
          }
        }
      ]
    },
    {
      "cell_type": "code",
      "source": [
        "graph = osmnx.graph_from_point((7.775813263762137, 4.545583580644855), dist=200)"
      ],
      "metadata": {
        "id": "DkBDVvKQ5K4b"
      },
      "execution_count": 84,
      "outputs": []
    },
    {
      "cell_type": "code",
      "source": [
        "type(graph)"
      ],
      "metadata": {
        "colab": {
          "base_uri": "https://localhost:8080/"
        },
        "id": "KxJRe8Qc52wH",
        "outputId": "87017d26-0386-4d19-e11c-3a5ec5e292f1"
      },
      "execution_count": 85,
      "outputs": [
        {
          "output_type": "execute_result",
          "data": {
            "text/plain": [
              "networkx.classes.multidigraph.MultiDiGraph"
            ]
          },
          "metadata": {},
          "execution_count": 85
        }
      ]
    },
    {
      "cell_type": "code",
      "source": [
        "osmnx.plot_graph(graph);"
      ],
      "metadata": {
        "colab": {
          "base_uri": "https://localhost:8080/",
          "height": 466
        },
        "id": "JoHsQQLC7o6Z",
        "outputId": "7f144a17-65a5-497a-86b1-5050935d7c18"
      },
      "execution_count": 86,
      "outputs": [
        {
          "output_type": "display_data",
          "data": {
            "text/plain": [
              "<Figure size 576x576 with 1 Axes>"
            ],
            "image/png": "[encoded data removed]"
          },
          "metadata": {}
        }
      ]
    },
    {
      "cell_type": "code",
      "source": [
        "len(graph.nodes)"
      ],
      "metadata": {
        "colab": {
          "base_uri": "https://localhost:8080/"
        },
        "id": "0PZJw9nx990Q",
        "outputId": "99b95f2c-a928-47c2-a370-a68071a50066"
      },
      "execution_count": 90,
      "outputs": [
        {
          "output_type": "execute_result",
          "data": {
            "text/plain": [
              "21"
            ]
          },
          "metadata": {},
          "execution_count": 90
        }
      ]
    },
    {
      "cell_type": "code",
      "source": [
        "graph.edges"
      ],
      "metadata": {
        "colab": {
          "base_uri": "https://localhost:8080/"
        },
        "id": "zuf48WWNCsKp",
        "outputId": "673fe320-d040-4340-f363-c317d6628cdf"
      },
      "execution_count": 88,
      "outputs": [
        {
          "output_type": "execute_result",
          "data": {
            "text/plain": [
              "OutMultiEdgeView([(1827414724, 1964870793, 0), (1827414724, 5235822312, 0), (1964870787, 3391605665, 0), (1964870787, 5235822300, 0), (1964870793, 3343875225, 0), (1964870793, 3391589652, 0), (2295273220, 3391589633, 0), (2295273220, 1964870787, 0), (3343875225, 5235822313, 0), (3343875225, 3391605657, 0), (3391589633, 2295273220, 0), (3391589639, 3391589640, 0), (3391589640, 6649094911, 0), (3391589646, 3391589652, 0), (3391589646, 1964870793, 0), (3391605657, 5235822305, 0), (3391605657, 1827414724, 0), (3391605664, 3391605666, 0), (3391605665, 3391605666, 0), (3391605665, 1964870787, 0), (3391605666, 3391605665, 0), (3391605666, 3391605664, 0), (5235822300, 3391605657, 0), (5235822300, 5235822305, 0), (5235822305, 3391605664, 0), (5235822312, 9550975988, 0), (5235822313, 3391589633, 0), (6649094911, 5235822313, 0), (6649094911, 3343875225, 0), (6649094919, 1827414724, 0), (6649094919, 5235822312, 0)])"
            ]
          },
          "metadata": {},
          "execution_count": 88
        }
      ]
    },
    {
      "cell_type": "code",
      "source": [
        "graph.nodes[1964870787]"
      ],
      "metadata": {
        "colab": {
          "base_uri": "https://localhost:8080/"
        },
        "id": "y1cWGHI4CvT_",
        "outputId": "67adc5aa-c293-4f33-ea62-9e8ab1cb4752"
      },
      "execution_count": 89,
      "outputs": [
        {
          "output_type": "execute_result",
          "data": {
            "text/plain": [
              "{'street_count': 3, 'x': 4.5462598, 'y': 7.7754342}"
            ]
          },
          "metadata": {},
          "execution_count": 89
        }
      ]
    },
    {
      "cell_type": "code",
      "source": [
        "from pysal.lib import weights"
      ],
      "metadata": {
        "id": "hlftFi8PLQ-2"
      },
      "execution_count": 99,
      "outputs": []
    },
    {
      "cell_type": "code",
      "source": [
        ""
      ],
      "metadata": {
        "id": "jmX9XmpSC7ML"
      },
      "execution_count": 98,
      "outputs": []
    },
    {
      "cell_type": "code",
      "source": [
        ""
      ],
      "metadata": {
        "id": "_GupWXKlLL-7"
      },
      "execution_count": null,
      "outputs": []
    }
  ]
}